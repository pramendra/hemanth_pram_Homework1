{
  "nbformat": 4,
  "nbformat_minor": 0,
  "metadata": {
    "colab": {
      "name": "distribute_HW1.ipynb",
      "provenance": [],
      "collapsed_sections": [
        "agIKGBkVlm6G",
        "Kd_0dzuslm7B",
        "Fc8dNE4nlm7t",
        "EEWBhVhQlm74",
        "P_G84LnUlm8p",
        "r33k0Rv9lm9M",
        "EBJ95eXwlm-i",
        "lg-gMIZTlm_B",
        "vkU3G3UDH6yn",
        "bhy0LnUiIIjE"
      ],
      "toc_visible": true,
      "include_colab_link": true
    },
    "kernelspec": {
      "display_name": "Python 3",
      "language": "python",
      "name": "python3"
    },
    "language_info": {
      "codemirror_mode": {
        "name": "ipython",
        "version": 3
      },
      "file_extension": ".py",
      "mimetype": "text/x-python",
      "name": "python",
      "nbconvert_exporter": "python",
      "pygments_lexer": "ipython3",
      "version": "3.7.6"
    }
  },
  "cells": [
    {
      "cell_type": "markdown",
      "metadata": {
        "id": "view-in-github",
        "colab_type": "text"
      },
      "source": [
        "<a href=\"https://colab.research.google.com/github/pramendra/hemanth_pram_Homework1/blob/master/distribute_HW1.ipynb\" target=\"_parent\"><img src=\"https://colab.research.google.com/assets/colab-badge.svg\" alt=\"Open In Colab\"/></a>"
      ]
    },
    {
      "cell_type": "markdown",
      "metadata": {
        "id": "hTAwWJ5Qlmwk"
      },
      "source": [
        "<img src=\"https://drive.google.com/uc?export=view&id=1nMaBQ7g88duMECw_B4mH8ruxwnIwVzGP\" width=300/> \n",
        "\n",
        "# ML-1: Exploratory Data Analysis, Visualisation & Modeling\n",
        "## Homework 1: Who is the best singer ever?\n",
        "\n",
        "**ML-1 Cohort 1** <br>\n",
        "**Instructor: Dr. Rahul Dave**<br>\n",
        "**Max Score: 100** <br>"
      ]
    },
    {
      "cell_type": "markdown",
      "metadata": {
        "id": "Bv36XfX2X_Sh"
      },
      "source": [
        "Name of people who have worked on this homework:\r\n",
        "\r\n",
        "* Pramendra Gupta\r\n",
        "* Venkata Hemanth Reddy Sanivarapu\r\n",
        "\r\n",
        "\r\n",
        "\r\n",
        "\r\n"
      ]
    },
    {
      "cell_type": "markdown",
      "metadata": {
        "id": "RZLSPjS6_8GD"
      },
      "source": [
        "## Table of Contents \r\n",
        "* [HW-1: Who is the best singer ever?](#HW-1:-Who-is-the-best-singer-ever?)\r\n",
        "  * [Instructions](##Instructions)\r\n",
        "  * [Learning Goals](##Learning-Goals)\r\n",
        "  * [Q1: Scrape and Parse Wikipedia for Billboard Top 100](##Q1:-Scrape-and-Parse-Wikipedia-for-Billboard-Top-100)\r\n",
        "    * [1.1 Scrape and Parse the Billboard Wikipedia's page for 1970](###1.1-Scrape-and-Parse-the-Billboard-Wikipedia's-page-for-1970)\r\n",
        "    * [1.2 Scrape Billboard Wikipedia's pages from 1992 to 2020](###1.2-Scrape-Billboard-Wikipedia's-pages-from-1992-to-2020)\r\n",
        "    * [1.3 Parse the data](###1.3-Parse-the-data)\r\n",
        "  * [Q2: Construct a year-song-singer dataframe](##Q2:-Construct-a-year-song-singer-dataframe)\r\n",
        "  * [Q3: Scrape and Parse Wikipedia for Information about Artists and Bands](##Q3:-Scrape-and-Parse-Wikipedia-for-Information-about-Artists-and-Bands)\r\n",
        "    * [3.1 Scrape the artist's Wikipedia webpages](###3.1-Scrape-the-artist's-Wikipedia-webpages)\r\n",
        "    * [3.2 Parse the data](###3.2-Parse-the-data)\r\n",
        "  * [Q4: Merging Artist's and Song dataframes](##Q4:-Merging-Artist's-and-Song-dataframes)\r\n",
        "  * [Q5: Pandas and Relational databases](##Q5:-Pandas-and-Relational-databases)\r\n",
        "    * [5.1 Populating the database](###5.1-Populating-the-database)\r\n",
        "    * [5.2 Performing operations on the database](####5.2-Performing-operations-on-the-database)\r\n",
        "      * [5.2.1 Select all singers below the age of 20 whos Zodiac Sign is Scorpio!](####5.2.1-Select-all-singers-below-the-age-of-20-whos-Zodiac-Sign-is-Scorpio!)\r\n",
        "      * [5.2.2 Find the most popular artists with most appearances in Billboard Top 10](####5.2.2-Find-the-most-popular-artists-with-most-appearances-in-Billboard-Top-10)\r\n",
        "      * [5.2.3 Select all songs with ranking less than 6 and order the rows by artist name](####5.2.3-Select-all-songs-with-ranking-less-than-6-and-order-the-rows-by-artist-name)\r\n"
      ]
    },
    {
      "cell_type": "markdown",
      "metadata": {
        "id": "vym0YdCZYCeS"
      },
      "source": [
        "## Instructions"
      ]
    },
    {
      "cell_type": "markdown",
      "metadata": {
        "id": "PMkXfrJWYDtC"
      },
      "source": [
        "- This homework should be submitted in pairs.\r\n",
        "\r\n",
        "- Ensure you and your partner together have submitted the homework only once. Multiple submissions of the same work will be penalised and will cost you 2 points.\r\n",
        "\r\n",
        "- Please restart the kernel and run the entire notebook again before you submit.\r\n",
        "\r\n",
        "- Running cells out of order is a common pitfall in Notebooks. To make sure your code works restart the kernel and run the whole notebook again before you submit. \r\n",
        "\r\n",
        "- To work on the homework, you will first need to fork the repository into your GitHub account and clone it to work on it on your local computer. To submit your homework, push your homework into the same GitHub and upload the link on edStem.\r\n",
        "\r\n",
        "- Submit the homework well before the given deadline. Submissions after the deadline will not be graded.\r\n",
        "\r\n",
        "- We have tried to include all the libraries you may need to do the assignment in the imports statement at the top of this notebook. We strongly suggest that you use those and not others as we may not be familiar with them.\r\n",
        "\r\n",
        "- Comment your code well. This would help the graders in case there is any issue with the notebook while running. It is important to remember that the graders will not troubleshoot your code. \r\n",
        "\r\n",
        "- Please use .head() when viewing data. Do not submit a notebook that is **excessively long**. \r\n",
        "\r\n",
        "- In questions that require code to answer, such as \"calculate the $R^2$\", do not just output the value from a cell. Write a `print()` function that includes a reference to the calculated value, **not hardcoded**. For example: \r\n",
        "```\r\n",
        "print(f'The R^2 is {R:.4f}')\r\n",
        "```\r\n",
        "- Your plots should include clear labels for the $x$ and $y$ axes as well as a descriptive title (\"MSE plot\" is not a descriptive title; \"95 % confidence interval of coefficients of polynomial degree 5\" is).\r\n",
        "\r\n",
        "- **Ensure you make appropriate plots for all the questions it is applicable to, regardless of it being explicitly asked for.**\r\n",
        "\r\n",
        "<hr style=\"height:2pt\">"
      ]
    },
    {
      "cell_type": "markdown",
      "metadata": {
        "id": "Zv8VWFhP_32L"
      },
      "source": [
        "## Learning Goals"
      ]
    },
    {
      "cell_type": "markdown",
      "metadata": {
        "id": "WmqsUs9Olm18"
      },
      "source": [
        "Billboard Magazine puts out a top 100 list of \"singles\" every **year**. \n",
        "In the next two homeworks, you will scrape Wikipedia to try to understand how the public's taste in music has evolved. You will do this by learning about the best singers and groups from each year as determined by the Billboard top 100 charts.\n",
        "\n",
        "This homework consists of five main parts:\n",
        "\n",
        "1. Scraping and Parsing [Wikipedia's Billboard Top 100 singles](https://en.wikipedia.org/wiki/Billboard_Year-End_Hot_100_singles_of_2020) list for every year <br>\n",
        "2. Constructing a year-song-singer dataframe from the scraped data\n",
        "3. Scraping and Parsing Wikipedia's information about the Artists from these Songs \n",
        "4. Merging in both the above dataframes \n",
        "5. Using a Relational Database to perform SQL queries"
      ]
    },
    {
      "cell_type": "markdown",
      "metadata": {
        "id": "EUHkcabZlm2Q"
      },
      "source": [
        "This homework will help develop your skills in:\n",
        "\n",
        "- Web page scraping\n",
        "- Data cleaning and manipulation\n",
        "- Pandas and SQL"
      ]
    },
    {
      "cell_type": "markdown",
      "metadata": {
        "id": "GW_1toqQlm21"
      },
      "source": [
        "---"
      ]
    },
    {
      "cell_type": "code",
      "metadata": {
        "id": "deZ11vb4lm3e",
        "jupyter": {
          "outputs_hidden": false
        }
      },
      "source": [
        "#Import libraries\n",
        "%matplotlib inline\n",
        "import numpy as np\n",
        "import matplotlib.pyplot as plt\n",
        "import pandas as pd\n",
        "import time\n",
        "import json\n",
        "import re\n",
        "import requests"
      ],
      "execution_count": 18,
      "outputs": []
    },
    {
      "cell_type": "markdown",
      "metadata": {
        "id": "X4necLqglm3p"
      },
      "source": [
        "## Q1: Scrape and Parse Wikipedia for Billboard Top 100\n",
        "#### [20 Points]"
      ]
    },
    {
      "cell_type": "markdown",
      "metadata": {
        "id": "3_ajVEDhlm3t"
      },
      "source": [
        "In this first question you will scrape wikipedia for Billboard's top 100.\r\n",
        "\r\n",
        "We will be using [BeautifulSoup](http://www.crummy.com/software/BeautifulSoup/) to transform HTML content into Python data structures. There are other libraries such as [PyQuery](https://pythonhosted.org/pyquery/) (for people who have used [jQuery](https://jquery.com/) that can also be used)."
      ]
    },
    {
      "cell_type": "code",
      "metadata": {
        "id": "c4bbGU0glm3_",
        "jupyter": {
          "outputs_hidden": false
        }
      },
      "source": [
        "#Import Beautiful Soup\r\n",
        "from bs4 import BeautifulSoup"
      ],
      "execution_count": 19,
      "outputs": []
    },
    {
      "cell_type": "markdown",
      "metadata": {
        "id": "54udQNZ-lm4F"
      },
      "source": [
        "### 1.1 Scrape and Parse the Billboard Wikipedia's page for 1970"
      ]
    },
    {
      "cell_type": "markdown",
      "metadata": {
        "id": "MtxCwDBqlm4f"
      },
      "source": [
        "Use python's `requests` module to obtain (GET) the web page at http://en.wikipedia.org/wiki/Billboard_Year-End_Hot_100_singles_of_1970. \n",
        "From this web page, extract the top 100 singles and their rankings. \n",
        "\n",
        "\n",
        "To do this, create a list of dictionaries, 100 of them to be precise, with the following entries: `{'url': '/wiki/Sugarloaf_(band)', 'ranking': 30, 'band_singer': 'Sugarloaf', 'title': 'Green-Eyed Lady'}`. \n",
        "\n",
        "Name this list of dictionaries `songs`.\n",
        "\n",
        "\n",
        "Here, `url` should be the link for the singer or band (observe that on the web page, there is a link for every song and artist), `ranking` is the ranking of the song, `band_singer` should be the name of the artist(s) and `title` should be the title of the song.\n",
        "\n",
        "\n",
        "We are extracting the `url` of the artist(s) to use at a later stage in the homework."
      ]
    },
    {
      "cell_type": "markdown",
      "metadata": {
        "id": "k1srjTzGlm4t"
      },
      "source": [
        "*Hint:*\n",
        "While parsing the HTML, look for the HTML _tr_ (table row) element, but only the one that has a CSS class of _wikitable_. If you look at the page source, you'll see a construct like __class=wikitable__ on the table as seen below:\n",
        "\n",
        "\n",
        "\n",
        "![Wikipage](\n",
        "https://drive.google.com/uc?export=view&id=1ntewsqyZVH6_RETloTQgrWIyQJAa_02D) "
      ]
    },
    {
      "cell_type": "code",
      "metadata": {
        "id": "teLpU_AZlm4o",
        "jupyter": {
          "outputs_hidden": false
        },
        "colab": {
          "base_uri": "https://localhost:8080/"
        },
        "outputId": "a28c755a-0af4-4461-f8d2-eae29aee5e1b"
      },
      "source": [
        "#Get the webpage\r\n",
        "t1970=requests.get(\"http://en.wikipedia.org/wiki/Billboard_Year-End_Hot_100_singles_of_1970\")\r\n",
        "t1970.status_code"
      ],
      "execution_count": 53,
      "outputs": [
        {
          "output_type": "execute_result",
          "data": {
            "text/plain": [
              "200"
            ]
          },
          "metadata": {
            "tags": []
          },
          "execution_count": 53
        }
      ]
    },
    {
      "cell_type": "code",
      "metadata": {
        "id": "6p7QBSodlm41",
        "jupyter": {
          "outputs_hidden": false
        },
        "scrolled": true
      },
      "source": [
        "#Parsing the webpage\n",
        "\n",
        "def list_text_with_pipe(list_text):\n",
        "  # return \"|\".join(list_text)\n",
        "  return list_text\n",
        "  \n",
        "def clean_text(text):\n",
        "  # return text.replace('\\\\', '').replace('\\n', '').strip('\\\"')\n",
        "  return text.replace('\\\\', '').replace('\\n', '')\n",
        "\n",
        "\n",
        "def get_ranking(soup):\n",
        "  text = soup.getText()\n",
        "  return clean_text(text)\n",
        "\n",
        "def get_title(soup):\n",
        "  titles = [clean_text(link.getText()) for link in soup.find_all('a')]\n",
        "  return list_text_with_pipe(titles)\n",
        "\n",
        "def get_band_singer(soup):\n",
        "  singes = [clean_text(link.getText()) for link in soup.find_all('a')]\n",
        "  return list_text_with_pipe(singes)\n",
        "\n",
        "def get_band_singer_URL(soup):\n",
        "  links = [clean_text(link.get('href')) for link in soup.find_all('a')]\n",
        "  return list_text_with_pipe(links)\n",
        "\n",
        "def get_single_from_row(row):\n",
        "  singles_list_item = {}\n",
        "  for i, cell in enumerate(row.find_all([\"td\", \"th\"])):\n",
        "    if (i == 0):\n",
        "      singles_list_item[\"ranking\"] = get_ranking(cell)\n",
        "    elif (i == 1):\n",
        "      singles_list_item[\"title\"] = get_title(cell)\n",
        "    elif (i == 2):\n",
        "      singles_list_item[\"band_singer\"] = get_band_singer(cell)\n",
        "      singles_list_item[\"url\"] = get_band_singer_URL(cell)\n",
        "  return singles_list_item\n",
        "\n",
        "def build_singles_list(html):\n",
        "  singles_list = []\n",
        "  soup = BeautifulSoup(html, 'html.parser')\n",
        "  table = soup.find(\"table\", \"wikitable\")\n",
        "  tableRows = table.find_all(\"tr\")\n",
        "  del tableRows[0]\n",
        "  for row in tableRows:\n",
        "    singles_list_item = get_single_from_row(row)\n",
        "    singles_list.append(singles_list_item)\n",
        "\n",
        "  # singles_list.append(get_single_from_row(tableRows[12]))\n",
        "  return singles_list"
      ],
      "execution_count": 134,
      "outputs": []
    },
    {
      "cell_type": "code",
      "metadata": {
        "colab": {
          "base_uri": "https://localhost:8080/"
        },
        "id": "p0LFoaUnKBCw",
        "outputId": "ad847699-d751-4674-a826-d552a36f5841"
      },
      "source": [
        "# t2020=requests.get(\"http://en.wikipedia.org/wiki/Billboard_Year-End_Hot_100_singles_of_2020\")\n",
        "singles_list = build_singles_list(t1970.text)\n",
        "print(len(singles_list) == 100)"
      ],
      "execution_count": 135,
      "outputs": [
        {
          "output_type": "stream",
          "text": [
            "True\n"
          ],
          "name": "stdout"
        }
      ]
    },
    {
      "cell_type": "code",
      "metadata": {
        "colab": {
          "base_uri": "https://localhost:8080/"
        },
        "id": "e6sXLteoYlFU",
        "outputId": "b11b4f06-8b0a-4c08-f7a7-d20ccab71e20"
      },
      "source": [
        "singles_list[0]"
      ],
      "execution_count": 97,
      "outputs": [
        {
          "output_type": "execute_result",
          "data": {
            "text/plain": [
              "{'band_singer': ['The Weeknd'],\n",
              " 'ranking': '1',\n",
              " 'title': ['Blinding Lights'],\n",
              " 'url': ['/wiki/The_Weeknd']}"
            ]
          },
          "metadata": {
            "tags": []
          },
          "execution_count": 97
        }
      ]
    },
    {
      "cell_type": "markdown",
      "metadata": {
        "id": "w6wf4pqKlm48"
      },
      "source": [
        "### 1.2 Scrape Billboard Wikipedia's pages from 1992 to 2020 \r\n",
        "\r\n"
      ]
    },
    {
      "cell_type": "markdown",
      "metadata": {
        "id": "3Spk5hLjlm4_"
      },
      "source": [
        "By visiting urls similar to the one for 1970, we can obtain the billboard top 100 for the years 1992 to 2020. \r\n",
        "\r\n",
        "Store the text from your `requests` in a dictionary called `yearstext`. \r\n",
        "This dictionary should have as its keys the years (as integers from 1992 to 2020). The values corresponding to these keys should be the html text downloaded from Wikipedia.<br>\r\n",
        "So, each entry in `yearstext` will look something like this:\r\n",
        "\r\n",
        "![yearstext](https://drive.google.com/uc?export=view&id=16LNIyznVnAY-N5EN6lsSB9505fXG1-zK)\r\n",
        "\r\n",
        "where the key is 1992 and the value is the HTML at http://en.wikipedia.org/wiki/Billboard_Year-End_Hot_100_singles_of_1992."
      ]
    },
    {
      "cell_type": "markdown",
      "metadata": {
        "id": "8G3NooTslm5H"
      },
      "source": [
        "*Hint*:\n",
        "Put your requests.get() in a `for` loop and keep appending the text from your requests into the dictionary. Use the `time.sleep` function to wait one second between requests, you do not want Wikipedia to think you are a marauding bot attempting to mount a denial-of-service attack."
      ]
    },
    {
      "cell_type": "code",
      "metadata": {
        "id": "WmWtNV42lm5Q"
      },
      "source": [
        "#your code here\n",
        "yearstext = {}\n",
        "for year in range (1992, 2021):\n",
        "  url = \"https://en.wikipedia.org/wiki/Billboard_Year-End_Hot_100_singles_of_\" + str(year)\n",
        "  yearstext[year] = requests.get(url).text\n",
        "  time.sleep(1)"
      ],
      "execution_count": 98,
      "outputs": []
    },
    {
      "cell_type": "code",
      "metadata": {
        "colab": {
          "base_uri": "https://localhost:8080/",
          "height": 103
        },
        "id": "5IIr31BZJUV0",
        "outputId": "a7f47cab-b38d-406a-959d-3392ada2fc15"
      },
      "source": [
        "yearstext[1992]"
      ],
      "execution_count": 99,
      "outputs": [
        {
          "output_type": "execute_result",
          "data": {
            "application/vnd.google.colaboratory.intrinsic+json": {
              "type": "string"
            },
            "text/plain": [
              "'<!DOCTYPE html>\\n<html class=\"client-nojs\" lang=\"en\" dir=\"ltr\">\\n<head>\\n<meta charset=\"UTF-8\"/>\\n<title>Billboard Year-End Hot 100 singles of 1992 - Wikipedia</title>\\n<script>document.documentElement.className=\"client-js\";RLCONF={\"wgBreakFrames\":!1,\"wgSeparatorTransformTable\":[\"\",\"\"],\"wgDigitTransformTable\":[\"\",\"\"],\"wgDefaultDateFormat\":\"dmy\",\"wgMonthNames\":[\"\",\"January\",\"February\",\"March\",\"April\",\"May\",\"June\",\"July\",\"August\",\"September\",\"October\",\"November\",\"December\"],\"wgRequestId\":\"YBW2PApAMM4AAtSRXAMAAAEC\",\"wgCSPNonce\":!1,\"wgCanonicalNamespace\":\"\",\"wgCanonicalSpecialPageName\":!1,\"wgNamespaceNumber\":0,\"wgPageName\":\"Billboard_Year-End_Hot_100_singles_of_1992\",\"wgTitle\":\"Billboard Year-End Hot 100 singles of 1992\",\"wgCurRevisionId\":979637208,\"wgRevisionId\":979637208,\"wgArticleId\":24333129,\"wgIsArticle\":!0,\"wgIsRedirect\":!1,\"wgAction\":\"view\",\"wgUserName\":null,\"wgUserGroups\":[\"*\"],\"wgCategories\":[\"1992 record charts\",\"Billboard charts\"],\"wgPageContentLanguage\":\"en\",\"wgPageContentModel\":\"wikitext\",\"wgRelevantPageName\":\"Billboard_Year-End_Hot_100_singles_of_1992\",\"wgRelevantArticleId\":24333129,\"wgIsProbablyEditable\":!0,\\n\"wgRelevantPageIsProbablyEditable\":!0,\"wgRestrictionEdit\":[],\"wgRestrictionMove\":[],\"wgMediaViewerOnClick\":!0,\"wgMediaViewerEnabledByDefault\":!0,\"wgPopupsReferencePreviews\":!1,\"wgPopupsConflictsWithNavPopupGadget\":!1,\"wgPopupsConflictsWithRefTooltipsGadget\":!0,\"wgVisualEditor\":{\"pageLanguageCode\":\"en\",\"pageLanguageDir\":\"ltr\",\"pageVariantFallbacks\":\"en\"},\"wgMFDisplayWikibaseDescriptions\":{\"search\":!0,\"nearby\":!0,\"watchlist\":!0,\"tagline\":!1},\"wgWMESchemaEditAttemptStepOversample\":!1,\"wgULSCurrentAutonym\":\"English\",\"wgNoticeProject\":\"wikipedia\",\"wgCentralAuthMobileDomain\":!1,\"wgEditSubmitButtonLabelPublish\":!0,\"wgULSPosition\":\"interlanguage\",\"wgWikibaseItemId\":\"Q1415621\"};RLSTATE={\"ext.globalCssJs.user.styles\":\"ready\",\"site.styles\":\"ready\",\"noscript\":\"ready\",\"user.styles\":\"ready\",\"ext.globalCssJs.user\":\"ready\",\"user\":\"ready\",\"user.options\":\"loading\",\"ext.cite.styles\":\"ready\",\"skins.vector.styles.legacy\":\"ready\",\"jquery.tablesorter.styles\":\"ready\",\\n\"jquery.makeCollapsible.styles\":\"ready\",\"ext.visualEditor.desktopArticleTarget.noscript\":\"ready\",\"ext.uls.interlanguage\":\"ready\",\"ext.wikimediaBadges\":\"ready\",\"wikibase.client.init\":\"ready\"};RLPAGEMODULES=[\"ext.cite.ux-enhancements\",\"site\",\"mediawiki.page.ready\",\"jquery.tablesorter\",\"jquery.makeCollapsible\",\"skins.vector.legacy.js\",\"ext.gadget.ReferenceTooltips\",\"ext.gadget.charinsert\",\"ext.gadget.extra-toolbar-buttons\",\"ext.gadget.refToolbar\",\"ext.gadget.switcher\",\"ext.centralauth.centralautologin\",\"ext.popups\",\"ext.visualEditor.desktopArticleTarget.init\",\"ext.visualEditor.targetLoader\",\"ext.eventLogging\",\"ext.wikimediaEvents\",\"ext.navigationTiming\",\"ext.uls.compactlinks\",\"ext.uls.interface\",\"ext.cx.eventlogging.campaigns\",\"ext.centralNotice.geoIP\",\"ext.centralNotice.startUp\"];</script>\\n<script>(RLQ=window.RLQ||[]).push(function(){mw.loader.implement(\"user.options@1hzgi\",function($,jQuery,require,module){/*@nomin*/mw.user.tokens.set({\"patrolToken\":\"+\\\\\\\\\",\"watchToken\":\"+\\\\\\\\\",\"csrfToken\":\"+\\\\\\\\\"});\\n});});</script>\\n<link rel=\"stylesheet\" href=\"/w/load.php?lang=en&amp;modules=ext.cite.styles%7Cext.uls.interlanguage%7Cext.visualEditor.desktopArticleTarget.noscript%7Cext.wikimediaBadges%7Cjquery.makeCollapsible.styles%7Cjquery.tablesorter.styles%7Cskins.vector.styles.legacy%7Cwikibase.client.init&amp;only=styles&amp;skin=vector\"/>\\n<script async=\"\" src=\"/w/load.php?lang=en&amp;modules=startup&amp;only=scripts&amp;raw=1&amp;skin=vector\"></script>\\n<meta name=\"ResourceLoaderDynamicStyles\" content=\"\"/>\\n<link rel=\"stylesheet\" href=\"/w/load.php?lang=en&amp;modules=site.styles&amp;only=styles&amp;skin=vector\"/>\\n<meta name=\"generator\" content=\"MediaWiki 1.36.0-wmf.27\"/>\\n<meta name=\"referrer\" content=\"origin\"/>\\n<meta name=\"referrer\" content=\"origin-when-crossorigin\"/>\\n<meta name=\"referrer\" content=\"origin-when-cross-origin\"/>\\n<link rel=\"alternate\" media=\"only screen and (max-width: 720px)\" href=\"//en.m.wikipedia.org/wiki/Billboard_Year-End_Hot_100_singles_of_1992\"/>\\n<link rel=\"alternate\" type=\"application/x-wiki\" title=\"Edit this page\" href=\"/w/index.php?title=Billboard_Year-End_Hot_100_singles_of_1992&amp;action=edit\"/>\\n<link rel=\"edit\" title=\"Edit this page\" href=\"/w/index.php?title=Billboard_Year-End_Hot_100_singles_of_1992&amp;action=edit\"/>\\n<link rel=\"apple-touch-icon\" href=\"/static/apple-touch/wikipedia.png\"/>\\n<link rel=\"shortcut icon\" href=\"/static/favicon/wikipedia.ico\"/>\\n<link rel=\"search\" type=\"application/opensearchdescription+xml\" href=\"/w/opensearch_desc.php\" title=\"Wikipedia (en)\"/>\\n<link rel=\"EditURI\" type=\"application/rsd+xml\" href=\"//en.wikipedia.org/w/api.php?action=rsd\"/>\\n<link rel=\"license\" href=\"//creativecommons.org/licenses/by-sa/3.0/\"/>\\n<link rel=\"canonical\" href=\"https://en.wikipedia.org/wiki/Billboard_Year-End_Hot_100_singles_of_1992\"/>\\n<link rel=\"dns-prefetch\" href=\"//login.wikimedia.org\"/>\\n<link rel=\"dns-prefetch\" href=\"//meta.wikimedia.org\" />\\n</head>\\n<body class=\"mediawiki ltr sitedir-ltr mw-hide-empty-elt ns-0 ns-subject mw-editable page-Billboard_Year-End_Hot_100_singles_of_1992 rootpage-Billboard_Year-End_Hot_100_singles_of_1992 skin-vector action-view skin-vector-legacy\"><div id=\"mw-page-base\" class=\"noprint\"></div>\\n<div id=\"mw-head-base\" class=\"noprint\"></div>\\n<div id=\"content\" class=\"mw-body\" role=\"main\">\\n\\t<a id=\"top\"></a>\\n\\t<div id=\"siteNotice\" class=\"mw-body-content\"><!-- CentralNotice --></div>\\n\\t<div class=\"mw-indicators mw-body-content\">\\n\\t</div>\\n\\t<h1 id=\"firstHeading\" class=\"firstHeading\" lang=\"en\"><i>Billboard</i> Year-End Hot 100 singles of 1992</h1>\\n\\t<div id=\"bodyContent\" class=\"mw-body-content\">\\n\\t\\t<div id=\"siteSub\" class=\"noprint\">From Wikipedia, the free encyclopedia</div>\\n\\t\\t<div id=\"contentSub\"></div>\\n\\t\\t<div id=\"contentSub2\"></div>\\n\\t\\t\\n\\t\\t<div id=\"jump-to-nav\"></div>\\n\\t\\t<a class=\"mw-jump-link\" href=\"#mw-head\">Jump to navigation</a>\\n\\t\\t<a class=\"mw-jump-link\" href=\"#searchInput\">Jump to search</a>\\n\\t\\t<div id=\"mw-content-text\" lang=\"en\" dir=\"ltr\" class=\"mw-content-ltr\"><div class=\"mw-parser-output\"><p>This is a list of <i><a href=\"/wiki/Billboard_(magazine)\" title=\"Billboard (magazine)\">Billboard</a></i> magazine\\'s Top <b><a href=\"/wiki/Billboard_Hot_100\" title=\"Billboard Hot 100\">Hot 100</a></b> songs of <a href=\"/wiki/1992_in_music\" title=\"1992 in music\">1992</a>.<sup id=\"cite_ref-1\" class=\"reference\"><a href=\"#cite_note-1\">&#91;1&#93;</a></sup>\\n</p><p>No song that appeared in the 1991 year-end had managed to appear in the 1992 year-end, the first and only time since 1990 &amp; 1991.\\n</p>\\n<table class=\"wikitable sortable\" style=\"text-align: center\">\\n\\n<tbody><tr>\\n<th scope=\"col\" style=\"background:#dde;\">№\\n</th>\\n<th scope=\"col\" style=\"background:#dde;\">Title\\n</th>\\n<th scope=\"col\" style=\"background:#dde;\">Artist(s)\\n</th></tr>\\n<tr>\\n<td>1</td>\\n<td>\"<a href=\"/wiki/End_of_the_Road_(Boyz_II_Men_song)\" title=\"End of the Road (Boyz II Men song)\">End of the Road</a>\"</td>\\n<td><a href=\"/wiki/Boyz_II_Men\" title=\"Boyz II Men\">Boyz II Men</a>\\n</td></tr>\\n<tr>\\n<td>2</td>\\n<td>\"<a href=\"/wiki/Baby_Got_Back\" title=\"Baby Got Back\">Baby Got Back</a>\"</td>\\n<td><a href=\"/wiki/Sir_Mix-a-Lot\" title=\"Sir Mix-a-Lot\">Sir Mix-a-Lot</a>\\n</td></tr>\\n<tr>\\n<td>3</td>\\n<td>\"<a href=\"/wiki/Jump_(Kris_Kross_song)\" title=\"Jump (Kris Kross song)\">Jump</a>\"</td>\\n<td><a href=\"/wiki/Kris_Kross\" title=\"Kris Kross\">Kris Kross</a>\\n</td></tr>\\n<tr>\\n<td>4</td>\\n<td>\"<a href=\"/wiki/Save_the_Best_for_Last\" title=\"Save the Best for Last\">Save the Best for Last</a>\"</td>\\n<td><a href=\"/wiki/Vanessa_L._Williams\" class=\"mw-redirect\" title=\"Vanessa L. Williams\">Vanessa Williams</a>\\n</td></tr>\\n<tr>\\n<td>5</td>\\n<td>\"<a href=\"/wiki/Baby-Baby-Baby\" title=\"Baby-Baby-Baby\">Baby-Baby-Baby</a>\"</td>\\n<td><a href=\"/wiki/TLC_(band)\" class=\"mw-redirect\" title=\"TLC (band)\">TLC</a>\\n</td></tr>\\n<tr>\\n<td>6</td>\\n<td>\"<a href=\"/wiki/Tears_in_Heaven\" title=\"Tears in Heaven\">Tears in Heaven</a>\"</td>\\n<td><a href=\"/wiki/Eric_Clapton\" title=\"Eric Clapton\">Eric Clapton</a>\\n</td></tr>\\n<tr>\\n<td>7</td>\\n<td>\"<a href=\"/wiki/My_Lovin%27_(You%27re_Never_Gonna_Get_It)\" title=\"My Lovin&#39; (You&#39;re Never Gonna Get It)\">My Lovin\\' (You\\'re Never Gonna Get It)</a>\"</td>\\n<td><a href=\"/wiki/En_Vogue\" title=\"En Vogue\">En Vogue</a>\\n</td></tr>\\n<tr>\\n<td>8</td>\\n<td>\"<a href=\"/wiki/Under_the_Bridge\" title=\"Under the Bridge\">Under the Bridge</a>\"</td>\\n<td><a href=\"/wiki/Red_Hot_Chili_Peppers\" title=\"Red Hot Chili Peppers\">Red Hot Chili Peppers</a>\\n</td></tr>\\n<tr>\\n<td>9</td>\\n<td>\"<a href=\"/wiki/All_4_Love\" title=\"All 4 Love\">All 4 Love</a>\"</td>\\n<td><a href=\"/wiki/Color_Me_Badd\" title=\"Color Me Badd\">Color Me Badd</a>\\n</td></tr>\\n<tr>\\n<td>10</td>\\n<td>\"<a href=\"/wiki/Just_Another_Day_(Jon_Secada_song)\" title=\"Just Another Day (Jon Secada song)\">Just Another Day</a>\"</td>\\n<td><a href=\"/wiki/Jon_Secada\" title=\"Jon Secada\">Jon Secada</a>\\n</td></tr>\\n<tr>\\n<td>11</td>\\n<td>\"<a href=\"/wiki/I_Love_Your_Smile\" title=\"I Love Your Smile\">I Love Your Smile</a>\"</td>\\n<td><a href=\"/wiki/Shanice\" title=\"Shanice\">Shanice</a>\\n</td></tr>\\n<tr>\\n<td>12</td>\\n<td>\"<a href=\"/wiki/To_Be_with_You\" title=\"To Be with You\">To Be with You</a>\"</td>\\n<td><a href=\"/wiki/Mr._Big_(band)\" class=\"mw-redirect\" title=\"Mr. Big (band)\">Mr. Big</a>\\n</td></tr>\\n<tr>\\n<td>13</td>\\n<td>\"<a href=\"/wiki/I%27m_Too_Sexy\" title=\"I&#39;m Too Sexy\">I\\'m Too Sexy</a>\"</td>\\n<td><a href=\"/wiki/Right_Said_Fred\" title=\"Right Said Fred\">Right Said Fred</a>\\n</td></tr>\\n<tr>\\n<td>14</td>\\n<td>\"<a href=\"/wiki/Black_or_White\" title=\"Black or White\">Black or White</a>\"</td>\\n<td><a href=\"/wiki/Michael_Jackson\" title=\"Michael Jackson\">Michael Jackson</a>\\n</td></tr>\\n<tr>\\n<td>15</td>\\n<td>\"<a href=\"/wiki/Achy_Breaky_Heart\" title=\"Achy Breaky Heart\">Achy Breaky Heart</a>\"</td>\\n<td><a href=\"/wiki/Billy_Ray_Cyrus\" title=\"Billy Ray Cyrus\">Billy Ray Cyrus</a>\\n</td></tr>\\n<tr>\\n<td>16</td>\\n<td>\"<a href=\"/wiki/I%27ll_Be_There_(The_Jackson_5_song)#Mariah_Carey_version\" class=\"mw-redirect\" title=\"I&#39;ll Be There (The Jackson 5 song)\">I\\'ll Be There</a>\"</td>\\n<td><a href=\"/wiki/Mariah_Carey\" title=\"Mariah Carey\">Mariah Carey</a>\\n</td></tr>\\n<tr>\\n<td>17</td>\\n<td>\"<a href=\"/wiki/November_Rain\" title=\"November Rain\">November Rain</a>\"</td>\\n<td><a href=\"/wiki/Guns_N%27_Roses\" title=\"Guns N&#39; Roses\">Guns N\\' Roses</a>\\n</td></tr>\\n<tr>\\n<td>18</td>\\n<td>\"<a href=\"/wiki/Life_Is_a_Highway\" title=\"Life Is a Highway\">Life Is a Highway</a>\"</td>\\n<td><a href=\"/wiki/Tom_Cochrane\" title=\"Tom Cochrane\">Tom Cochrane</a>\\n</td></tr>\\n<tr>\\n<td>19</td>\\n<td>\"<a href=\"/wiki/Remember_the_Time\" title=\"Remember the Time\">Remember the Time</a>\"</td>\\n<td><a href=\"/wiki/Michael_Jackson\" title=\"Michael Jackson\">Michael Jackson</a>\\n</td></tr>\\n<tr>\\n<td>20</td>\\n<td>\"<a href=\"/wiki/Finally_(CeCe_Peniston_song)\" title=\"Finally (CeCe Peniston song)\">Finally</a>\"</td>\\n<td><a href=\"/wiki/CeCe_Peniston\" title=\"CeCe Peniston\">CeCe Peniston</a>\\n</td></tr>\\n<tr>\\n<td>21</td>\\n<td>\"<a href=\"/wiki/This_Used_to_Be_My_Playground\" title=\"This Used to Be My Playground\">This Used to Be My Playground</a>\"</td>\\n<td><a href=\"/wiki/Madonna\" title=\"Madonna\">Madonna</a>\\n</td></tr>\\n<tr>\\n<td>22</td>\\n<td>\"<a href=\"/wiki/Sometimes_Love_Just_Ain%27t_Enough\" title=\"Sometimes Love Just Ain&#39;t Enough\">Sometimes Love Just Ain\\'t Enough</a>\"</td>\\n<td><a href=\"/wiki/Patty_Smyth\" title=\"Patty Smyth\">Patty Smyth</a> and <a href=\"/wiki/Don_Henley\" title=\"Don Henley\">Don Henley</a>\\n</td></tr>\\n<tr>\\n<td>23</td>\\n<td>\"<a href=\"/wiki/Can%27t_Let_Go_(Mariah_Carey_song)\" title=\"Can&#39;t Let Go (Mariah Carey song)\">Can\\'t Let Go</a>\"</td>\\n<td><a href=\"/wiki/Mariah_Carey\" title=\"Mariah Carey\">Mariah Carey</a>\\n</td></tr>\\n<tr>\\n<td>24</td>\\n<td>\"<a href=\"/wiki/Jump_Around\" title=\"Jump Around\">Jump Around</a>\"</td>\\n<td><a href=\"/wiki/House_of_Pain\" title=\"House of Pain\">House of Pain</a>\\n</td></tr>\\n<tr>\\n<td>25</td>\\n<td>\"<a href=\"/wiki/Diamonds_and_Pearls_(song)\" title=\"Diamonds and Pearls (song)\">Diamonds and Pearls</a>\"</td>\\n<td><a href=\"/wiki/Prince_(entertainer)\" class=\"mw-redirect\" title=\"Prince (entertainer)\">Prince</a> and <a href=\"/wiki/The_New_Power_Generation\" class=\"mw-redirect\" title=\"The New Power Generation\">The New Power Generation</a>\\n</td></tr>\\n<tr>\\n<td>26</td>\\n<td>\"<a href=\"/wiki/Don%27t_Let_the_Sun_Go_Down_on_Me\" title=\"Don&#39;t Let the Sun Go Down on Me\">Don\\'t Let the Sun Go Down on Me</a>\"</td>\\n<td><a href=\"/wiki/George_Michael\" title=\"George Michael\">George Michael</a> and <a href=\"/wiki/Elton_John\" title=\"Elton John\">Elton John</a>\\n</td></tr>\\n<tr>\\n<td>27</td>\\n<td>\"<a href=\"/wiki/Masterpiece_(Atlantic_Starr_song)\" title=\"Masterpiece (Atlantic Starr song)\">Masterpiece</a>\"</td>\\n<td><a href=\"/wiki/Atlantic_Starr\" title=\"Atlantic Starr\">Atlantic Starr</a>\\n</td></tr>\\n<tr>\\n<td>28</td>\\n<td>\"<a href=\"/wiki/If_You_Asked_Me_To\" title=\"If You Asked Me To\">If You Asked Me To</a>\"</td>\\n<td><a href=\"/wiki/Celine_Dion\" title=\"Celine Dion\">Celine Dion</a>\\n</td></tr>\\n<tr>\\n<td>29</td>\\n<td>\"<a href=\"/wiki/Something_He_Can_Feel\" title=\"Something He Can Feel\">Giving Him Something He Can Feel</a>\"</td>\\n<td><a href=\"/wiki/En_Vogue\" title=\"En Vogue\">En Vogue</a>\\n</td></tr>\\n<tr>\\n<td>30</td>\\n<td>\"<a href=\"/wiki/Live_and_Learn_(Joe_Public_song)\" title=\"Live and Learn (Joe Public song)\">Live and Learn</a>\"</td>\\n<td><a href=\"/wiki/Joe_Public_(band)\" title=\"Joe Public (band)\">Joe Public</a>\\n</td></tr>\\n<tr>\\n<td>31</td>\\n<td>\"<a href=\"/wiki/Come_and_Talk_to_Me\" title=\"Come and Talk to Me\">Come and Talk to Me</a>\"</td>\\n<td><a href=\"/wiki/Jodeci\" title=\"Jodeci\">Jodeci</a>\\n</td></tr>\\n<tr>\\n<td>32</td>\\n<td>\"<a href=\"/wiki/Smells_Like_Teen_Spirit\" title=\"Smells Like Teen Spirit\">Smells Like Teen Spirit</a>\"</td>\\n<td><a href=\"/wiki/Nirvana_(band)\" title=\"Nirvana (band)\">Nirvana</a>\\n</td></tr>\\n<tr>\\n<td>33</td>\\n<td>\"<a href=\"/wiki/Humpin%27_Around\" title=\"Humpin&#39; Around\">Humpin\\' Around</a>\"</td>\\n<td><a href=\"/wiki/Bobby_Brown\" title=\"Bobby Brown\">Bobby Brown</a>\\n</td></tr>\\n<tr>\\n<td>34</td>\\n<td>\"<a href=\"/wiki/Damn_I_Wish_I_Was_Your_Lover\" title=\"Damn I Wish I Was Your Lover\">Damn I Wish I Was Your Lover</a>\"</td>\\n<td><a href=\"/wiki/Sophie_B._Hawkins\" title=\"Sophie B. Hawkins\">Sophie B. Hawkins</a>\\n</td></tr>\\n<tr>\\n<td>35</td>\\n<td>\"<a href=\"/wiki/Tell_Me_What_You_Want_Me_to_Do\" title=\"Tell Me What You Want Me to Do\">Tell Me What You Want Me to Do</a>\"</td>\\n<td><a href=\"/wiki/Tevin_Campbell\" title=\"Tevin Campbell\">Tevin Campbell</a>\\n</td></tr>\\n<tr>\\n<td>36</td>\\n<td>\"<a href=\"/wiki/Ain%27t_2_Proud_2_Beg\" title=\"Ain&#39;t 2 Proud 2 Beg\">Ain\\'t 2 Proud 2 Beg</a>\"</td>\\n<td><a href=\"/wiki/TLC_(band)\" class=\"mw-redirect\" title=\"TLC (band)\">TLC</a>\\n</td></tr>\\n<tr>\\n<td>37</td>\\n<td>\"<a href=\"/wiki/It%27s_So_Hard_to_Say_Goodbye_to_Yesterday\" title=\"It&#39;s So Hard to Say Goodbye to Yesterday\">It\\'s So Hard to Say Goodbye to Yesterday</a>\"</td>\\n<td><a href=\"/wiki/Boyz_II_Men\" title=\"Boyz II Men\">Boyz II Men</a>\\n</td></tr>\\n<tr>\\n<td>38</td>\\n<td>\"<a href=\"/wiki/Move_This\" title=\"Move This\">Move This</a>\"</td>\\n<td><a href=\"/wiki/Technotronic\" title=\"Technotronic\">Technotronic</a> featuring <a href=\"/wiki/Ya_Kid_K\" title=\"Ya Kid K\">Ya Kid K</a>\\n</td></tr>\\n<tr>\\n<td>39</td>\\n<td>\"<a href=\"/wiki/Bohemian_Rhapsody\" title=\"Bohemian Rhapsody\">Bohemian Rhapsody</a>\"</td>\\n<td><a href=\"/wiki/Queen_(band)\" title=\"Queen (band)\">Queen</a>\\n</td></tr>\\n<tr>\\n<td>40</td>\\n<td>\"<a href=\"/wiki/Tennessee_(Arrested_Development_song)\" title=\"Tennessee (Arrested Development song)\">Tennessee</a>\"</td>\\n<td><a href=\"/wiki/Arrested_Development_(group)\" title=\"Arrested Development (group)\">Arrested Development</a>\\n</td></tr>\\n<tr>\\n<td>41</td>\\n<td>\"<a href=\"/wiki/The_Best_Things_in_Life_Are_Free\" title=\"The Best Things in Life Are Free\">The Best Things in Life Are Free</a>\"</td>\\n<td><a href=\"/wiki/Luther_Vandross\" title=\"Luther Vandross\">Luther Vandross</a> and <a href=\"/wiki/Janet_Jackson\" title=\"Janet Jackson\">Janet Jackson</a>\\n</td></tr>\\n<tr>\\n<td>42</td>\\n<td>\"<a href=\"/wiki/Make_It_Happen_(Mariah_Carey_song)\" title=\"Make It Happen (Mariah Carey song)\">Make It Happen</a>\"</td>\\n<td><a href=\"/wiki/Mariah_Carey\" title=\"Mariah Carey\">Mariah Carey</a>\\n</td></tr>\\n<tr>\\n<td>43</td>\\n<td>\"<a href=\"/wiki/The_One_(Elton_John_song)\" title=\"The One (Elton John song)\">The One</a>\"</td>\\n<td><a href=\"/wiki/Elton_John\" title=\"Elton John\">Elton John</a>\\n</td></tr>\\n<tr>\\n<td>44</td>\\n<td>\"<a href=\"/wiki/Set_Adrift_on_Memory_Bliss\" title=\"Set Adrift on Memory Bliss\">Set Adrift on Memory Bliss</a>\"</td>\\n<td><a href=\"/wiki/P.M._Dawn\" title=\"P.M. Dawn\">P.M. Dawn</a>\\n</td></tr>\\n<tr>\\n<td>45</td>\\n<td>\"<a href=\"/wiki/Stay_(Shakespears_Sister_song)\" title=\"Stay (Shakespears Sister song)\">Stay</a>\"</td>\\n<td><a href=\"/wiki/Shakespears_Sister\" title=\"Shakespears Sister\">Shakespears Sister</a>\\n</td></tr>\\n<tr>\\n<td>46</td>\\n<td>\"<a href=\"/wiki/Too_Legit_to_Quit_(song)\" class=\"mw-redirect\" title=\"Too Legit to Quit (song)\">2 Legit 2 Quit</a>\"</td>\\n<td><a href=\"/wiki/MC_Hammer\" title=\"MC Hammer\">Hammer</a>\\n</td></tr>\\n<tr>\\n<td>47</td>\\n<td>\"<a href=\"/wiki/Please_Don%27t_Go_(KC_and_the_Sunshine_Band_song)#KWS_version\" title=\"Please Don&#39;t Go (KC and the Sunshine Band song)\">Please Don\\'t Go</a>\"</td>\\n<td><a href=\"/wiki/KWS_(band)\" title=\"KWS (band)\">KWS</a>\\n</td></tr>\\n<tr>\\n<td>48</td>\\n<td>\"<a href=\"/wiki/Breakin%27_My_Heart_(Pretty_Brown_Eyes)\" title=\"Breakin&#39; My Heart (Pretty Brown Eyes)\">Breakin\\' My Heart (Pretty Brown Eyes)</a>\"</td>\\n<td><a href=\"/wiki/Mint_Condition\" title=\"Mint Condition\">Mint Condition</a>\\n</td></tr>\\n<tr>\\n<td>49</td>\\n<td>\"<a href=\"/wiki/Wishing_on_a_Star\" title=\"Wishing on a Star\">Wishing on a Star</a>\"</td>\\n<td><a href=\"/wiki/The_Cover_Girls\" title=\"The Cover Girls\">The Cover Girls</a>\\n</td></tr>\\n<tr>\\n<td>50</td>\\n<td>\"She\\'s Playing Hard to Get\"</td>\\n<td><a href=\"/wiki/Hi-Five\" title=\"Hi-Five\">Hi-Five</a>\\n</td></tr>\\n<tr>\\n<td>51</td>\\n<td>\"<a href=\"/wiki/I%27d_Die_Without_You\" title=\"I&#39;d Die Without You\">I\\'d Die Without You</a>\"</td>\\n<td><a href=\"/wiki/P.M._Dawn\" title=\"P.M. Dawn\">P.M. Dawn</a>\\n</td></tr>\\n<tr>\\n<td>52</td>\\n<td>\"<a href=\"/wiki/Good_for_Me_(song)\" title=\"Good for Me (song)\">Good for Me</a>\"</td>\\n<td><a href=\"/wiki/Amy_Grant\" title=\"Amy Grant\">Amy Grant</a>\\n</td></tr>\\n<tr>\\n<td>53</td>\\n<td>\"<a href=\"/wiki/All_I_Want_(Toad_the_Wet_Sprocket_song)\" title=\"All I Want (Toad the Wet Sprocket song)\">All I Want</a>\"</td>\\n<td><a href=\"/wiki/Toad_the_Wet_Sprocket\" title=\"Toad the Wet Sprocket\">Toad the Wet Sprocket</a>\\n</td></tr>\\n<tr>\\n<td>54</td>\\n<td>\"<a href=\"/wiki/When_a_Man_Loves_a_Woman_(song)\" title=\"When a Man Loves a Woman (song)\">When a Man Loves a Woman</a>\"</td>\\n<td><a href=\"/wiki/Michael_Bolton\" title=\"Michael Bolton\">Michael Bolton</a>\\n</td></tr>\\n<tr>\\n<td>55</td>\\n<td>\"<a href=\"/wiki/I_Can%27t_Dance\" title=\"I Can&#39;t Dance\">I Can\\'t Dance</a>\"</td>\\n<td><a href=\"/wiki/Genesis_(band)\" title=\"Genesis (band)\">Genesis</a>\\n</td></tr>\\n<tr>\\n<td>56</td>\\n<td>\"<a href=\"/wiki/Hazard_(song)\" title=\"Hazard (song)\">Hazard</a>\"</td>\\n<td><a href=\"/wiki/Richard_Marx\" title=\"Richard Marx\">Richard Marx</a>\\n</td></tr>\\n<tr>\\n<td>57</td>\\n<td>\"<a href=\"/wiki/Mysterious_Ways_(song)\" title=\"Mysterious Ways (song)\">Mysterious Ways</a>\"</td>\\n<td><a href=\"/wiki/U2\" title=\"U2\">U2</a>\\n</td></tr>\\n<tr>\\n<td>58</td>\\n<td>\"<a href=\"/wiki/Too_Funky\" title=\"Too Funky\">Too Funky</a>\"</td>\\n<td><a href=\"/wiki/George_Michael\" title=\"George Michael\">George Michael</a>\\n</td></tr>\\n<tr>\\n<td>59</td>\\n<td>\"<a href=\"/wiki/How_Do_You_Talk_to_an_Angel\" title=\"How Do You Talk to an Angel\">How Do You Talk to an Angel</a>\"</td>\\n<td><a href=\"/wiki/The_Heights_(American_TV_series)\" title=\"The Heights (American TV series)\">The Heights</a>\\n</td></tr>\\n<tr>\\n<td>60</td>\\n<td>\"<a href=\"/wiki/One_(U2_song)\" title=\"One (U2 song)\">One</a>\"</td>\\n<td><a href=\"/wiki/U2\" title=\"U2\">U2</a>\\n</td></tr>\\n<tr>\\n<td>61</td>\\n<td>\"<a href=\"/wiki/Keep_on_Walkin%27_(song)\" class=\"mw-redirect\" title=\"Keep on Walkin&#39; (song)\">Keep on Walkin\\'</a>\"</td>\\n<td><a href=\"/wiki/CeCe_Peniston\" title=\"CeCe Peniston\">CeCe Peniston</a>\\n</td></tr>\\n<tr>\\n<td>62</td>\\n<td>\"<a href=\"/wiki/Hold_on_My_Heart\" title=\"Hold on My Heart\">Hold on My Heart</a>\"</td>\\n<td><a href=\"/wiki/Genesis_(band)\" title=\"Genesis (band)\">Genesis</a>\\n</td></tr>\\n<tr>\\n<td>63</td>\\n<td>\"The Way I Feel About You\"</td>\\n<td><a href=\"/wiki/Karyn_White\" title=\"Karyn White\">Karyn White</a>\\n</td></tr>\\n<tr>\\n<td>64</td>\\n<td>\"<a href=\"/wiki/Beauty_and_the_Beast_(Disney_song)\" title=\"Beauty and the Beast (Disney song)\">Beauty and the Beast</a>\"</td>\\n<td><a href=\"/wiki/Celine_Dion\" title=\"Celine Dion\">Celine Dion</a> and <a href=\"/wiki/Peabo_Bryson\" title=\"Peabo Bryson\">Peabo Bryson</a>\\n</td></tr>\\n<tr>\\n<td>65</td>\\n<td>\"<a href=\"/wiki/Warm_It_Up\" title=\"Warm It Up\">Warm It Up</a>\"</td>\\n<td><a href=\"/wiki/Kris_Kross\" title=\"Kris Kross\">Kris Kross</a>\\n</td></tr>\\n<tr>\\n<td>66</td>\\n<td>\"<a href=\"/wiki/In_the_Closet\" title=\"In the Closet\">In the Closet</a>\"</td>\\n<td><a href=\"/wiki/Michael_Jackson\" title=\"Michael Jackson\">Michael Jackson</a>\\n</td></tr>\\n<tr>\\n<td>67</td>\\n<td>\"<a href=\"/wiki/People_Everyday\" title=\"People Everyday\">People Everyday</a>\"</td>\\n<td><a href=\"/wiki/Arrested_Development_(group)\" title=\"Arrested Development (group)\">Arrested Development</a>\\n</td></tr>\\n<tr>\\n<td>68</td>\\n<td>\"<a href=\"/wiki/No_Son_of_Mine\" title=\"No Son of Mine\">No Son of Mine</a>\"</td>\\n<td><a href=\"/wiki/Genesis_(band)\" title=\"Genesis (band)\">Genesis</a>\\n</td></tr>\\n<tr>\\n<td>69</td>\\n<td>\"<a href=\"/wiki/Wildside_(Marky_Mark_and_the_Funky_Bunch_song)\" title=\"Wildside (Marky Mark and the Funky Bunch song)\">Wildside</a>\"</td>\\n<td><a href=\"/wiki/Marky_Mark_and_the_Funky_Bunch\" title=\"Marky Mark and the Funky Bunch\">Marky Mark and the Funky Bunch</a>\\n</td></tr>\\n<tr>\\n<td>70</td>\\n<td>\"<a href=\"/wiki/Do_I_Have_to_Say_the_Words%3F\" title=\"Do I Have to Say the Words?\">Do I Have to Say the Words?</a>\"</td>\\n<td><a href=\"/wiki/Bryan_Adams\" title=\"Bryan Adams\">Bryan Adams</a>\\n</td></tr>\\n<tr>\\n<td>71</td>\\n<td>\"<a href=\"/wiki/Friday_I%27m_in_Love\" title=\"Friday I&#39;m in Love\">Friday I\\'m in Love</a>\"</td>\\n<td><a href=\"/wiki/The_Cure\" title=\"The Cure\">The Cure</a>\\n</td></tr>\\n<tr>\\n<td>72</td>\\n<td>\"<a href=\"/wiki/Everything_About_You_(Ugly_Kid_Joe_song)\" title=\"Everything About You (Ugly Kid Joe song)\">Everything About You</a>\"</td>\\n<td><a href=\"/wiki/Ugly_Kid_Joe\" title=\"Ugly Kid Joe\">Ugly Kid Joe</a>\\n</td></tr>\\n<tr>\\n<td>73</td>\\n<td>\"<a href=\"/wiki/Blowing_Kisses_in_the_Wind\" title=\"Blowing Kisses in the Wind\">Blowing Kisses in the Wind</a>\"</td>\\n<td><a href=\"/wiki/Paula_Abdul\" title=\"Paula Abdul\">Paula Abdul</a>\\n</td></tr>\\n<tr>\\n<td>74</td>\\n<td>\"<a href=\"/wiki/Thought_I%27d_Died_and_Gone_to_Heaven\" title=\"Thought I&#39;d Died and Gone to Heaven\">Thought I\\'d Died and Gone to Heaven</a>\"</td>\\n<td><a href=\"/wiki/Bryan_Adams\" title=\"Bryan Adams\">Bryan Adams</a>\\n</td></tr>\\n<tr>\\n<td>75</td>\\n<td>\"<a href=\"/wiki/Rhythm_Is_a_Dancer\" title=\"Rhythm Is a Dancer\">Rhythm Is a Dancer</a>\"</td>\\n<td><a href=\"/wiki/Snap!\" title=\"Snap!\">Snap!</a>\\n</td></tr>\\n<tr>\\n<td>76</td>\\n<td>\"<a href=\"/wiki/Addams_Groove\" title=\"Addams Groove\">Addams Groove</a>\"</td>\\n<td><a href=\"/wiki/MC_Hammer\" title=\"MC Hammer\">Hammer</a>\\n</td></tr>\\n<tr>\\n<td>77</td>\\n<td>\"<a href=\"/wiki/Missing_You_Now\" title=\"Missing You Now\">Missing You Now</a>\"</td>\\n<td><a href=\"/wiki/Michael_Bolton\" title=\"Michael Bolton\">Michael Bolton</a>\\n</td></tr>\\n<tr>\\n<td>78</td>\\n<td>\"Back to the Hotel\"</td>\\n<td><a href=\"/wiki/N2Deep\" title=\"N2Deep\">N2Deep</a>\\n</td></tr>\\n<tr>\\n<td>79</td>\\n<td>\"Everything Changes\"</td>\\n<td><a href=\"/wiki/Kathy_Troccoli\" title=\"Kathy Troccoli\">Kathy Troccoli</a>\\n</td></tr>\\n<tr>\\n<td>80</td>\\n<td>\"<a href=\"/wiki/Have_You_Ever_Needed_Someone_So_Bad\" title=\"Have You Ever Needed Someone So Bad\">Have You Ever Needed Someone So Bad</a>\"</td>\\n<td><a href=\"/wiki/Def_Leppard\" title=\"Def Leppard\">Def Leppard</a>\\n</td></tr>\\n<tr>\\n<td>81</td>\\n<td>\"<a href=\"/wiki/Take_This_Heart\" title=\"Take This Heart\">Take This Heart</a>\"</td>\\n<td><a href=\"/wiki/Richard_Marx\" title=\"Richard Marx\">Richard Marx</a>\\n</td></tr>\\n<tr>\\n<td>82</td>\\n<td>\"<a href=\"/wiki/When_I_Look_Into_Your_Eyes\" title=\"When I Look Into Your Eyes\">When I Look Into Your Eyes</a>\"</td>\\n<td><a href=\"/wiki/FireHouse_(band)\" class=\"mw-redirect\" title=\"FireHouse (band)\">FireHouse</a>\\n</td></tr>\\n<tr>\\n<td>83</td>\\n<td>\"<a href=\"/wiki/I_Wanna_Love_You_(Jade_song)\" title=\"I Wanna Love You (Jade song)\">I Wanna Love You</a>\"</td>\\n<td><a href=\"/wiki/Jade_(American_band)\" class=\"mw-redirect\" title=\"Jade (American band)\">Jade</a>\\n</td></tr>\\n<tr>\\n<td>84</td>\\n<td>\"<a href=\"/wiki/Uhh_Ahh\" title=\"Uhh Ahh\">Uhh Ahh</a>\"</td>\\n<td><a href=\"/wiki/Boyz_II_Men\" title=\"Boyz II Men\">Boyz II Men</a>\\n</td></tr>\\n<tr>\\n<td>85</td>\\n<td>\"<a href=\"/wiki/Real_Love_(Mary_J._Blige_song)\" title=\"Real Love (Mary J. Blige song)\">Real Love</a>\"</td>\\n<td><a href=\"/wiki/Mary_J._Blige\" title=\"Mary J. Blige\">Mary J. Blige</a>\\n</td></tr>\\n<tr>\\n<td>86</td>\\n<td>\"<a href=\"/wiki/Justified_and_Ancient\" class=\"mw-redirect\" title=\"Justified and Ancient\">Justified and Ancient</a>\"</td>\\n<td><a href=\"/wiki/The_KLF\" title=\"The KLF\">The KLF</a>\\n</td></tr>\\n<tr>\\n<td>87</td>\\n<td>\"Slow Motion\"</td>\\n<td><a href=\"/wiki/Color_Me_Badd\" title=\"Color Me Badd\">Color Me Badd</a>\\n</td></tr>\\n<tr>\\n<td>88</td>\\n<td>\"<a href=\"/wiki/What_About_Your_Friends\" title=\"What About Your Friends\">What About Your Friends</a>\"</td>\\n<td><a href=\"/wiki/TLC_(band)\" class=\"mw-redirect\" title=\"TLC (band)\">TLC</a>\\n</td></tr>\\n<tr>\\n<td>89</td>\\n<td>\"Thinkin\\' Back\"</td>\\n<td><a href=\"/wiki/Color_Me_Badd\" title=\"Color Me Badd\">Color Me Badd</a>\\n</td></tr>\\n<tr>\\n<td>90</td>\\n<td>\"<a href=\"/wiki/Would_I_Lie_to_You%3F_(Charles_%26_Eddie_song)\" title=\"Would I Lie to You? (Charles &amp; Eddie song)\">Would I Lie to You?</a>\"</td>\\n<td><a href=\"/wiki/Charles_%26_Eddie\" title=\"Charles &amp; Eddie\">Charles &amp; Eddie</a>\\n</td></tr>\\n<tr>\\n<td>91</td>\\n<td>\"<a href=\"/wiki/That%27s_What_Love_Is_For\" title=\"That&#39;s What Love Is For\">That\\'s What Love Is For</a>\"</td>\\n<td><a href=\"/wiki/Amy_Grant\" title=\"Amy Grant\">Amy Grant</a>\\n</td></tr>\\n<tr>\\n<td>92</td>\\n<td>\"<a href=\"/wiki/Keep_Coming_Back_(song)\" title=\"Keep Coming Back (song)\">Keep Coming Back</a>\"</td>\\n<td><a href=\"/wiki/Richard_Marx\" title=\"Richard Marx\">Richard Marx</a>\\n</td></tr>\\n<tr>\\n<td>93</td>\\n<td>\"<a href=\"/wiki/Free_Your_Mind_(song)\" title=\"Free Your Mind (song)\">Free Your Mind</a>\"</td>\\n<td><a href=\"/wiki/En_Vogue\" title=\"En Vogue\">En Vogue</a>\\n</td></tr>\\n<tr>\\n<td>94</td>\\n<td>\"<a href=\"/wiki/Keep_It_Comin%27_(song)\" title=\"Keep It Comin&#39; (song)\">Keep It Comin\\'</a>\"</td>\\n<td><a href=\"/wiki/Keith_Sweat\" title=\"Keith Sweat\">Keith Sweat</a>\\n</td></tr>\\n<tr>\\n<td>95</td>\\n<td>\"<a href=\"/wiki/Just_Take_My_Heart_(song)\" title=\"Just Take My Heart (song)\">Just Take My Heart</a>\"</td>\\n<td><a href=\"/wiki/Mr._Big_(band)\" class=\"mw-redirect\" title=\"Mr. Big (band)\">Mr. Big</a>\\n</td></tr>\\n<tr>\\n<td>96</td>\\n<td>\"<a href=\"/wiki/I_Will_Remember_You_(Amy_Grant_song)\" title=\"I Will Remember You (Amy Grant song)\">I Will Remember You</a>\"</td>\\n<td><a href=\"/wiki/Amy_Grant\" title=\"Amy Grant\">Amy Grant</a>\\n</td></tr>\\n<tr>\\n<td>97</td>\\n<td>\"<a href=\"/wiki/We_Got_a_Love_Thang\" title=\"We Got a Love Thang\">We Got a Love Thang</a>\"</td>\\n<td><a href=\"/wiki/CeCe_Peniston\" title=\"CeCe Peniston\">CeCe Peniston</a>\\n</td></tr>\\n<tr>\\n<td>98</td>\\n<td>\"<a href=\"/wiki/Let%27s_Get_Rocked\" title=\"Let&#39;s Get Rocked\">Let\\'s Get Rocked</a>\"</td>\\n<td><a href=\"/wiki/Def_Leppard\" title=\"Def Leppard\">Def Leppard</a>\\n</td></tr>\\n<tr>\\n<td>99</td>\\n<td>\"<a href=\"/wiki/They_Want_EFX\" title=\"They Want EFX\">They Want EFX</a>\"</td>\\n<td><a href=\"/wiki/Das_EFX\" title=\"Das EFX\">Das EFX</a>\\n</td></tr>\\n<tr>\\n<td>100</td>\\n<td>\"<a href=\"/wiki/I_Can%27t_Make_You_Love_Me\" title=\"I Can&#39;t Make You Love Me\">I Can\\'t Make You Love Me</a>\"</td>\\n<td><a href=\"/wiki/Bonnie_Raitt\" title=\"Bonnie Raitt\">Bonnie Raitt</a>\\n</td></tr></tbody></table>\\n<h2><span class=\"mw-headline\" id=\"See_also\">See also</span><span class=\"mw-editsection\"><span class=\"mw-editsection-bracket\">[</span><a href=\"/w/index.php?title=Billboard_Year-End_Hot_100_singles_of_1992&amp;action=edit&amp;section=1\" title=\"Edit section: See also\">edit</a><span class=\"mw-editsection-bracket\">]</span></span></h2>\\n<ul><li><a href=\"/wiki/1992_in_music\" title=\"1992 in music\">1992 in music</a></li>\\n<li><a href=\"/wiki/List_of_Billboard_Hot_100_number-one_singles_of_1992\" class=\"mw-redirect\" title=\"List of Billboard Hot 100 number-one singles of 1992\">List of Billboard Hot 100 number-one singles of 1992</a></li>\\n<li><a href=\"/wiki/List_of_Billboard_Hot_100_top-ten_singles_in_1992\" title=\"List of Billboard Hot 100 top-ten singles in 1992\">List of Billboard Hot 100 top-ten singles in 1992</a></li></ul>\\n<h2><span class=\"mw-headline\" id=\"References\">References</span><span class=\"mw-editsection\"><span class=\"mw-editsection-bracket\">[</span><a href=\"/w/index.php?title=Billboard_Year-End_Hot_100_singles_of_1992&amp;action=edit&amp;section=2\" title=\"Edit section: References\">edit</a><span class=\"mw-editsection-bracket\">]</span></span></h2>\\n<div class=\"reflist\" style=\"list-style-type: decimal;\">\\n<div class=\"mw-references-wrap\"><ol class=\"references\">\\n<li id=\"cite_note-1\"><span class=\"mw-cite-backlink\"><b><a href=\"#cite_ref-1\">^</a></b></span> <span class=\"reference-text\"><style data-mw-deduplicate=\"TemplateStyles:r999302996\">.mw-parser-output cite.citation{font-style:inherit}.mw-parser-output .citation q{quotes:\"\\\\\"\"\"\\\\\"\"\"\\'\"\"\\'\"}.mw-parser-output .id-lock-free a,.mw-parser-output .citation .cs1-lock-free a{background:linear-gradient(transparent,transparent),url(\"//upload.wikimedia.org/wikipedia/commons/6/65/Lock-green.svg\")right 0.1em center/9px no-repeat}.mw-parser-output .id-lock-limited a,.mw-parser-output .id-lock-registration a,.mw-parser-output .citation .cs1-lock-limited a,.mw-parser-output .citation .cs1-lock-registration a{background:linear-gradient(transparent,transparent),url(\"//upload.wikimedia.org/wikipedia/commons/d/d6/Lock-gray-alt-2.svg\")right 0.1em center/9px no-repeat}.mw-parser-output .id-lock-subscription a,.mw-parser-output .citation .cs1-lock-subscription a{background:linear-gradient(transparent,transparent),url(\"//upload.wikimedia.org/wikipedia/commons/a/aa/Lock-red-alt-2.svg\")right 0.1em center/9px no-repeat}.mw-parser-output .cs1-subscription,.mw-parser-output .cs1-registration{color:#555}.mw-parser-output .cs1-subscription span,.mw-parser-output .cs1-registration span{border-bottom:1px dotted;cursor:help}.mw-parser-output .cs1-ws-icon a{background:linear-gradient(transparent,transparent),url(\"//upload.wikimedia.org/wikipedia/commons/4/4c/Wikisource-logo.svg\")right 0.1em center/12px no-repeat}.mw-parser-output code.cs1-code{color:inherit;background:inherit;border:none;padding:inherit}.mw-parser-output .cs1-hidden-error{display:none;font-size:100%}.mw-parser-output .cs1-visible-error{font-size:100%}.mw-parser-output .cs1-maint{display:none;color:#33aa33;margin-left:0.3em}.mw-parser-output .cs1-format{font-size:95%}.mw-parser-output .cs1-kern-left,.mw-parser-output .cs1-kern-wl-left{padding-left:0.2em}.mw-parser-output .cs1-kern-right,.mw-parser-output .cs1-kern-wl-right{padding-right:0.2em}.mw-parser-output .citation .mw-selflink{font-weight:inherit}</style><cite class=\"citation journal cs1\"><a rel=\"nofollow\" class=\"external text\" href=\"https://www.americanradiohistory.com/Archive-Billboard/90s/1992/Billboard-1992-12-26.pdf\">\"The Year in Music: Hot 100 Singles\"</a> <span class=\"cs1-format\">(PDF)</span>. <i><a href=\"/wiki/Billboard_(magazine)\" title=\"Billboard (magazine)\">Billboard</a></i>: YE-20. December 26, 1992.</cite><span title=\"ctx_ver=Z39.88-2004&amp;rft_val_fmt=info%3Aofi%2Ffmt%3Akev%3Amtx%3Ajournal&amp;rft.genre=article&amp;rft.jtitle=Billboard&amp;rft.atitle=The+Year+in+Music%3A+Hot+100+Singles&amp;rft.pages=YE-20&amp;rft.date=1992-12-26&amp;rft_id=https%3A%2F%2Fwww.americanradiohistory.com%2FArchive-Billboard%2F90s%2F1992%2FBillboard-1992-12-26.pdf&amp;rfr_id=info%3Asid%2Fen.wikipedia.org%3ABillboard+Year-End+Hot+100+singles+of+1992\" class=\"Z3988\"></span></span>\\n</li>\\n</ol></div></div>\\n<div role=\"navigation\" class=\"navbox\" aria-labelledby=\"Billboard_Year-End_Hot_100_singles\" style=\"padding:3px\"><table class=\"nowraplinks mw-collapsible autocollapse navbox-inner\" style=\"border-spacing:0;background:transparent;color:inherit\"><tbody><tr><th scope=\"col\" class=\"navbox-title\" colspan=\"2\"><style data-mw-deduplicate=\"TemplateStyles:r992953826\">.mw-parser-output .navbar{display:inline;font-size:88%;font-weight:normal}.mw-parser-output .navbar-collapse{float:left;text-align:left}.mw-parser-output .navbar-boxtext{word-spacing:0}.mw-parser-output .navbar ul{display:inline-block;white-space:nowrap;line-height:inherit}.mw-parser-output .navbar-brackets::before{margin-right:-0.125em;content:\"[ \"}.mw-parser-output .navbar-brackets::after{margin-left:-0.125em;content:\" ]\"}.mw-parser-output .navbar li{word-spacing:-0.125em}.mw-parser-output .navbar-mini abbr{font-variant:small-caps;border-bottom:none;text-decoration:none;cursor:inherit}.mw-parser-output .navbar-ct-full{font-size:114%;margin:0 7em}.mw-parser-output .navbar-ct-mini{font-size:114%;margin:0 4em}.mw-parser-output .infobox .navbar{font-size:100%}.mw-parser-output .navbox .navbar{display:block;font-size:100%}.mw-parser-output .navbox-title .navbar{float:left;text-align:left;margin-right:0.5em}</style><div class=\"navbar plainlinks hlist navbar-mini\"><ul><li class=\"nv-view\"><a href=\"/wiki/Template:Hot_100_year-end_charts\" title=\"Template:Hot 100 year-end charts\"><abbr title=\"View this template\" style=\";;background:none transparent;border:none;box-shadow:none;padding:0;\">v</abbr></a></li><li class=\"nv-talk\"><a href=\"/wiki/Template_talk:Hot_100_year-end_charts\" title=\"Template talk:Hot 100 year-end charts\"><abbr title=\"Discuss this template\" style=\";;background:none transparent;border:none;box-shadow:none;padding:0;\">t</abbr></a></li><li class=\"nv-edit\"><a class=\"external text\" href=\"https://en.wikipedia.org/w/index.php?title=Template:Hot_100_year-end_charts&amp;action=edit\"><abbr title=\"Edit this template\" style=\";;background:none transparent;border:none;box-shadow:none;padding:0;\">e</abbr></a></li></ul></div><div id=\"Billboard_Year-End_Hot_100_singles\" style=\"font-size:114%;margin:0 4em\"><a href=\"/wiki/Billboard_(magazine)\" title=\"Billboard (magazine)\"><i>Billboard</i></a> <a href=\"/wiki/Billboard_Year-End\" title=\"Billboard Year-End\">Year-End</a> <a href=\"/wiki/Billboard_Hot_100\" title=\"Billboard Hot 100\">Hot 100</a> singles</div></th></tr><tr><th scope=\"row\" class=\"navbox-group\" style=\"width:1%\">1940–1949</th><td class=\"navbox-list navbox-odd hlist\" style=\"text-align:left;border-left-width:2px;border-left-style:solid;width:100%;padding:0px\"><div style=\"padding:0em 0.25em\">\\n<ul><li><a href=\"/wiki/Billboard_year-end_top_singles_of_1946\" title=\"Billboard year-end top singles of 1946\">1946</a></li>\\n<li><a href=\"/wiki/Billboard_year-end_top_singles_of_1947\" title=\"Billboard year-end top singles of 1947\">1947</a></li>\\n<li><a href=\"/wiki/Billboard_year-end_top_singles_of_1948\" title=\"Billboard year-end top singles of 1948\">1948</a></li>\\n<li><a href=\"/wiki/Billboard_year-end_top_30_singles_of_1949\" title=\"Billboard year-end top 30 singles of 1949\">1949</a></li></ul>\\n</div></td></tr><tr><th scope=\"row\" class=\"navbox-group\" style=\"width:1%\">1950–1969</th><td class=\"navbox-list navbox-even hlist\" style=\"text-align:left;border-left-width:2px;border-left-style:solid;width:100%;padding:0px\"><div style=\"padding:0em 0.25em\">\\n<ul><li><a href=\"/wiki/Billboard_year-end_top_30_singles_of_1950\" title=\"Billboard year-end top 30 singles of 1950\">1950</a></li>\\n<li><a href=\"/wiki/Billboard_year-end_top_30_singles_of_1951\" title=\"Billboard year-end top 30 singles of 1951\">1951</a></li>\\n<li><a href=\"/wiki/Billboard_year-end_top_30_singles_of_1952\" title=\"Billboard year-end top 30 singles of 1952\">1952</a></li>\\n<li><a href=\"/wiki/Billboard_year-end_top_30_singles_of_1953\" title=\"Billboard year-end top 30 singles of 1953\">1953</a></li>\\n<li><a href=\"/wiki/Billboard_year-end_top_30_singles_of_1954\" title=\"Billboard year-end top 30 singles of 1954\">1954</a></li>\\n<li><a href=\"/wiki/Billboard_year-end_top_30_singles_of_1955\" title=\"Billboard year-end top 30 singles of 1955\">1955</a></li>\\n<li><a href=\"/wiki/Billboard_year-end_top_50_singles_of_1956\" title=\"Billboard year-end top 50 singles of 1956\">1956</a></li>\\n<li><a href=\"/wiki/Billboard_year-end_top_50_singles_of_1957\" title=\"Billboard year-end top 50 singles of 1957\">1957</a></li>\\n<li><a href=\"/wiki/Billboard_year-end_top_50_singles_of_1958\" title=\"Billboard year-end top 50 singles of 1958\">1958</a></li>\\n<li><a href=\"/wiki/Billboard_Year-End_Hot_100_singles_of_1959\" title=\"Billboard Year-End Hot 100 singles of 1959\">1959</a></li>\\n<li><a href=\"/wiki/Billboard_Year-End_Hot_100_singles_of_1960\" title=\"Billboard Year-End Hot 100 singles of 1960\">1960</a></li>\\n<li><a href=\"/wiki/Billboard_Year-End_Hot_100_singles_of_1961\" title=\"Billboard Year-End Hot 100 singles of 1961\">1961</a></li>\\n<li><a href=\"/wiki/Billboard_Year-End_Hot_100_singles_of_1962\" title=\"Billboard Year-End Hot 100 singles of 1962\">1962</a></li>\\n<li><a href=\"/wiki/Billboard_Year-End_Hot_100_singles_of_1963\" title=\"Billboard Year-End Hot 100 singles of 1963\">1963</a></li>\\n<li><a href=\"/wiki/Billboard_Year-End_Hot_100_singles_of_1964\" title=\"Billboard Year-End Hot 100 singles of 1964\">1964</a></li>\\n<li><a href=\"/wiki/Billboard_Year-End_Hot_100_singles_of_1965\" title=\"Billboard Year-End Hot 100 singles of 1965\">1965</a></li>\\n<li><a href=\"/wiki/Billboard_Year-End_Hot_100_singles_of_1966\" title=\"Billboard Year-End Hot 100 singles of 1966\">1966</a></li>\\n<li><a href=\"/wiki/Billboard_Year-End_Hot_100_singles_of_1967\" title=\"Billboard Year-End Hot 100 singles of 1967\">1967</a></li>\\n<li><a href=\"/wiki/Billboard_Year-End_Hot_100_singles_of_1968\" title=\"Billboard Year-End Hot 100 singles of 1968\">1968</a></li>\\n<li><a href=\"/wiki/Billboard_Year-End_Hot_100_singles_of_1969\" title=\"Billboard Year-End Hot 100 singles of 1969\">1969</a></li></ul>\\n</div></td></tr><tr><th scope=\"row\" class=\"navbox-group\" style=\"width:1%\">1970–1989</th><td class=\"navbox-list navbox-odd hlist\" style=\"text-align:left;border-left-width:2px;border-left-style:solid;width:100%;padding:0px\"><div style=\"padding:0em 0.25em\">\\n<ul><li><a href=\"/wiki/Billboard_Year-End_Hot_100_singles_of_1970\" title=\"Billboard Year-End Hot 100 singles of 1970\">1970</a></li>\\n<li><a href=\"/wiki/Billboard_Year-End_Hot_100_singles_of_1971\" title=\"Billboard Year-End Hot 100 singles of 1971\">1971</a></li>\\n<li><a href=\"/wiki/Billboard_Year-End_Hot_100_singles_of_1972\" title=\"Billboard Year-End Hot 100 singles of 1972\">1972</a></li>\\n<li><a href=\"/wiki/Billboard_Year-End_Hot_100_singles_of_1973\" title=\"Billboard Year-End Hot 100 singles of 1973\">1973</a></li>\\n<li><a href=\"/wiki/Billboard_Year-End_Hot_100_singles_of_1974\" title=\"Billboard Year-End Hot 100 singles of 1974\">1974</a></li>\\n<li><a href=\"/wiki/Billboard_Year-End_Hot_100_singles_of_1975\" title=\"Billboard Year-End Hot 100 singles of 1975\">1975</a></li>\\n<li><a href=\"/wiki/Billboard_Year-End_Hot_100_singles_of_1976\" title=\"Billboard Year-End Hot 100 singles of 1976\">1976</a></li>\\n<li><a href=\"/wiki/Billboard_Year-End_Hot_100_singles_of_1977\" title=\"Billboard Year-End Hot 100 singles of 1977\">1977</a></li>\\n<li><a href=\"/wiki/Billboard_Year-End_Hot_100_singles_of_1978\" title=\"Billboard Year-End Hot 100 singles of 1978\">1978</a></li>\\n<li><a href=\"/wiki/Billboard_Year-End_Hot_100_singles_of_1979\" title=\"Billboard Year-End Hot 100 singles of 1979\">1979</a></li>\\n<li><a href=\"/wiki/Billboard_Year-End_Hot_100_singles_of_1980\" title=\"Billboard Year-End Hot 100 singles of 1980\">1980</a></li>\\n<li><a href=\"/wiki/Billboard_Year-End_Hot_100_singles_of_1981\" title=\"Billboard Year-End Hot 100 singles of 1981\">1981</a></li>\\n<li><a href=\"/wiki/Billboard_Year-End_Hot_100_singles_of_1982\" title=\"Billboard Year-End Hot 100 singles of 1982\">1982</a></li>\\n<li><a href=\"/wiki/Billboard_Year-End_Hot_100_singles_of_1983\" title=\"Billboard Year-End Hot 100 singles of 1983\">1983</a></li>\\n<li><a href=\"/wiki/Billboard_Year-End_Hot_100_singles_of_1984\" title=\"Billboard Year-End Hot 100 singles of 1984\">1984</a></li>\\n<li><a href=\"/wiki/Billboard_Year-End_Hot_100_singles_of_1985\" title=\"Billboard Year-End Hot 100 singles of 1985\">1985</a></li>\\n<li><a href=\"/wiki/Billboard_Year-End_Hot_100_singles_of_1986\" title=\"Billboard Year-End Hot 100 singles of 1986\">1986</a></li>\\n<li><a href=\"/wiki/Billboard_Year-End_Hot_100_singles_of_1987\" title=\"Billboard Year-End Hot 100 singles of 1987\">1987</a></li>\\n<li><a href=\"/wiki/Billboard_Year-End_Hot_100_singles_of_1988\" title=\"Billboard Year-End Hot 100 singles of 1988\">1988</a></li>\\n<li><a href=\"/wiki/Billboard_Year-End_Hot_100_singles_of_1989\" title=\"Billboard Year-End Hot 100 singles of 1989\">1989</a></li></ul>\\n</div></td></tr><tr><th scope=\"row\" class=\"navbox-group\" style=\"width:1%\">1990–2009</th><td class=\"navbox-list navbox-even hlist\" style=\"text-align:left;border-left-width:2px;border-left-style:solid;width:100%;padding:0px\"><div style=\"padding:0em 0.25em\">\\n<ul><li><a href=\"/wiki/Billboard_Year-End_Hot_100_singles_of_1990\" title=\"Billboard Year-End Hot 100 singles of 1990\">1990</a></li>\\n<li><a href=\"/wiki/Billboard_Year-End_Hot_100_singles_of_1991\" title=\"Billboard Year-End Hot 100 singles of 1991\">1991</a></li>\\n<li><a class=\"mw-selflink selflink\">1992</a></li>\\n<li><a href=\"/wiki/Billboard_Year-End_Hot_100_singles_of_1993\" title=\"Billboard Year-End Hot 100 singles of 1993\">1993</a></li>\\n<li><a href=\"/wiki/Billboard_Year-End_Hot_100_singles_of_1994\" title=\"Billboard Year-End Hot 100 singles of 1994\">1994</a></li>\\n<li><a href=\"/wiki/Billboard_Year-End_Hot_100_singles_of_1995\" title=\"Billboard Year-End Hot 100 singles of 1995\">1995</a></li>\\n<li><a href=\"/wiki/Billboard_Year-End_Hot_100_singles_of_1996\" title=\"Billboard Year-End Hot 100 singles of 1996\">1996</a></li>\\n<li><a href=\"/wiki/Billboard_Year-End_Hot_100_singles_of_1997\" title=\"Billboard Year-End Hot 100 singles of 1997\">1997</a></li>\\n<li><a href=\"/wiki/Billboard_Year-End_Hot_100_singles_of_1998\" title=\"Billboard Year-End Hot 100 singles of 1998\">1998</a></li>\\n<li><a href=\"/wiki/Billboard_Year-End_Hot_100_singles_of_1999\" title=\"Billboard Year-End Hot 100 singles of 1999\">1999</a></li>\\n<li><a href=\"/wiki/Billboard_Year-End_Hot_100_singles_of_2000\" title=\"Billboard Year-End Hot 100 singles of 2000\">2000</a></li>\\n<li><a href=\"/wiki/Billboard_Year-End_Hot_100_singles_of_2001\" title=\"Billboard Year-End Hot 100 singles of 2001\">2001</a></li>\\n<li><a href=\"/wiki/Billboard_Year-End_Hot_100_singles_of_2002\" title=\"Billboard Year-End Hot 100 singles of 2002\">2002</a></li>\\n<li><a href=\"/wiki/Billboard_Year-End_Hot_100_singles_of_2003\" title=\"Billboard Year-End Hot 100 singles of 2003\">2003</a></li>\\n<li><a href=\"/wiki/Billboard_Year-End_Hot_100_singles_of_2004\" title=\"Billboard Year-End Hot 100 singles of 2004\">2004</a></li>\\n<li><a href=\"/wiki/Billboard_Year-End_Hot_100_singles_of_2005\" title=\"Billboard Year-End Hot 100 singles of 2005\">2005</a></li>\\n<li><a href=\"/wiki/Billboard_Year-End_Hot_100_singles_of_2006\" title=\"Billboard Year-End Hot 100 singles of 2006\">2006</a></li>\\n<li><a href=\"/wiki/Billboard_Year-End_Hot_100_singles_of_2007\" title=\"Billboard Year-End Hot 100 singles of 2007\">2007</a></li>\\n<li><a href=\"/wiki/Billboard_Year-End_Hot_100_singles_of_2008\" title=\"Billboard Year-End Hot 100 singles of 2008\">2008</a></li>\\n<li><a href=\"/wiki/Billboard_Year-End_Hot_100_singles_of_2009\" title=\"Billboard Year-End Hot 100 singles of 2009\">2009</a></li></ul>\\n</div></td></tr><tr><th scope=\"row\" class=\"navbox-group\" style=\"width:1%\">2010–present</th><td class=\"navbox-list navbox-odd hlist\" style=\"text-align:left;border-left-width:2px;border-left-style:solid;width:100%;padding:0px\"><div style=\"padding:0em 0.25em\">\\n<ul><li><a href=\"/wiki/Billboard_Year-End_Hot_100_singles_of_2010\" title=\"Billboard Year-End Hot 100 singles of 2010\">2010</a></li>\\n<li><a href=\"/wiki/Billboard_Year-End_Hot_100_singles_of_2011\" title=\"Billboard Year-End Hot 100 singles of 2011\">2011</a></li>\\n<li><a href=\"/wiki/Billboard_Year-End_Hot_100_singles_of_2012\" title=\"Billboard Year-End Hot 100 singles of 2012\">2012</a></li>\\n<li><a href=\"/wiki/Billboard_Year-End_Hot_100_singles_of_2013\" title=\"Billboard Year-End Hot 100 singles of 2013\">2013</a></li>\\n<li><a href=\"/wiki/Billboard_Year-End_Hot_100_singles_of_2014\" title=\"Billboard Year-End Hot 100 singles of 2014\">2014</a></li>\\n<li><a href=\"/wiki/Billboard_Year-End_Hot_100_singles_of_2015\" title=\"Billboard Year-End Hot 100 singles of 2015\">2015</a></li>\\n<li><a href=\"/wiki/Billboard_Year-End_Hot_100_singles_of_2016\" title=\"Billboard Year-End Hot 100 singles of 2016\">2016</a></li>\\n<li><a href=\"/wiki/Billboard_Year-End_Hot_100_singles_of_2017\" title=\"Billboard Year-End Hot 100 singles of 2017\">2017</a></li>\\n<li><a href=\"/wiki/Billboard_Year-End_Hot_100_singles_of_2018\" title=\"Billboard Year-End Hot 100 singles of 2018\">2018</a></li>\\n<li><a href=\"/wiki/Billboard_Year-End_Hot_100_singles_of_2019\" title=\"Billboard Year-End Hot 100 singles of 2019\">2019</a></li>\\n<li><a href=\"/wiki/Billboard_Year-End_Hot_100_singles_of_2020\" title=\"Billboard Year-End Hot 100 singles of 2020\">2020</a></li></ul>\\n</div></td></tr></tbody></table></div>\\n<!-- \\nNewPP limit report\\nParsed by mw1324\\nCached time: 20210130162128\\nCache expiry: 2592000\\nDynamic content: false\\nComplications: [vary‐revision‐sha1]\\nCPU time usage: 0.204 seconds\\nReal time usage: 0.267 seconds\\nPreprocessor visited node count: 373/1000000\\nPost‐expand include size: 21477/2097152 bytes\\nTemplate argument size: 106/2097152 bytes\\nHighest expansion depth: 8/40\\nExpensive parser function count: 0/500\\nUnstrip recursion depth: 1/20\\nUnstrip post‐expand size: 4100/5000000 bytes\\nLua time usage: 0.100/10.000 seconds\\nLua memory usage: 2215016/52428800 bytes\\nNumber of Wikibase entities loaded: 0/400\\n-->\\n<!--\\nTransclusion expansion time report (%,ms,calls,template)\\n100.00%  179.516      1 -total\\n 74.79%  134.265      1 Template:Reflist\\n 66.97%  120.222      1 Template:Cite_journal\\n 25.16%   45.159      1 Template:Top_Hot_100_Hits\\n 21.05%   37.795      1 Template:Navbox\\n  2.10%    3.776      1 Template:Main_other\\n-->\\n\\n<!-- Saved in parser cache with key enwiki:pcache:idhash:24333129-0!canonical and timestamp 20210130162128 and revision id 979637208. Serialized with JSON.\\n -->\\n</div><noscript><img src=\"//en.wikipedia.org/wiki/Special:CentralAutoLogin/start?type=1x1\" alt=\"\" title=\"\" width=\"1\" height=\"1\" style=\"border: none; position: absolute;\" /></noscript>\\n<div class=\"printfooter\">Retrieved from \"<a dir=\"ltr\" href=\"https://en.wikipedia.org/w/index.php?title=Billboard_Year-End_Hot_100_singles_of_1992&amp;oldid=979637208\">https://en.wikipedia.org/w/index.php?title=Billboard_Year-End_Hot_100_singles_of_1992&amp;oldid=979637208</a>\"</div></div>\\n\\t\\t<div id=\"catlinks\" class=\"catlinks\" data-mw=\"interface\"><div id=\"mw-normal-catlinks\" class=\"mw-normal-catlinks\"><a href=\"/wiki/Help:Category\" title=\"Help:Category\">Categories</a>: <ul><li><a href=\"/wiki/Category:1992_record_charts\" title=\"Category:1992 record charts\">1992 record charts</a></li><li><a href=\"/wiki/Category:Billboard_charts\" title=\"Category:Billboard charts\">Billboard charts</a></li></ul></div></div>\\n\\t</div>\\n</div>\\n<div id=\\'mw-data-after-content\\'>\\n\\t<div class=\"read-more-container\"></div>\\n</div>\\n\\n<div id=\"mw-navigation\">\\n\\t<h2>Navigation menu</h2>\\n\\t<div id=\"mw-head\">\\n\\t\\t<!-- Please do not use role attribute as CSS selector, it is deprecated. -->\\n<nav id=\"p-personal\" class=\"mw-portlet mw-portlet-personal vector-menu\" aria-labelledby=\"p-personal-label\" role=\"navigation\" \\n\\t >\\n\\t<h3 id=\"p-personal-label\">\\n\\t\\t<span>Personal tools</span>\\n\\t</h3>\\n\\t<div class=\"vector-menu-content\">\\n\\t\\t<ul class=\"vector-menu-content-list\"><li id=\"pt-anonuserpage\">Not logged in</li><li id=\"pt-anontalk\"><a href=\"/wiki/Special:MyTalk\" title=\"Discussion about edits from this IP address [n]\" accesskey=\"n\">Talk</a></li><li id=\"pt-anoncontribs\"><a href=\"/wiki/Special:MyContributions\" title=\"A list of edits made from this IP address [y]\" accesskey=\"y\">Contributions</a></li><li id=\"pt-createaccount\"><a href=\"/w/index.php?title=Special:CreateAccount&amp;returnto=Billboard+Year-End+Hot+100+singles+of+1992\" title=\"You are encouraged to create an account and log in; however, it is not mandatory\">Create account</a></li><li id=\"pt-login\"><a href=\"/w/index.php?title=Special:UserLogin&amp;returnto=Billboard+Year-End+Hot+100+singles+of+1992\" title=\"You&#039;re encouraged to log in; however, it&#039;s not mandatory. [o]\" accesskey=\"o\">Log in</a></li></ul>\\n\\t\\t\\n\\t</div>\\n</nav>\\n\\n\\t\\t<div id=\"left-navigation\">\\n\\t\\t\\t<!-- Please do not use role attribute as CSS selector, it is deprecated. -->\\n<nav id=\"p-namespaces\" class=\"mw-portlet mw-portlet-namespaces vector-menu vector-menu-tabs\" aria-labelledby=\"p-namespaces-label\" role=\"navigation\" \\n\\t >\\n\\t<h3 id=\"p-namespaces-label\">\\n\\t\\t<span>Namespaces</span>\\n\\t</h3>\\n\\t<div class=\"vector-menu-content\">\\n\\t\\t<ul class=\"vector-menu-content-list\"><li id=\"ca-nstab-main\" class=\"selected\"><a href=\"/wiki/Billboard_Year-End_Hot_100_singles_of_1992\" title=\"View the content page [c]\" accesskey=\"c\">Article</a></li><li id=\"ca-talk\"><a href=\"/wiki/Talk:Billboard_Year-End_Hot_100_singles_of_1992\" rel=\"discussion\" title=\"Discuss improvements to the content page [t]\" accesskey=\"t\">Talk</a></li></ul>\\n\\t\\t\\n\\t</div>\\n</nav>\\n\\n\\t\\t\\t<!-- Please do not use role attribute as CSS selector, it is deprecated. -->\\n<nav id=\"p-variants\" class=\"mw-portlet mw-portlet-variants emptyPortlet vector-menu vector-menu-dropdown\" aria-labelledby=\"p-variants-label\" role=\"navigation\" \\n\\t >\\n\\t<input type=\"checkbox\" class=\"vector-menu-checkbox\" aria-labelledby=\"p-variants-label\" />\\n\\t<h3 id=\"p-variants-label\">\\n\\t\\t<span>Variants</span>\\n\\t</h3>\\n\\t<div class=\"vector-menu-content\">\\n\\t\\t<ul class=\"vector-menu-content-list\"></ul>\\n\\t\\t\\n\\t</div>\\n</nav>\\n\\n\\t\\t</div>\\n\\t\\t<div id=\"right-navigation\">\\n\\t\\t\\t<!-- Please do not use role attribute as CSS selector, it is deprecated. -->\\n<nav id=\"p-views\" class=\"mw-portlet mw-portlet-views vector-menu vector-menu-tabs\" aria-labelledby=\"p-views-label\" role=\"navigation\" \\n\\t >\\n\\t<h3 id=\"p-views-label\">\\n\\t\\t<span>Views</span>\\n\\t</h3>\\n\\t<div class=\"vector-menu-content\">\\n\\t\\t<ul class=\"vector-menu-content-list\"><li id=\"ca-view\" class=\"selected\"><a href=\"/wiki/Billboard_Year-End_Hot_100_singles_of_1992\">Read</a></li><li id=\"ca-edit\"><a href=\"/w/index.php?title=Billboard_Year-End_Hot_100_singles_of_1992&amp;action=edit\" title=\"Edit this page [e]\" accesskey=\"e\">Edit</a></li><li id=\"ca-history\"><a href=\"/w/index.php?title=Billboard_Year-End_Hot_100_singles_of_1992&amp;action=history\" title=\"Past revisions of this page [h]\" accesskey=\"h\">View history</a></li></ul>\\n\\t\\t\\n\\t</div>\\n</nav>\\n\\n\\t\\t\\t<!-- Please do not use role attribute as CSS selector, it is deprecated. -->\\n<nav id=\"p-cactions\" class=\"mw-portlet mw-portlet-cactions emptyPortlet vector-menu vector-menu-dropdown\" aria-labelledby=\"p-cactions-label\" role=\"navigation\" \\n\\t >\\n\\t<input type=\"checkbox\" class=\"vector-menu-checkbox\" aria-labelledby=\"p-cactions-label\" />\\n\\t<h3 id=\"p-cactions-label\">\\n\\t\\t<span>More</span>\\n\\t</h3>\\n\\t<div class=\"vector-menu-content\">\\n\\t\\t<ul class=\"vector-menu-content-list\"></ul>\\n\\t\\t\\n\\t</div>\\n</nav>\\n\\n\\t\\t\\t<div id=\"p-search\" role=\"search\">\\n\\t<h3 >\\n\\t\\t<label for=\"searchInput\">Search</label>\\n\\t</h3>\\n\\t<form action=\"/w/index.php\" id=\"searchform\">\\n\\t\\t<div id=\"simpleSearch\" data-search-loc=\"header-navigation\">\\n\\t\\t\\t<input type=\"search\" name=\"search\" placeholder=\"Search Wikipedia\" autocapitalize=\"sentences\" title=\"Search Wikipedia [f]\" accesskey=\"f\" id=\"searchInput\"/>\\n\\t\\t\\t<input type=\"hidden\" name=\"title\" value=\"Special:Search\">\\n\\t\\t\\t<input type=\"submit\" name=\"fulltext\" value=\"Search\" title=\"Search Wikipedia for this text\" id=\"mw-searchButton\" class=\"searchButton mw-fallbackSearchButton\"/>\\n\\t\\t\\t<input type=\"submit\" name=\"go\" value=\"Go\" title=\"Go to a page with this exact name if it exists\" id=\"searchButton\" class=\"searchButton\"/>\\n\\t\\t</div>\\n\\t</form>\\n</div>\\n\\n\\t\\t</div>\\n\\t</div>\\n\\t\\n<div id=\"mw-panel\">\\n\\t<div id=\"p-logo\" role=\"banner\">\\n\\t\\t<a class=\"mw-wiki-logo\" href=\"/wiki/Main_Page\"\\n\\t\\t\\ttitle=\"Visit the main page\"></a>\\n\\t</div>\\n\\t<!-- Please do not use role attribute as CSS selector, it is deprecated. -->\\n<nav id=\"p-navigation\" class=\"mw-portlet mw-portlet-navigation vector-menu vector-menu-portal portal\" aria-labelledby=\"p-navigation-label\" role=\"navigation\" \\n\\t >\\n\\t<h3 id=\"p-navigation-label\">\\n\\t\\t<span>Navigation</span>\\n\\t</h3>\\n\\t<div class=\"vector-menu-content\">\\n\\t\\t<ul class=\"vector-menu-content-list\"><li id=\"n-mainpage-description\"><a href=\"/wiki/Main_Page\" title=\"Visit the main page [z]\" accesskey=\"z\">Main page</a></li><li id=\"n-contents\"><a href=\"/wiki/Wikipedia:Contents\" title=\"Guides to browsing Wikipedia\">Contents</a></li><li id=\"n-currentevents\"><a href=\"/wiki/Portal:Current_events\" title=\"Articles related to current events\">Current events</a></li><li id=\"n-randompage\"><a href=\"/wiki/Special:Random\" title=\"Visit a randomly selected article [x]\" accesskey=\"x\">Random article</a></li><li id=\"n-aboutsite\"><a href=\"/wiki/Wikipedia:About\" title=\"Learn about Wikipedia and how it works\">About Wikipedia</a></li><li id=\"n-contactpage\"><a href=\"//en.wikipedia.org/wiki/Wikipedia:Contact_us\" title=\"How to contact Wikipedia\">Contact us</a></li><li id=\"n-sitesupport\"><a href=\"https://donate.wikimedia.org/wiki/Special:FundraiserRedirector?utm_source=donate&amp;utm_medium=sidebar&amp;utm_campaign=C13_en.wikipedia.org&amp;uselang=en\" title=\"Support us by donating to the Wikimedia Foundation\">Donate</a></li></ul>\\n\\t\\t\\n\\t</div>\\n</nav>\\n\\n\\t<!-- Please do not use role attribute as CSS selector, it is deprecated. -->\\n<nav id=\"p-interaction\" class=\"mw-portlet mw-portlet-interaction vector-menu vector-menu-portal portal\" aria-labelledby=\"p-interaction-label\" role=\"navigation\" \\n\\t >\\n\\t<h3 id=\"p-interaction-label\">\\n\\t\\t<span>Contribute</span>\\n\\t</h3>\\n\\t<div class=\"vector-menu-content\">\\n\\t\\t<ul class=\"vector-menu-content-list\"><li id=\"n-help\"><a href=\"/wiki/Help:Contents\" title=\"Guidance on how to use and edit Wikipedia\">Help</a></li><li id=\"n-introduction\"><a href=\"/wiki/Help:Introduction\" title=\"Learn how to edit Wikipedia\">Learn to edit</a></li><li id=\"n-portal\"><a href=\"/wiki/Wikipedia:Community_portal\" title=\"The hub for editors\">Community portal</a></li><li id=\"n-recentchanges\"><a href=\"/wiki/Special:RecentChanges\" title=\"A list of recent changes to Wikipedia [r]\" accesskey=\"r\">Recent changes</a></li><li id=\"n-upload\"><a href=\"/wiki/Wikipedia:File_Upload_Wizard\" title=\"Add images or other media for use on Wikipedia\">Upload file</a></li></ul>\\n\\t\\t\\n\\t</div>\\n</nav>\\n<!-- Please do not use role attribute as CSS selector, it is deprecated. -->\\n<nav id=\"p-tb\" class=\"mw-portlet mw-portlet-tb vector-menu vector-menu-portal portal\" aria-labelledby=\"p-tb-label\" role=\"navigation\" \\n\\t >\\n\\t<h3 id=\"p-tb-label\">\\n\\t\\t<span>Tools</span>\\n\\t</h3>\\n\\t<div class=\"vector-menu-content\">\\n\\t\\t<ul class=\"vector-menu-content-list\"><li id=\"t-whatlinkshere\"><a href=\"/wiki/Special:WhatLinksHere/Billboard_Year-End_Hot_100_singles_of_1992\" title=\"List of all English Wikipedia pages containing links to this page [j]\" accesskey=\"j\">What links here</a></li><li id=\"t-recentchangeslinked\"><a href=\"/wiki/Special:RecentChangesLinked/Billboard_Year-End_Hot_100_singles_of_1992\" rel=\"nofollow\" title=\"Recent changes in pages linked from this page [k]\" accesskey=\"k\">Related changes</a></li><li id=\"t-upload\"><a href=\"/wiki/Wikipedia:File_Upload_Wizard\" title=\"Upload files [u]\" accesskey=\"u\">Upload file</a></li><li id=\"t-specialpages\"><a href=\"/wiki/Special:SpecialPages\" title=\"A list of all special pages [q]\" accesskey=\"q\">Special pages</a></li><li id=\"t-permalink\"><a href=\"/w/index.php?title=Billboard_Year-End_Hot_100_singles_of_1992&amp;oldid=979637208\" title=\"Permanent link to this revision of this page\">Permanent link</a></li><li id=\"t-info\"><a href=\"/w/index.php?title=Billboard_Year-End_Hot_100_singles_of_1992&amp;action=info\" title=\"More information about this page\">Page information</a></li><li id=\"t-cite\"><a href=\"/w/index.php?title=Special:CiteThisPage&amp;page=Billboard_Year-End_Hot_100_singles_of_1992&amp;id=979637208&amp;wpFormIdentifier=titleform\" title=\"Information on how to cite this page\">Cite this page</a></li><li id=\"t-wikibase\"><a href=\"https://www.wikidata.org/wiki/Special:EntityPage/Q1415621\" title=\"Structured data on this page hosted by Wikidata [g]\" accesskey=\"g\">Wikidata item</a></li></ul>\\n\\t\\t\\n\\t</div>\\n</nav>\\n<!-- Please do not use role attribute as CSS selector, it is deprecated. -->\\n<nav id=\"p-coll-print_export\" class=\"mw-portlet mw-portlet-coll-print_export vector-menu vector-menu-portal portal\" aria-labelledby=\"p-coll-print_export-label\" role=\"navigation\" \\n\\t >\\n\\t<h3 id=\"p-coll-print_export-label\">\\n\\t\\t<span>Print/export</span>\\n\\t</h3>\\n\\t<div class=\"vector-menu-content\">\\n\\t\\t<ul class=\"vector-menu-content-list\"><li id=\"coll-download-as-rl\"><a href=\"/w/index.php?title=Special:DownloadAsPdf&amp;page=Billboard_Year-End_Hot_100_singles_of_1992&amp;action=show-download-screen\" title=\"Download this page as a PDF file\">Download as PDF</a></li><li id=\"t-print\"><a href=\"/w/index.php?title=Billboard_Year-End_Hot_100_singles_of_1992&amp;printable=yes\" title=\"Printable version of this page [p]\" accesskey=\"p\">Printable version</a></li></ul>\\n\\t\\t\\n\\t</div>\\n</nav>\\n\\n\\t<!-- Please do not use role attribute as CSS selector, it is deprecated. -->\\n<nav id=\"p-lang\" class=\"mw-portlet mw-portlet-lang vector-menu vector-menu-portal portal\" aria-labelledby=\"p-lang-label\" role=\"navigation\" \\n\\t >\\n\\t<h3 id=\"p-lang-label\">\\n\\t\\t<span>Languages</span>\\n\\t</h3>\\n\\t<div class=\"vector-menu-content\">\\n\\t\\t<ul class=\"vector-menu-content-list\"><li class=\"interlanguage-link interwiki-hu\"><a href=\"https://hu.wikipedia.org/wiki/1992_100_legnagyobb_sl%C3%A1gere\" title=\"1992 100 legnagyobb slágere – Hungarian\" lang=\"hu\" hreflang=\"hu\" class=\"interlanguage-link-target\">Magyar</a></li><li class=\"interlanguage-link interwiki-ru\"><a href=\"https://ru.wikipedia.org/wiki/%D0%9B%D1%83%D1%87%D1%88%D0%B8%D0%B5_%D1%81%D0%B8%D0%BD%D0%B3%D0%BB%D1%8B_%D0%A1%D0%A8%D0%90_1992_%D0%B3%D0%BE%D0%B4%D0%B0_%D0%BF%D0%BE_%D0%B2%D0%B5%D1%80%D1%81%D0%B8%D0%B8_Billboard\" title=\"Лучшие синглы США 1992 года по версии Billboard – Russian\" lang=\"ru\" hreflang=\"ru\" class=\"interlanguage-link-target\">Русский</a></li></ul>\\n\\t\\t<div class=\"after-portlet after-portlet-lang\"><span class=\"wb-langlinks-edit wb-langlinks-link\"><a href=\"https://www.wikidata.org/wiki/Special:EntityPage/Q1415621#sitelinks-wikipedia\" title=\"Edit interlanguage links\" class=\"wbc-editpage\">Edit links</a></span></div>\\n\\t</div>\\n</nav>\\n\\n</div>\\n\\n</div>\\n<footer id=\"footer\" class=\"mw-footer\" role=\"contentinfo\" >\\n\\t<ul id=\"footer-info\" >\\n\\t<li id=\"footer-info-lastmod\"> This page was last edited on 21 September 2020, at 21:31<span class=\"anonymous-show\">&#160;(UTC)</span>.</li>\\n\\t<li id=\"footer-info-copyright\">Text is available under the <a rel=\"license\" href=\"//en.wikipedia.org/wiki/Wikipedia:Text_of_Creative_Commons_Attribution-ShareAlike_3.0_Unported_License\">Creative Commons Attribution-ShareAlike License</a><a rel=\"license\" href=\"//creativecommons.org/licenses/by-sa/3.0/\" style=\"display:none;\"></a>;\\nadditional terms may apply.  By using this site, you agree to the <a href=\"//foundation.wikimedia.org/wiki/Terms_of_Use\">Terms of Use</a> and <a href=\"//foundation.wikimedia.org/wiki/Privacy_policy\">Privacy Policy</a>. Wikipedia® is a registered trademark of the <a href=\"//www.wikimediafoundation.org/\">Wikimedia Foundation, Inc.</a>, a non-profit organization.</li>\\n</ul>\\n\\n\\t<ul id=\"footer-places\" >\\n\\t<li id=\"footer-places-privacy\"><a href=\"https://foundation.wikimedia.org/wiki/Privacy_policy\" class=\"extiw\" title=\"wmf:Privacy policy\">Privacy policy</a></li>\\n\\t<li id=\"footer-places-about\"><a href=\"/wiki/Wikipedia:About\" title=\"Wikipedia:About\">About Wikipedia</a></li>\\n\\t<li id=\"footer-places-disclaimer\"><a href=\"/wiki/Wikipedia:General_disclaimer\" title=\"Wikipedia:General disclaimer\">Disclaimers</a></li>\\n\\t<li id=\"footer-places-contact\"><a href=\"//en.wikipedia.org/wiki/Wikipedia:Contact_us\">Contact Wikipedia</a></li>\\n\\t<li id=\"footer-places-mobileview\"><a href=\"//en.m.wikipedia.org/w/index.php?title=Billboard_Year-End_Hot_100_singles_of_1992&amp;mobileaction=toggle_view_mobile\" class=\"noprint stopMobileRedirectToggle\">Mobile view</a></li>\\n\\t<li id=\"footer-places-developers\"><a href=\"https://www.mediawiki.org/wiki/Special:MyLanguage/How_to_contribute\">Developers</a></li>\\n\\t<li id=\"footer-places-statslink\"><a href=\"https://stats.wikimedia.org/#/en.wikipedia.org\">Statistics</a></li>\\n\\t<li id=\"footer-places-cookiestatement\"><a href=\"https://foundation.wikimedia.org/wiki/Cookie_statement\">Cookie statement</a></li>\\n</ul>\\n\\n\\t<ul id=\"footer-icons\" class=\"noprint\">\\n\\t<li id=\"footer-copyrightico\"><a href=\"https://wikimediafoundation.org/\"><img src=\"/static/images/footer/wikimedia-button.png\" srcset=\"/static/images/footer/wikimedia-button-1.5x.png 1.5x, /static/images/footer/wikimedia-button-2x.png 2x\" width=\"88\" height=\"31\" alt=\"Wikimedia Foundation\" loading=\"lazy\" /></a></li>\\n\\t<li id=\"footer-poweredbyico\"><a href=\"https://www.mediawiki.org/\"><img src=\"/static/images/footer/poweredby_mediawiki_88x31.png\" alt=\"Powered by MediaWiki\" srcset=\"/static/images/footer/poweredby_mediawiki_132x47.png 1.5x, /static/images/footer/poweredby_mediawiki_176x62.png 2x\" width=\"88\" height=\"31\" loading=\"lazy\"/></a></li>\\n</ul>\\n\\n\\t<div style=\"clear: both;\"></div>\\n</footer>\\n\\n\\n<script>(RLQ=window.RLQ||[]).push(function(){mw.config.set({\"wgPageParseReport\":{\"limitreport\":{\"cputime\":\"0.204\",\"walltime\":\"0.267\",\"ppvisitednodes\":{\"value\":373,\"limit\":1000000},\"postexpandincludesize\":{\"value\":21477,\"limit\":2097152},\"templateargumentsize\":{\"value\":106,\"limit\":2097152},\"expansiondepth\":{\"value\":8,\"limit\":40},\"expensivefunctioncount\":{\"value\":0,\"limit\":500},\"unstrip-depth\":{\"value\":1,\"limit\":20},\"unstrip-size\":{\"value\":4100,\"limit\":5000000},\"entityaccesscount\":{\"value\":0,\"limit\":400},\"timingprofile\":[\"100.00%  179.516      1 -total\",\" 74.79%  134.265      1 Template:Reflist\",\" 66.97%  120.222      1 Template:Cite_journal\",\" 25.16%   45.159      1 Template:Top_Hot_100_Hits\",\" 21.05%   37.795      1 Template:Navbox\",\"  2.10%    3.776      1 Template:Main_other\"]},\"scribunto\":{\"limitreport-timeusage\":{\"value\":\"0.100\",\"limit\":\"10.000\"},\"limitreport-memusage\":{\"value\":2215016,\"limit\":52428800}},\"cachereport\":{\"origin\":\"mw1324\",\"timestamp\":\"20210130162128\",\"ttl\":2592000,\"transientcontent\":false}}});});</script>\\n<script type=\"application/ld+json\">{\"@context\":\"https:\\\\/\\\\/schema.org\",\"@type\":\"Article\",\"name\":\"Billboard Year-End Hot 100 singles of 1992\",\"url\":\"https:\\\\/\\\\/en.wikipedia.org\\\\/wiki\\\\/Billboard_Year-End_Hot_100_singles_of_1992\",\"sameAs\":\"http:\\\\/\\\\/www.wikidata.org\\\\/entity\\\\/Q1415621\",\"mainEntity\":\"http:\\\\/\\\\/www.wikidata.org\\\\/entity\\\\/Q1415621\",\"author\":{\"@type\":\"Organization\",\"name\":\"Contributors to Wikimedia projects\"},\"publisher\":{\"@type\":\"Organization\",\"name\":\"Wikimedia Foundation, Inc.\",\"logo\":{\"@type\":\"ImageObject\",\"url\":\"https:\\\\/\\\\/www.wikimedia.org\\\\/static\\\\/images\\\\/wmf-hor-googpub.png\"}},\"datePublished\":\"2009-09-13T21:37:11Z\",\"dateModified\":\"2020-09-21T21:31:32Z\",\"headline\":\"Wikimedia list article\"}</script>\\n<script>(RLQ=window.RLQ||[]).push(function(){mw.config.set({\"wgBackendResponseTime\":167,\"wgHostname\":\"mw1364\"});});</script>\\n</body></html>'"
            ]
          },
          "metadata": {
            "tags": []
          },
          "execution_count": 99
        }
      ]
    },
    {
      "cell_type": "markdown",
      "metadata": {
        "id": "agIKGBkVlm6G"
      },
      "source": [
        "### 1.3 Parse the data"
      ]
    },
    {
      "cell_type": "markdown",
      "metadata": {
        "id": "WZ_l5dn-lm6K"
      },
      "source": [
        "Now, write a function `parse_year(year, yeartextdict)` that returns a dictionary `yearinfo`.\n",
        "Here `year` should be the integer value of the year, and `yeartextdict` should be the HTML text for the corresponding webpage. \n",
        "This function should return a dictionary of the following form:\n",
        "\n",
        "```\n",
        "{'ranking': 32,\n",
        " 'song': ['Hot Boyz (song)'],\n",
        " 'songurl': ['/wiki/Hot_Boyz_(song)'],\n",
        " 'titletext': '\"Hot Boyz\"',\n",
        " 'band_singer': ['Missy Elliott', 'Nas', 'Eve (rapper)', 'Q-Tip (musician)'],\n",
        " 'url': ['/wiki/Missy_Elliott',\n",
        "  '/wiki/Nas',\n",
        "  '/wiki/Eve_(rapper)',\n",
        "  '/wiki/Q-Tip_(musician)']}\n",
        "```\n",
        "Notice that the `titletext` is the contents of the table cell, and retains the quotes that wikipedia puts on the single.\n",
        "\n",
        "Here are some issues that you will need to take care of:\n",
        "\n",
        "1.   The example shown above has several artists for a single song. In this case, the `band_singer` and `url` would be a list of items.\n",
        "\n",
        "2.   Some singles might even have multiple songs because of the way the industry works:\n",
        "```\n",
        "{'ranking': 98,\n",
        " 'song': [\"You're Makin' Me High\", 'Let It Flow (song)'],\n",
        " 'songurl': ['/wiki/You%27re_Makin%27_Me_High', '/wiki/Let_It_Flow_(song)'],\n",
        " 'titletext': '\"You\\'re Makin\\' Me High\" / \"Let It Flow\"',\n",
        " 'band_singer': ['Toni Braxton'],\n",
        " 'url': ['/wiki/Toni_Braxton']}\n",
        "```\n",
        "(See 1997 for an example)\n",
        "\n",
        "3. Some songs don't have a URL. In this case, assume there is one song in the single, set `songurl` to [`None`] and the song name to the contents of the table cell with the quotes stripped:\n",
        "```\n",
        "{'ranking': 45,\n",
        "  'song': ['Say It'],\n",
        "  'songurl': [None],\n",
        "  'titletext': '\"Say It\"',\n",
        "  'band_singer': ['Voices of Theory'],\n",
        "  'url': ['/wiki/Voices_of_Theory']}\n",
        "```\n",
        "(See 1998 for an example)"
      ]
    },
    {
      "cell_type": "code",
      "metadata": {
        "id": "EXpy7iA0lm6h",
        "jupyter": {
          "outputs_hidden": false
        },
        "scrolled": true,
        "colab": {
          "base_uri": "https://localhost:8080/",
          "height": 86
        },
        "outputId": "07ec092a-e9a3-42c9-9bb1-cfe5f3df3a70"
      },
      "source": [
        "\"\"\"\n",
        "Function\n",
        "--------\n",
        "parse_year\n",
        "\n",
        "Inputs\n",
        "------\n",
        "year: the year you want the singles for\n",
        "ytextdixt: a dictionary with keys as integer years and values the downloaded web pages \n",
        "    from wikipedia for that year.\n",
        "   \n",
        "Returns\n",
        "-------\n",
        "\n",
        "a list of dictionaries, each of which corresponds to a single and has the\n",
        "following data:\n",
        "\n",
        "Eg:\n",
        "\n",
        "{'band_singer': ['Brandy', 'Monica'],\n",
        "  'ranking': 2,\n",
        "  'song': ['The Boy Is Mine'],\n",
        "  'songurl': ['/wiki/The_Boy_Is_Mine_(song)'],\n",
        "  'titletext': '\" The Boy Is Mine \"',\n",
        "  'url': ['/wiki/Brandy_Norwood', '/wiki/Monica_(entertainer)']}\n",
        "  \n",
        "A dictionary with the following data:\n",
        "    band_singer: a list of bands/singers who made this single\n",
        "    song: a list of the titles of songs on this single\n",
        "    songurl: a list of the same size as song which has urls for the songs on the single \n",
        "        (see point 3 above)\n",
        "    ranking: ranking of the single\n",
        "    titletext: the contents of the table cell\n",
        "    band_singer: a list of bands or singers on this single\n",
        "    url: a list of wikipedia singer/band urls on this single: only put in the part \n",
        "        of the url from /wiki onwards\n",
        "    \n",
        "\"\"\""
      ],
      "execution_count": 131,
      "outputs": [
        {
          "output_type": "execute_result",
          "data": {
            "application/vnd.google.colaboratory.intrinsic+json": {
              "type": "string"
            },
            "text/plain": [
              "'\\nFunction\\n--------\\nparse_year\\n\\nInputs\\n------\\nyear: the year you want the singles for\\nytextdixt: a dictionary with keys as integer years and values the downloaded web pages \\n    from wikipedia for that year.\\n   \\nReturns\\n-------\\n\\na list of dictionaries, each of which corresponds to a single and has the\\nfollowing data:\\n\\nEg:\\n\\n{\\'band_singer\\': [\\'Brandy\\', \\'Monica\\'],\\n  \\'ranking\\': 2,\\n  \\'song\\': [\\'The Boy Is Mine\\'],\\n  \\'songurl\\': [\\'/wiki/The_Boy_Is_Mine_(song)\\'],\\n  \\'titletext\\': \\'\" The Boy Is Mine \"\\',\\n  \\'url\\': [\\'/wiki/Brandy_Norwood\\', \\'/wiki/Monica_(entertainer)\\']}\\n  \\nA dictionary with the following data:\\n    band_singer: a list of bands/singers who made this single\\n    song: a list of the titles of songs on this single\\n    songurl: a list of the same size as song which has urls for the songs on the single \\n        (see point 3 above)\\n    ranking: ranking of the single\\n    titletext: the contents of the table cell\\n    band_singer: a list of bands or singers on this single\\n    url: a list of wikipedia singer/band urls on this single: only put in the part \\n        of the url from /wiki onwards\\n    \\n'"
            ]
          },
          "metadata": {
            "tags": []
          },
          "execution_count": 131
        }
      ]
    },
    {
      "cell_type": "code",
      "metadata": {
        "id": "GD-mlBqRaau1"
      },
      "source": [
        "\n",
        "# def get_title(soup):\n",
        "#   titles = [clean_text(link.getText()) for link in soup.find_all('a')]\n",
        "#   return list_text_with_pipe(titles)\n",
        "\n",
        "def getSongsText(soup):\n",
        "  songs = [clean_text(link.getText()) for link in soup.find_all('a')]\n",
        "  if len(songs) > 0:\n",
        "    return list_text_with_pipe(songs)\n",
        "  return [clean_text(soup.getText())]\n",
        "\n",
        "def getSongsURL(soup):\n",
        "  links = [clean_text(link.get('href')) for link in soup.find_all('a')]\n",
        "  if len(links) > 0:\n",
        "    return list_text_with_pipe(links)\n",
        "  return [None]\n",
        "\n",
        "\n",
        "def get_single_from_row_plus(row):\n",
        "  singles_list_item = {}\n",
        "  for i, cell in enumerate(row.find_all([\"td\", \"th\"])):\n",
        "    if (i == 0):\n",
        "      singles_list_item[\"ranking\"] = get_ranking(cell)\n",
        "    elif (i == 1):\n",
        "      singles_list_item[\"titletext\"] = cell.getText()\n",
        "      singles_list_item[\"song\"] = getSongsText(cell)\n",
        "      singles_list_item[\"songurl\"] = getSongsURL(cell)\n",
        "      # singles_list_item[\"titletext\"] = get_title(cell)\n",
        "      \n",
        "    elif (i == 2):\n",
        "      singles_list_item[\"band_singer\"] = get_band_singer(cell)\n",
        "      singles_list_item[\"url\"] = get_band_singer_URL(cell)\n",
        "  return singles_list_item\n",
        "\n",
        "def build_singles_list_plus(html):\n",
        "  singles_list = []\n",
        "  soup = BeautifulSoup(html, 'html.parser')\n",
        "  table = soup.find(\"table\", \"wikitable\")\n",
        "  tableRows = table.find_all(\"tr\")\n",
        "  del tableRows[0]\n",
        "  for row in tableRows:\n",
        "    singles_list_item = get_single_from_row_plus(row)\n",
        "    singles_list.append(singles_list_item)\n",
        "  # singles_list.append(get_single_from_row_plus(tableRows[31]))\n",
        "  return singles_list\n",
        "\n",
        "def parse_year(year, yeartextdict):\n",
        "  return build_singles_list_plus(yeartextdict[year])\n",
        "\n",
        "# parse_year(2000, yearstext)"
      ],
      "execution_count": 168,
      "outputs": []
    },
    {
      "cell_type": "code",
      "metadata": {
        "id": "7OJdGaTrlm6t",
        "jupyter": {
          "outputs_hidden": false
        },
        "scrolled": true,
        "colab": {
          "base_uri": "https://localhost:8080/"
        },
        "outputId": "d05d99b8-e4d2-46cd-c180-b4b563717d6b"
      },
      "source": [
        "#your code here\r\n",
        "yearinfo = {}\r\n",
        "for year in range(1992, 2021):\r\n",
        "  yearinfo[year] = parse_year(year, yearstext)\r\n",
        "\r\n",
        "print(len(yearinfo))"
      ],
      "execution_count": 169,
      "outputs": [
        {
          "output_type": "stream",
          "text": [
            "29\n"
          ],
          "name": "stdout"
        }
      ]
    },
    {
      "cell_type": "markdown",
      "metadata": {
        "id": "044UilQrsU_x"
      },
      "source": [
        "Save this dictionary as a json file so you do not need to run it over and over again."
      ]
    },
    {
      "cell_type": "code",
      "metadata": {
        "id": "yyZCQ0Fmlm60",
        "jupyter": {
          "outputs_hidden": false
        }
      },
      "source": [
        "#Store the dictionary and delete the variable\n",
        "fd = open(\"yearinfo.json\",\"w\")\n",
        "json.dump(yearinfo, fd)\n",
        "fd.close()\n",
        "del yearinfo"
      ],
      "execution_count": 170,
      "outputs": []
    },
    {
      "cell_type": "code",
      "metadata": {
        "id": "XOuXxgltlm68",
        "jupyter": {
          "outputs_hidden": false
        },
        "scrolled": true
      },
      "source": [
        "#Load the dictionary back to the same variable\n",
        "with open(\"yearinfo.json\", \"r\") as fd:\n",
        "    yearinfo = json.load(fd)"
      ],
      "execution_count": 171,
      "outputs": []
    },
    {
      "cell_type": "code",
      "metadata": {
        "colab": {
          "base_uri": "https://localhost:8080/",
          "height": 204
        },
        "id": "L7iF4EgZmUN8",
        "outputId": "c1cf18d2-90f2-481d-9977-222e3f8b2d2b"
      },
      "source": [
        "# SKIP THIS: testing code\n",
        "yearinfo1 = {\n",
        "  \"1992\": [\n",
        "    {\n",
        "      \"rank\": 1,\n",
        "      \"url\": \"one\"\n",
        "    },\n",
        "    {\n",
        "      \"rank\": 2,\n",
        "      \"url\": \"two\"\n",
        "    }\n",
        "  ],\n",
        "  \"1993\": [\n",
        "    {\n",
        "      \"rank\": 1,\n",
        "      \"url\": \"one\"\n",
        "    },\n",
        "    {\n",
        "      \"rank\": 2,\n",
        "      \"url\": \"two\"\n",
        "    }\n",
        "  ],\n",
        "  \"1994\": [\n",
        "    {\n",
        "      \"rank\": 1,\n",
        "      \"url\": \"one\"\n",
        "    },\n",
        "    {\n",
        "      \"rank\": 2,\n",
        "      \"url\": \"two\"\n",
        "    }\n",
        "  ]\n",
        "}\n",
        "\n",
        "years = []\n",
        "frames = []\n",
        "for year, singles in yearinfo1.items():\n",
        "  years.append(year)\n",
        "  df_tmp = pd.DataFrame(singles)\n",
        "  df_tmp[\"year\"] = year\n",
        "  frames.append(df_tmp)\n",
        "\n",
        "df = pd.concat(frames)\n",
        "df.head()\n"
      ],
      "execution_count": 141,
      "outputs": [
        {
          "output_type": "execute_result",
          "data": {
            "text/html": [
              "<div>\n",
              "<style scoped>\n",
              "    .dataframe tbody tr th:only-of-type {\n",
              "        vertical-align: middle;\n",
              "    }\n",
              "\n",
              "    .dataframe tbody tr th {\n",
              "        vertical-align: top;\n",
              "    }\n",
              "\n",
              "    .dataframe thead th {\n",
              "        text-align: right;\n",
              "    }\n",
              "</style>\n",
              "<table border=\"1\" class=\"dataframe\">\n",
              "  <thead>\n",
              "    <tr style=\"text-align: right;\">\n",
              "      <th></th>\n",
              "      <th>rank</th>\n",
              "      <th>url</th>\n",
              "      <th>year</th>\n",
              "    </tr>\n",
              "  </thead>\n",
              "  <tbody>\n",
              "    <tr>\n",
              "      <th>0</th>\n",
              "      <td>1</td>\n",
              "      <td>one</td>\n",
              "      <td>1992</td>\n",
              "    </tr>\n",
              "    <tr>\n",
              "      <th>1</th>\n",
              "      <td>2</td>\n",
              "      <td>two</td>\n",
              "      <td>1992</td>\n",
              "    </tr>\n",
              "    <tr>\n",
              "      <th>0</th>\n",
              "      <td>1</td>\n",
              "      <td>one</td>\n",
              "      <td>1993</td>\n",
              "    </tr>\n",
              "    <tr>\n",
              "      <th>1</th>\n",
              "      <td>2</td>\n",
              "      <td>two</td>\n",
              "      <td>1993</td>\n",
              "    </tr>\n",
              "    <tr>\n",
              "      <th>0</th>\n",
              "      <td>1</td>\n",
              "      <td>one</td>\n",
              "      <td>1994</td>\n",
              "    </tr>\n",
              "  </tbody>\n",
              "</table>\n",
              "</div>"
            ],
            "text/plain": [
              "   rank  url  year\n",
              "0     1  one  1992\n",
              "1     2  two  1992\n",
              "0     1  one  1993\n",
              "1     2  two  1993\n",
              "0     1  one  1994"
            ]
          },
          "metadata": {
            "tags": []
          },
          "execution_count": 141
        }
      ]
    },
    {
      "cell_type": "markdown",
      "metadata": {
        "id": "Kd_0dzuslm7B"
      },
      "source": [
        "## Q2: Construct a year-song-singer dataframe \n",
        "#### [20 points]"
      ]
    },
    {
      "cell_type": "markdown",
      "metadata": {
        "id": "ZGDX83Xblm7E"
      },
      "source": [
        "Now, let's construct a dataframe from the dictionary created in the previous section `yearinfo`. \n",
        "Name this dataframe `flatframe`.\n",
        "\n",
        "Keep in mind, in the data structure we have so far, a given key can have a list of values with multiple entries. Also, our data is grouped by year. So we need a way to flatten this data into a format that will create a useful DataFrame. \n",
        "\n",
        "An easy way to do this is to use the pandas `concat` function.\n",
        "\n",
        "Your final dataframe `flatframe` should look something like this:\n",
        "![flatframexample](https://drive.google.com/uc?export=view&id=12hlpB-zRGJh6JYCTcMoTzumKSyXgfoiY)"
      ]
    },
    {
      "cell_type": "code",
      "metadata": {
        "id": "9Tk6XgIslm7I",
        "colab": {
          "base_uri": "https://localhost:8080/"
        },
        "outputId": "adba4b44-942c-48ae-8999-515463f61038"
      },
      "source": [
        "# #your code here \n",
        "# TODO: Flat the urls into 2D array ie increase the size of total number of rows from 2900 to 2900 + alpha\n",
        "years = []\n",
        "frames = []\n",
        "for year, singles in yearinfo.items():\n",
        "  years.append(year)\n",
        "  df_tmp = pd.DataFrame(singles)\n",
        "  df_tmp[\"year\"] = year\n",
        "  frames.append(df_tmp)\n",
        "\n",
        "flatframe = pd.concat(frames)\n",
        "\n",
        "# take first url; so we can map with artist url\n",
        "flatframe['url'] = flatframe['url'].str[0]\n",
        "flatframe['songurl'] = flatframe['songurl'].str[0]\n",
        "flatframe['band_singer'] = flatframe['band_singer'].str[0]\n",
        "\n",
        "flatframe.head()\n",
        "flatframe.shape\n",
        "\n"
      ],
      "execution_count": 271,
      "outputs": [
        {
          "output_type": "execute_result",
          "data": {
            "text/plain": [
              "(2900, 7)"
            ]
          },
          "metadata": {
            "tags": []
          },
          "execution_count": 271
        }
      ]
    },
    {
      "cell_type": "markdown",
      "metadata": {
        "id": "KCPYpq8Ltu72"
      },
      "source": [
        "Check your dataframes data types and convert them to the correct data types if needed. "
      ]
    },
    {
      "cell_type": "code",
      "metadata": {
        "id": "RYnRAOZilm7d",
        "jupyter": {
          "outputs_hidden": false
        },
        "scrolled": true,
        "colab": {
          "base_uri": "https://localhost:8080/"
        },
        "outputId": "7ba7068c-7260-4c3e-cd3f-2dc2f7585799"
      },
      "source": [
        "flatframe.dtypes"
      ],
      "execution_count": 215,
      "outputs": [
        {
          "output_type": "execute_result",
          "data": {
            "text/plain": [
              "ranking        object\n",
              "titletext      object\n",
              "song           object\n",
              "songurl        object\n",
              "band_singer    object\n",
              "url            object\n",
              "year           object\n",
              "dtype: object"
            ]
          },
          "metadata": {
            "tags": []
          },
          "execution_count": 215
        }
      ]
    },
    {
      "cell_type": "code",
      "metadata": {
        "id": "wftoYesOSXL5",
        "colab": {
          "base_uri": "https://localhost:8080/"
        },
        "outputId": "ea1981a2-9c4a-4fbe-94dd-39568291a8e6"
      },
      "source": [
        "flatframe.year = flatframe.year.astype(int)\n",
        "flatframe.ranking = flatframe.ranking.astype(int)\n",
        "flatframe.dtypes"
      ],
      "execution_count": 216,
      "outputs": [
        {
          "output_type": "execute_result",
          "data": {
            "text/plain": [
              "ranking         int64\n",
              "titletext      object\n",
              "song           object\n",
              "songurl        object\n",
              "band_singer    object\n",
              "url            object\n",
              "year            int64\n",
              "dtype: object"
            ]
          },
          "metadata": {
            "tags": []
          },
          "execution_count": 216
        }
      ]
    },
    {
      "cell_type": "markdown",
      "metadata": {
        "id": "4nSngWg6WJqM"
      },
      "source": [
        "We use this dataframe in Homework 2, so store this dataframe so you won't need to run this again!\r\n",
        "\r\n",
        "The easiest way is to pickle it using to_pickle:"
      ]
    },
    {
      "cell_type": "code",
      "metadata": {
        "id": "5937BG6tWGph"
      },
      "source": [
        "#Store the dataframe and delete the variable\r\n",
        "flatframe.to_pickle('/content/flatframedf')\r\n",
        "del flatframe"
      ],
      "execution_count": 272,
      "outputs": []
    },
    {
      "cell_type": "code",
      "metadata": {
        "id": "fLkQcqmOuFR9",
        "colab": {
          "base_uri": "https://localhost:8080/",
          "height": 204
        },
        "outputId": "d60c2fb1-0094-4aef-edd5-509daade2321"
      },
      "source": [
        "#Loading in the dataframe\r\n",
        "flatframe = pd.read_pickle('/content/flatframedf')\r\n",
        "flatframe.head()"
      ],
      "execution_count": 273,
      "outputs": [
        {
          "output_type": "execute_result",
          "data": {
            "text/html": [
              "<div>\n",
              "<style scoped>\n",
              "    .dataframe tbody tr th:only-of-type {\n",
              "        vertical-align: middle;\n",
              "    }\n",
              "\n",
              "    .dataframe tbody tr th {\n",
              "        vertical-align: top;\n",
              "    }\n",
              "\n",
              "    .dataframe thead th {\n",
              "        text-align: right;\n",
              "    }\n",
              "</style>\n",
              "<table border=\"1\" class=\"dataframe\">\n",
              "  <thead>\n",
              "    <tr style=\"text-align: right;\">\n",
              "      <th></th>\n",
              "      <th>ranking</th>\n",
              "      <th>titletext</th>\n",
              "      <th>song</th>\n",
              "      <th>songurl</th>\n",
              "      <th>band_singer</th>\n",
              "      <th>url</th>\n",
              "      <th>year</th>\n",
              "    </tr>\n",
              "  </thead>\n",
              "  <tbody>\n",
              "    <tr>\n",
              "      <th>0</th>\n",
              "      <td>1</td>\n",
              "      <td>\"End of the Road\"</td>\n",
              "      <td>[End of the Road]</td>\n",
              "      <td>/wiki/End_of_the_Road_(Boyz_II_Men_song)</td>\n",
              "      <td>Boyz II Men</td>\n",
              "      <td>/wiki/Boyz_II_Men</td>\n",
              "      <td>1992</td>\n",
              "    </tr>\n",
              "    <tr>\n",
              "      <th>1</th>\n",
              "      <td>2</td>\n",
              "      <td>\"Baby Got Back\"</td>\n",
              "      <td>[Baby Got Back]</td>\n",
              "      <td>/wiki/Baby_Got_Back</td>\n",
              "      <td>Sir Mix-a-Lot</td>\n",
              "      <td>/wiki/Sir_Mix-a-Lot</td>\n",
              "      <td>1992</td>\n",
              "    </tr>\n",
              "    <tr>\n",
              "      <th>2</th>\n",
              "      <td>3</td>\n",
              "      <td>\"Jump\"</td>\n",
              "      <td>[Jump]</td>\n",
              "      <td>/wiki/Jump_(Kris_Kross_song)</td>\n",
              "      <td>Kris Kross</td>\n",
              "      <td>/wiki/Kris_Kross</td>\n",
              "      <td>1992</td>\n",
              "    </tr>\n",
              "    <tr>\n",
              "      <th>3</th>\n",
              "      <td>4</td>\n",
              "      <td>\"Save the Best for Last\"</td>\n",
              "      <td>[Save the Best for Last]</td>\n",
              "      <td>/wiki/Save_the_Best_for_Last</td>\n",
              "      <td>Vanessa Williams</td>\n",
              "      <td>/wiki/Vanessa_L._Williams</td>\n",
              "      <td>1992</td>\n",
              "    </tr>\n",
              "    <tr>\n",
              "      <th>4</th>\n",
              "      <td>5</td>\n",
              "      <td>\"Baby-Baby-Baby\"</td>\n",
              "      <td>[Baby-Baby-Baby]</td>\n",
              "      <td>/wiki/Baby-Baby-Baby</td>\n",
              "      <td>TLC</td>\n",
              "      <td>/wiki/TLC_(band)</td>\n",
              "      <td>1992</td>\n",
              "    </tr>\n",
              "  </tbody>\n",
              "</table>\n",
              "</div>"
            ],
            "text/plain": [
              "  ranking                 titletext  ...                        url  year\n",
              "0       1         \"End of the Road\"  ...          /wiki/Boyz_II_Men  1992\n",
              "1       2           \"Baby Got Back\"  ...        /wiki/Sir_Mix-a-Lot  1992\n",
              "2       3                    \"Jump\"  ...           /wiki/Kris_Kross  1992\n",
              "3       4  \"Save the Best for Last\"  ...  /wiki/Vanessa_L._Williams  1992\n",
              "4       5          \"Baby-Baby-Baby\"  ...           /wiki/TLC_(band)  1992\n",
              "\n",
              "[5 rows x 7 columns]"
            ]
          },
          "metadata": {
            "tags": []
          },
          "execution_count": 273
        }
      ]
    },
    {
      "cell_type": "markdown",
      "metadata": {
        "id": "Fc8dNE4nlm7t"
      },
      "source": [
        "## Q3: Scrape and Parse Wikipedia for Information about Artists and Bands \n",
        "#### [25 points]"
      ]
    },
    {
      "cell_type": "markdown",
      "metadata": {
        "id": "ACpaxf42lm7w"
      },
      "source": [
        "Now, we need to fetch information about the singers or bands for all the songs in a list of years."
      ]
    },
    {
      "cell_type": "markdown",
      "metadata": {
        "id": "EEWBhVhQlm74"
      },
      "source": [
        "### 3.1 Scrape the artist's Wikipedia webpages "
      ]
    },
    {
      "cell_type": "markdown",
      "metadata": {
        "id": "ddXAyi5Vlm77"
      },
      "source": [
        "Since we have hundreds of artists webpages to scrape, we have created a function which implements caching in order to speed up this process.\r\n",
        "\r\n",
        "The cache object `urlcache` that will avoid redundant HTTP requests (e.g. an artist might have multiple singles on a single year, or be on the list over a span of years). Remember that this function is designed to be used in a loop over years, and then a loop over songs per year. Since network requests are relatively slow, if we have already requested for a singer or band's wikipedia page, caching the results is a smart thing to do.\r\n",
        "\r\n",
        "\r\n",
        "\r\n",
        "Notice that we have wrapped the call in _an exception block_. If the request gets an HTTP code different from 200, the cells for that URL will have a value of 1; and if the request completely fails (e.g. no network connection) the cell will have a value of 2. This will allow you to analyse the failed requests."
      ]
    },
    {
      "cell_type": "code",
      "metadata": {
        "id": "xLIr5RLOlm8C",
        "jupyter": {
          "outputs_hidden": false
        },
        "scrolled": true
      },
      "source": [
        "# INFO: to support multiple urls per row\n",
        "\n",
        "# urlcache={}\n",
        "# def get_page(urls):\n",
        "#     for url in urls:\n",
        "#       if url is not None: \n",
        "#         # print(url)\n",
        "#         # break\n",
        "#         if (url not in urlcache) or (urlcache[url]==1) or (urlcache[url]==2):\n",
        "#             time.sleep(1)\n",
        "#             try:\n",
        "#                 r = requests.get(\"http://en.wikipedia.org%s\" % url)\n",
        "#                 if r.status_code == 200:\n",
        "#                     urlcache[url] = r.text\n",
        "#                 else:\n",
        "#                     urlcache[url] = 1\n",
        "#             except:\n",
        "#                 urlcache[url] = 2\n",
        "#         return urlcache[url]"
      ],
      "execution_count": 187,
      "outputs": []
    },
    {
      "cell_type": "code",
      "metadata": {
        "id": "90552hPdtWQl"
      },
      "source": [
        "urlcache={}\n",
        "def get_page(url):\n",
        "    if (url not in urlcache) or (urlcache[url]==1) or (urlcache[url]==2):\n",
        "        time.sleep(1)\n",
        "        try:\n",
        "            r = requests.get(\"http://en.wikipedia.org%s\" % url)\n",
        "            if r.status_code == 200:\n",
        "                urlcache[url] = r.text\n",
        "            else:\n",
        "                urlcache[url] = 1\n",
        "        except:\n",
        "            urlcache[url] = 2\n",
        "    return urlcache[url]"
      ],
      "execution_count": 219,
      "outputs": []
    },
    {
      "cell_type": "markdown",
      "metadata": {
        "id": "4KvxocZMlm8F"
      },
      "source": [
        "Before we apply our function to the dataframe, let us sort `flatframe` by year. This will ensure that we will hit the cache most as singers who show up repeatedly in the rankings will have their information already pulled."
      ]
    },
    {
      "cell_type": "code",
      "metadata": {
        "colab": {
          "base_uri": "https://localhost:8080/",
          "height": 204
        },
        "id": "slMlUwrXlm8K",
        "jupyter": {
          "outputs_hidden": false
        },
        "scrolled": true,
        "outputId": "3a6e863c-fef7-4e71-ddb7-657252d6b76c"
      },
      "source": [
        "flatframe=flatframe.sort_values('year')\n",
        "flatframe.head()"
      ],
      "execution_count": 250,
      "outputs": [
        {
          "output_type": "execute_result",
          "data": {
            "text/html": [
              "<div>\n",
              "<style scoped>\n",
              "    .dataframe tbody tr th:only-of-type {\n",
              "        vertical-align: middle;\n",
              "    }\n",
              "\n",
              "    .dataframe tbody tr th {\n",
              "        vertical-align: top;\n",
              "    }\n",
              "\n",
              "    .dataframe thead th {\n",
              "        text-align: right;\n",
              "    }\n",
              "</style>\n",
              "<table border=\"1\" class=\"dataframe\">\n",
              "  <thead>\n",
              "    <tr style=\"text-align: right;\">\n",
              "      <th></th>\n",
              "      <th>ranking</th>\n",
              "      <th>titletext</th>\n",
              "      <th>song</th>\n",
              "      <th>songurl</th>\n",
              "      <th>band_singer</th>\n",
              "      <th>url</th>\n",
              "      <th>year</th>\n",
              "    </tr>\n",
              "  </thead>\n",
              "  <tbody>\n",
              "    <tr>\n",
              "      <th>0</th>\n",
              "      <td>1</td>\n",
              "      <td>\"End of the Road\"</td>\n",
              "      <td>[End of the Road]</td>\n",
              "      <td>/wiki/End_of_the_Road_(Boyz_II_Men_song)</td>\n",
              "      <td>Boyz II Men</td>\n",
              "      <td>/wiki/Boyz_II_Men</td>\n",
              "      <td>1992</td>\n",
              "    </tr>\n",
              "    <tr>\n",
              "      <th>72</th>\n",
              "      <td>73</td>\n",
              "      <td>\"Blowing Kisses in the Wind\"</td>\n",
              "      <td>[Blowing Kisses in the Wind]</td>\n",
              "      <td>/wiki/Blowing_Kisses_in_the_Wind</td>\n",
              "      <td>Paula Abdul</td>\n",
              "      <td>/wiki/Paula_Abdul</td>\n",
              "      <td>1992</td>\n",
              "    </tr>\n",
              "    <tr>\n",
              "      <th>71</th>\n",
              "      <td>72</td>\n",
              "      <td>\"Everything About You\"</td>\n",
              "      <td>[Everything About You]</td>\n",
              "      <td>/wiki/Everything_About_You_(Ugly_Kid_Joe_song)</td>\n",
              "      <td>Ugly Kid Joe</td>\n",
              "      <td>/wiki/Ugly_Kid_Joe</td>\n",
              "      <td>1992</td>\n",
              "    </tr>\n",
              "    <tr>\n",
              "      <th>70</th>\n",
              "      <td>71</td>\n",
              "      <td>\"Friday I'm in Love\"</td>\n",
              "      <td>[Friday I'm in Love]</td>\n",
              "      <td>/wiki/Friday_I%27m_in_Love</td>\n",
              "      <td>The Cure</td>\n",
              "      <td>/wiki/The_Cure</td>\n",
              "      <td>1992</td>\n",
              "    </tr>\n",
              "    <tr>\n",
              "      <th>69</th>\n",
              "      <td>70</td>\n",
              "      <td>\"Do I Have to Say the Words?\"</td>\n",
              "      <td>[Do I Have to Say the Words?]</td>\n",
              "      <td>/wiki/Do_I_Have_to_Say_the_Words%3F</td>\n",
              "      <td>Bryan Adams</td>\n",
              "      <td>/wiki/Bryan_Adams</td>\n",
              "      <td>1992</td>\n",
              "    </tr>\n",
              "  </tbody>\n",
              "</table>\n",
              "</div>"
            ],
            "text/plain": [
              "    ranking                      titletext  ...                 url  year\n",
              "0         1              \"End of the Road\"  ...   /wiki/Boyz_II_Men  1992\n",
              "72       73   \"Blowing Kisses in the Wind\"  ...   /wiki/Paula_Abdul  1992\n",
              "71       72         \"Everything About You\"  ...  /wiki/Ugly_Kid_Joe  1992\n",
              "70       71           \"Friday I'm in Love\"  ...      /wiki/The_Cure  1992\n",
              "69       70  \"Do I Have to Say the Words?\"  ...   /wiki/Bryan_Adams  1992\n",
              "\n",
              "[5 rows x 7 columns]"
            ]
          },
          "metadata": {
            "tags": []
          },
          "execution_count": 250
        }
      ]
    },
    {
      "cell_type": "code",
      "metadata": {
        "collapsed": true,
        "id": "jGHEg1IDlm8O",
        "jupyter": {
          "outputs_hidden": true
        },
        "scrolled": true,
        "colab": {
          "base_uri": "https://localhost:8080/"
        },
        "outputId": "ff9d490b-7e9a-4e1d-d47b-d0463910ade2"
      },
      "source": [
        "# Here we are populating the url cache\n",
        "#Note that this function will take around 20 minutes to run as we are requestinf for several pages\n",
        "#This function is designed to be run again and again: it just tries to make sure that there are no unresolved pages left. \n",
        "flatframe[\"url\"].apply(get_page)"
      ],
      "execution_count": 220,
      "outputs": [
        {
          "output_type": "execute_result",
          "data": {
            "text/plain": [
              "0     <!DOCTYPE html>\\n<html class=\"client-nojs\" lan...\n",
              "1     <!DOCTYPE html>\\n<html class=\"client-nojs\" lan...\n",
              "2     <!DOCTYPE html>\\n<html class=\"client-nojs\" lan...\n",
              "3     <!DOCTYPE html>\\n<html class=\"client-nojs\" lan...\n",
              "4     <!DOCTYPE html>\\n<html class=\"client-nojs\" lan...\n",
              "                            ...                        \n",
              "95    <!DOCTYPE html>\\n<html class=\"client-nojs\" lan...\n",
              "96    <!DOCTYPE html>\\n<html class=\"client-nojs\" lan...\n",
              "97    <!DOCTYPE html>\\n<html class=\"client-nojs\" lan...\n",
              "98    <!DOCTYPE html>\\n<html class=\"client-nojs\" lan...\n",
              "99    <!DOCTYPE html>\\n<html class=\"client-nojs\" lan...\n",
              "Name: url, Length: 2900, dtype: object"
            ]
          },
          "metadata": {
            "tags": []
          },
          "execution_count": 220
        }
      ]
    },
    {
      "cell_type": "code",
      "metadata": {
        "colab": {
          "base_uri": "https://localhost:8080/"
        },
        "id": "vtH5ch-Jlm8X",
        "jupyter": {
          "outputs_hidden": false
        },
        "scrolled": true,
        "outputId": "e23864eb-5bc3-4ebe-8155-deb1ba67443d"
      },
      "source": [
        "#Let us make sure that there are no unresolved pages\n",
        "#The sum below should be 0, and the boolean True. If that is not the case, run the above cell again until you get a sum of 0 and a boolean True\n",
        "print (np.sum([(urlcache[k]==1) or (urlcache[k]==2) and isinstance(k,str) for k in urlcache]))\n",
        "print (len(flatframe.url.unique())==len(urlcache))#we got all of the urls"
      ],
      "execution_count": 274,
      "outputs": [
        {
          "output_type": "stream",
          "text": [
            "0\n",
            "True\n"
          ],
          "name": "stdout"
        }
      ]
    },
    {
      "cell_type": "code",
      "metadata": {
        "id": "u-g3mOWrlm8c",
        "jupyter": {
          "outputs_hidden": false
        }
      },
      "source": [
        "#Let's save the `urlcache` and remove the old object. \n",
        "keys_values = urlcache.items()\n",
        "urlcache = {str(key): str(value) for key, value in keys_values}\n",
        "with open(\"artistinfo.json\",\"w\") as fd:\n",
        "    json.dump(urlcache, fd)\n",
        "del urlcache"
      ],
      "execution_count": 222,
      "outputs": []
    },
    {
      "cell_type": "code",
      "metadata": {
        "id": "ctcBqdEPlm8f",
        "jupyter": {
          "outputs_hidden": false
        },
        "scrolled": true
      },
      "source": [
        "with open(\"artistinfo.json\") as json_file:\n",
        "    urlcache = json.load(json_file)"
      ],
      "execution_count": 224,
      "outputs": []
    },
    {
      "cell_type": "markdown",
      "metadata": {
        "id": "P_G84LnUlm8p"
      },
      "source": [
        "### 3.2 Parse the data"
      ]
    },
    {
      "cell_type": "markdown",
      "metadata": {
        "id": "urcGynNplm8r"
      },
      "source": [
        "Now, we need to extract the following information from each page. Write a function `singer_band_info(url, page_text)` that returns a dictionary. \n",
        "\n",
        "Here `url` should be the path the url corresponding to the singer's Wikipedia page (same as the previous dataframe `flatframe`), and page_text should be the HTML text for the corresponding artist's webpage. \n",
        "\n",
        "This function should return a dictionary which contains the following information:\n",
        "\n",
        "1. The genres of the band or singer. These genres should be urls, to ensure their uniqueness. Create a list, `genres`, of these urls. If there are no genres, use `['NA']`.\n",
        "\n",
        "2. If the page has the text \"Born\", extract the element with the class `.bday`. If there is no \"Born\", store `False`. Store either of these into the variable `born`. \n",
        "\n",
        "3. If the text \"Years active\" is found, but there is no birthday, assume a band. Store the years active into the variable `ya`, or `False` if the text is not found. \n",
        "\n",
        "The information can be found below the artists image on each such wikipedia page, as the example here shows:\n",
        "\n",
        "\n",
        "![EdSheeran](https://drive.google.com/uc?export=view&id=1NJi2C-Gi5HPziuPxefNcjj5i4-04kuQ-)\n",
        "\n",
        "\n"
      ]
    },
    {
      "cell_type": "markdown",
      "metadata": {
        "id": "cmsucMYj31Ft"
      },
      "source": [
        "The dictionary returned should be of the form:\r\n",
        "```\r\n",
        "{ 'url': '/wiki/Boyz_II_Men', \r\n",
        "'genres': ['/wiki/Contemporary_R%26B_music', '/wiki/Soul_music', '/wiki/New_jack_swing'], \r\n",
        "'born': None, \r\n",
        "'ya': '1987–present'}\r\n",
        "```\r\n",
        "\r\n",
        "Wikipedia has changed it's format along the years! So observing one artist's webpage and building your function based on it will probably give you tons of errors. \r\n",
        "\r\n",
        "Here are a few issues to remember while parsing:\r\n",
        "\r\n",
        "1.   There are several artists that take a sabbatical between their active years (https://en.wikipedia.org/wiki/Tony!_Toni!_Ton%C3%A9!). To get the right data, write a function to calculate the longest period of time they were active and consider that as your variable `years active`. In the example give, this would be 2003–present.\r\n",
        "2.   Birthday's are given in different formats for different pages. For example - https://en.wikipedia.org/wiki/Sir_Mix-a-Lot and https://en.wikipedia.org/wiki/Ed_Sheeran have different formats. To ensure that you get the right day, look for the 'span' tag with a 'bday' tag and ensure that there are no paranthesis around the extracted text.\r\n",
        "3. Year's active are also given in different formats. For example - https://en.wikipedia.org/wiki/Boyz_II_Men and https://en.wikipedia.org/wiki/Ed_Sheeran are different. You could use regex (\"[0-9]{4}[–][0-9]{4}\" and \"[0-9]{4}[–][0-9]{4}\") to ensure you are getting the right years.<br> Report the edge cases found and why the Regex expression takes care of all these edge cases.\r\n",
        "\r\n",
        "Definitely do look at your outputs as you are parsing as it can identify several edge cases you have not considered in your code.\r\n",
        "\r\n",
        "\r\n",
        "\r\n",
        "\r\n"
      ]
    },
    {
      "cell_type": "markdown",
      "metadata": {
        "id": "wepOCDnV2H3p"
      },
      "source": [
        "Before parsing, it is important to note that Wikipedia has defined the same genre in a few different ways. Our parsing code will pick these up as different and new as they all differ with the alphabet case or an underscore instead of a hyphen.\r\n",
        "\r\n",
        "We have defined a function to ensure that we have the correct representation of the number of artists in a particular genre. "
      ]
    },
    {
      "cell_type": "code",
      "metadata": {
        "id": "QTSJHvJF3pxu"
      },
      "source": [
        "genres_duplicates={'/wiki/Adult_Contemporary_music':'/wiki/Adult_contemporary','/wiki/Adult_contemporary_music':'/wiki/Adult_contemporary',\r\n",
        "'/wiki/Afrobeat':'/wiki/Afrobeats',\r\n",
        "'/wiki/Alternative_rock':'/wiki/Alternative_Rock',\r\n",
        "'/wiki/Avant-garde':'/wiki/Avant-garde_music',\r\n",
        "'/wiki/Blues':'/wiki/Blues_music',\r\n",
        "'/wiki/Comedy_hip-hop':'/wiki/Comedy_hip_hop',\r\n",
        "'/wiki/Contemporary_R%26B':'/wiki/Contemporary_R%26B_music',\r\n",
        "'/wiki/Contemporary_folk':'/wiki/Contemporary_folk_music',\r\n",
        "'/wiki/Country_Folk':'/wiki/Country_folk',\r\n",
        "'/wiki/Dance_pop':'/wiki/Dance-pop',\r\n",
        "'/wiki/East_Coast_hip_hop':'/wiki/East_coast_hip_hop',\r\n",
        "'/wiki/Electronic_Dance_Music':'/wiki/Electronic_dance_music',\r\n",
        "'/wiki/Electronica':'/wiki/Electronica_music',\r\n",
        "'/wiki/Emo':'/wiki/Emo_music',\r\n",
        "'/wiki/Electropop':'/wiki/Electro-pop',\r\n",
        "'/wiki/Folk-pop':'/wiki/Folk_pop',\r\n",
        "'/wiki/Funk':'/wiki/Funk_music',\r\n",
        "'/wiki/Grime_(music_genre)':'/wiki/Grime_music',\r\n",
        "'/wiki/Gangsta_Rap':'/wiki/Gangsta_rap',\r\n",
        "'/wiki/Hip_Hop_music': '/wiki/Hip_hop','/wiki/Hip_hop_music':'/wiki/Hip_hop',\r\n",
        "'/wiki/Hyphy':'/wiki/Hyphy_music',\r\n",
        "'/wiki/Latin_music':'/wiki/Latin_music_(genre)',\r\n",
        "'/wiki/West_Coast_hip_hop':'/wiki/West_coast_hip_hop',\r\n",
        "'/wiki/Southern_Hip_Hop':'/wiki/Southern_hip_hop',\r\n",
        "'/wiki/Ska':'/wiki/Ska_music',\r\n",
        "'/wiki/Pop-rock':'/wiki/Pop_rock',\r\n",
        "'/wiki/Pop_Music':'/wiki/Pop_music',\r\n",
        "'/wiki/Nu_metal':'/wiki/Nu_metal_music'}\r\n",
        "\r\n",
        "def genre_duplicates(genres):\r\n",
        "    for i in range(len(genres)):\r\n",
        "        if genres[i] in genres_duplicates.keys():\r\n",
        "            genres[i]=genres_duplicates[genres[i]]\r\n",
        "    return genres "
      ],
      "execution_count": 275,
      "outputs": []
    },
    {
      "cell_type": "markdown",
      "metadata": {
        "id": "w955jc_x7oSS"
      },
      "source": [
        "Define a function to calculate the longest active years\n",
        "\n",
        "*   List item\n",
        "*   List item\n",
        "\n"
      ]
    },
    {
      "cell_type": "code",
      "metadata": {
        "id": "iCiUaa3t1mdM"
      },
      "source": [
        "# longest active years\r\n",
        "def getDateRange(dates):\r\n",
        "  # print(dates)\r\n",
        "  date_text = \"\".join(dates)\r\n",
        "  return date_text \r\n",
        "\r\n",
        "def dateList(date_string):\r\n",
        "  datelist = []\r\n",
        "  match = re.match(r'.*([0-9]{4}[–][0-9]{4}).*', date_string)\r\n",
        "  if match is not None:\r\n",
        "    datelist.append(match[1])\r\n",
        "  match = re.match(r'.*([0-9]{4}[–]present).*', date_string)\r\n",
        "  if match is not None:\r\n",
        "    datelist.append(match[1])\r\n",
        "  return datelist\r\n",
        "\r\n",
        "def calculateActiveYear(datelist):\r\n",
        "  current_year = 2021\r\n",
        "  total_year = 0\r\n",
        "  for listitem in datelist:\r\n",
        "      match = re.match(r'.*(([0-9]{4})[–]([0-9]{4})).*', listitem)\r\n",
        "      if match is not None:\r\n",
        "        total_year = int(match[3]) - int(match[2]) \r\n",
        "\r\n",
        "      match = re.match(r'.*(([0-9]{4})[–]present).*', listitem)\r\n",
        "      if match is not None:\r\n",
        "        total_year += current_year - int(match[2]) \r\n",
        "  return total_year\r\n"
      ],
      "execution_count": 276,
      "outputs": []
    },
    {
      "cell_type": "code",
      "metadata": {
        "id": "9Fk9-I8rE8T2"
      },
      "source": [
        "def getBirthday(soup):\n",
        "  # born_table = soup.select('#mw-content-text .mw-parser-output table.plainlist' )\n",
        "  # born_th=born_table[0].find_all('th', string='Born')\n",
        "  # sibling_th = born_th[0].find_next_sibling()\n",
        "  # bday = sibling_th.find('span', {\"class\" : \"bday\"})\n",
        "  # text = bday.string\n",
        "  try:\n",
        "    bday = soup.find('span', {\"class\" : \"bday\"})\n",
        "    return bday.string\n",
        "  except:\n",
        "    return False\n",
        "\n",
        "def getSiblingByTextInTheTable(soup, text):\n",
        "  table = soup.select('#mw-content-text .mw-parser-output table.plainlist' )\n",
        "  th=table[0].find_all('th', string=text)\n",
        "  sibling_th = th[0].find_next_sibling()\n",
        "  return sibling_th\n",
        "\n",
        "def getGeners(soup):\n",
        "  try:\n",
        "    sibling_th =getSiblingByTextInTheTable(soup, \"Genres\")\n",
        "    links = [a['href'] for a in sibling_th.find_all('a', href=True)]\n",
        "    return links\n",
        "  except:\n",
        "    return ['NA']\n",
        "\n",
        "\n",
        "# [0-9]{4}[–][0-9]{4} [0-9]{4}[–][0-9]{4}\n",
        "def normalizeActiveYear(url, date):\n",
        "  match = re.match(r'.*([0-9]{4}[–][0-9]{4}).*', date)\n",
        "  final_date = ''\n",
        "  if match is not None:\n",
        "    final_date = match[1] if len(match) > 0 else False\n",
        "  final_date = date\n",
        "  # print(\">>\", date,\"::\", final_date, url, date)\n",
        "  return final_date\n",
        "\n",
        "def getTotalYearActive(soup):\n",
        "  try:\n",
        "    sibling_th = getSiblingByTextInTheTable(soup, \"Years active\")\n",
        "    for hidden in sibling_th.find_all(style='display:none'):\n",
        "        hidden.decompose()\n",
        "\n",
        "    for hidden in sibling_th.find_all('br'):\n",
        "        hidden.decompose()\n",
        "\n",
        "    for hidden in sibling_th.find_all('sup'):\n",
        "      hidden.decompose()\n",
        "\n",
        "    date_string = getDateRange(sibling_th.contents)\n",
        "    date_list = dateList(date_string)\n",
        "    return calculateActiveYear(date_list)\n",
        "    #return last active date instead of returning array of active dates\n",
        "  except:\n",
        "    return False\n",
        "\n",
        "def getYearActive(url, soup):\n",
        "\n",
        "  # dates = ['1985', '–1998 ', ' 2010–present']\n",
        "  # date_string = getDateRange(dates)\n",
        "  # date_list = dateList(date_string)\n",
        "\n",
        "  # print(date_list)\n",
        "  # print(calculateActiveYear(date_list))\n",
        "  try:\n",
        "    sibling_th = getSiblingByTextInTheTable(soup, \"Years active\")\n",
        "    for hidden in sibling_th.find_all(style='display:none'):\n",
        "        hidden.decompose()\n",
        "\n",
        "    for hidden in sibling_th.find_all('br'):\n",
        "        hidden.decompose()\n",
        "      \n",
        "    for hidden in sibling_th.find_all('sup'):\n",
        "        hidden.decompose()\n",
        "\n",
        "    date_string = getDateRange(sibling_th.contents)\n",
        "    date_list = dateList(date_string)\n",
        "    # print(\">>>\", date_list)\n",
        "    #return last active date instead of returning array of active dates\n",
        "    return date_list[-1]\n",
        "  except:\n",
        "    return False\n",
        "\n"
      ],
      "execution_count": 226,
      "outputs": []
    },
    {
      "cell_type": "code",
      "metadata": {
        "id": "hRV_l_290c33"
      },
      "source": [
        "#your code here \n",
        "# TODO: TESTING\n",
        "\n",
        "# page_text = {}\n",
        "# art_url = \"/wiki/Boyz_II_Men\"\n",
        "# # # art_url = \"/wiki/Nathan_Morris\"\n",
        "# # # art_url = \"/wiki/Kathy_Troccoli\"\n",
        "# # art_url = \"/wiki/Color_Me_Badd\"\n",
        "# # art_url = \"/wiki/Paula_Abdul'\"\n",
        "\n",
        "# page_tmp = requests.get(\"https://en.wikipedia.org\" + art_url)\n",
        "# page_text[art_url] = page_tmp.text\n",
        "# singer_band_info(art_url, page_text)"
      ],
      "execution_count": null,
      "outputs": []
    },
    {
      "cell_type": "code",
      "metadata": {
        "id": "9J48oLESrspE"
      },
      "source": [
        "def longestActiveYear(url, page_text):\n",
        "  soup = BeautifulSoup(page_text[url], 'html.parser')\n",
        "  return getTotalYearActive(soup)"
      ],
      "execution_count": 277,
      "outputs": []
    },
    {
      "cell_type": "markdown",
      "metadata": {
        "id": "C30IKrh_lm89"
      },
      "source": [
        "Please write the function `singer_band_info` according to the following specification:"
      ]
    },
    {
      "cell_type": "code",
      "metadata": {
        "id": "144RCE17lm9C",
        "jupyter": {
          "outputs_hidden": false
        }
      },
      "source": [
        "\"\"\"\n",
        "Function\n",
        "--------\n",
        "singer_band_info\n",
        "\n",
        "Inputs\n",
        "------\n",
        "url: the url\n",
        "page_text: the text associated with the url\n",
        "   \n",
        "Returns\n",
        "-------\n",
        "A dictionary with the following data:\n",
        "    url: copy the input argument url into this value\n",
        "    genres: the genres that the band or singer works in\n",
        "    born: the artist's birthday\n",
        "    ya: years active variable\n",
        "\n",
        "Notes\n",
        "-----\n",
        "See description above. Also note that some of the genres urls might require a \n",
        "bit of care and special handling.\n",
        "\"\"\"\n",
        "\n",
        "#your code here\n",
        "def singer_band_info(url, page_text):\n",
        "  soup = BeautifulSoup(page_text[url], 'html.parser')\n",
        "\n",
        "  return {\n",
        "    'url': url, \n",
        "    'genres': getGeners(soup),\n",
        "    'born': getBirthday(soup), \n",
        "    'ya': getYearActive(url, soup)\n",
        "  }\n"
      ],
      "execution_count": 278,
      "outputs": []
    },
    {
      "cell_type": "markdown",
      "metadata": {
        "id": "O42ei5C9lm9Q"
      },
      "source": [
        "Let's iterate over the items in the singer-group dictionary cache `urlcache`, run the above function, and create a list.\r\n",
        "\r\n",
        "Each element in this list is the dictionary that the function `singer_band_info` returns. \r\n",
        "\r\n",
        "The list should look something like this:\r\n",
        "```\r\n",
        "  'genres': ['/wiki/Contemporary_R%26B_music',\r\n",
        "   '/wiki/Soul_music',\r\n",
        "   '/wiki/New_jack_swing'],\r\n",
        "  'url': '/wiki/Boyz_II_Men',\r\n",
        "  'ya': '1987–present'},\r\n",
        " {'born': None,\r\n",
        "  'genres': ['/wiki/Pop_music',\r\n",
        "   '/wiki/Electronica_music',\r\n",
        "   '/wiki/Dance_music',\r\n",
        "   '/wiki/Rave_music',\r\n",
        "   '/wiki/House_music'],\r\n",
        "  'url': '/wiki/KWS_(band)',\r\n",
        "  'ya': '1991–1994'},\r\n",
        " ... and so on]\r\n",
        "  ```"
      ]
    },
    {
      "cell_type": "code",
      "metadata": {
        "colab": {
          "base_uri": "https://localhost:8080/"
        },
        "id": "hl3O0sNMg5zc",
        "outputId": "363215b9-f16b-4d3e-9cc4-d0ec217be0f6"
      },
      "source": [
        "#your code here \n",
        "# TODO: TESTING\n",
        "\n",
        "# page_text = {}\n",
        "# art_url = \"/wiki/Boyz_II_Men\"\n",
        "# # # art_url = \"/wiki/Nathan_Morris\"\n",
        "# # # art_url = \"/wiki/Kathy_Troccoli\"\n",
        "# # art_url = \"/wiki/Color_Me_Badd\"\n",
        "# # art_url = \"/wiki/Paula_Abdul'\"\n",
        "\n",
        "# page_tmp = requests.get(\"https://en.wikipedia.org\" + art_url)\n",
        "# page_text[art_url] = page_tmp.text\n",
        "# %time singer_band_info(art_url, page_text)"
      ],
      "execution_count": 282,
      "outputs": [
        {
          "output_type": "stream",
          "text": [
            "CPU times: user 149 ms, sys: 0 ns, total: 149 ms\n",
            "Wall time: 150 ms\n"
          ],
          "name": "stdout"
        },
        {
          "output_type": "execute_result",
          "data": {
            "text/plain": [
              "{'born': False,\n",
              " 'genres': ['/wiki/Contemporary_R%26B',\n",
              "  '/wiki/New_jack_swing',\n",
              "  '/wiki/Soul_music'],\n",
              " 'url': '/wiki/Boyz_II_Men',\n",
              " 'ya': '1987–present'}"
            ]
          },
          "metadata": {
            "tags": []
          },
          "execution_count": 282
        }
      ]
    },
    {
      "cell_type": "code",
      "metadata": {
        "id": "l1KHSYK49iL6"
      },
      "source": [
        "# #your code here\n",
        "\n",
        "# def get_singer_band_info_list(urlcache):\n",
        "#   info_list = []\n",
        "#   # count = 0\n",
        "\n",
        "#   longest_active_year_artiest = ''\n",
        "#   longest_active_year = 0\n",
        "\n",
        "#   for url, html in urlcache.items():\n",
        "#     data = singer_band_info(url, urlcache)\n",
        "    \n",
        "    \n",
        "#     to find longest active year of artist \n",
        "#     year = longestActiveYear(url, urlcache)\n",
        "#     if year > longest_active_year:\n",
        "#       longest_active_year = year\n",
        "#       longest_active_year_artiest = url\n",
        "\n",
        "#     info_list.append(data)\n",
        "#     # if count == 10:\n",
        "#     #   break \n",
        "#     # count += 1\n",
        "#   return info_list\n"
      ],
      "execution_count": null,
      "outputs": []
    },
    {
      "cell_type": "code",
      "metadata": {
        "id": "EYZCt97qlm9J",
        "jupyter": {
          "outputs_hidden": false
        },
        "scrolled": true,
        "colab": {
          "base_uri": "https://localhost:8080/"
        },
        "outputId": "ab392764-0566-428c-b979-7113668dc8ef"
      },
      "source": [
        "#Info: dont run this cell, it takes time\n",
        "singer_band_info_list = []\n",
        "count = 0\n",
        "\n",
        "longest_active_year_artiest = ''\n",
        "longest_active_year = 0\n",
        "\n",
        "for url, html in urlcache.items():\n",
        "  data = singer_band_info(url, urlcache)\n",
        "  \n",
        "  \n",
        "  # to find longest active year of artist \n",
        "  year = longestActiveYear(url, urlcache)\n",
        "  if year > longest_active_year:\n",
        "    longest_active_year = year\n",
        "    longest_active_year_artiest = url\n",
        "\n",
        "\n",
        "  singer_band_info_list.append(data)\n",
        "  # if count == 10:\n",
        "  #   break \n",
        "  # count += 1\n",
        "print(len(singer_band_info_list))"
      ],
      "execution_count": 287,
      "outputs": [
        {
          "output_type": "stream",
          "text": [
            "1060\n"
          ],
          "name": "stdout"
        }
      ]
    },
    {
      "cell_type": "code",
      "metadata": {
        "colab": {
          "base_uri": "https://localhost:8080/"
        },
        "id": "L3lFD7Wz5q-y",
        "outputId": "eafb810d-ef2b-48a0-dd3f-a26b1259f5eb"
      },
      "source": [
        "print(\"Longest active year is: \", longest_active_year, \" for :\", longest_active_year_artiest)\n",
        "# Result: Longest active year is: 67 for : /wiki/The_Isley_Brothers"
      ],
      "execution_count": 288,
      "outputs": [
        {
          "output_type": "stream",
          "text": [
            "Longest active year is:  0  for : \n"
          ],
          "name": "stdout"
        }
      ]
    },
    {
      "cell_type": "code",
      "metadata": {
        "id": "hN0xOthZUsaY"
      },
      "source": [
        "#Store the list and delete the variable\r\n",
        "with open(\"singer_band_info_list.json\",\"w\") as fd:\r\n",
        "    json.dump(singer_band_info_list, fd)\r\n",
        "del singer_band_info_list"
      ],
      "execution_count": 236,
      "outputs": []
    },
    {
      "cell_type": "code",
      "metadata": {
        "id": "kze3PT80yvuT"
      },
      "source": [
        "#Load the list into a variable\r\n",
        "with open(\"singer_band_info_list.json\") as json_file:\r\n",
        "    singer_band_info_list = json.load(json_file)"
      ],
      "execution_count": 237,
      "outputs": []
    },
    {
      "cell_type": "markdown",
      "metadata": {
        "id": "NFBbluyq_xUg"
      },
      "source": [
        "Create a dataframe from the list `singer_band_info_list`."
      ]
    },
    {
      "cell_type": "code",
      "metadata": {
        "id": "l2Jq1tIhlm9X",
        "jupyter": {
          "outputs_hidden": false
        },
        "scrolled": true,
        "colab": {
          "base_uri": "https://localhost:8080/",
          "height": 204
        },
        "outputId": "def375ef-b730-48d3-cee0-5eddb4e138fd"
      },
      "source": [
        "#your code here\n",
        "# singer_band_info_list\n",
        "df = pd.DataFrame.from_records(singer_band_info_list)\n",
        "df.head()"
      ],
      "execution_count": 289,
      "outputs": [
        {
          "output_type": "execute_result",
          "data": {
            "text/html": [
              "<div>\n",
              "<style scoped>\n",
              "    .dataframe tbody tr th:only-of-type {\n",
              "        vertical-align: middle;\n",
              "    }\n",
              "\n",
              "    .dataframe tbody tr th {\n",
              "        vertical-align: top;\n",
              "    }\n",
              "\n",
              "    .dataframe thead th {\n",
              "        text-align: right;\n",
              "    }\n",
              "</style>\n",
              "<table border=\"1\" class=\"dataframe\">\n",
              "  <thead>\n",
              "    <tr style=\"text-align: right;\">\n",
              "      <th></th>\n",
              "      <th>url</th>\n",
              "      <th>genres</th>\n",
              "      <th>born</th>\n",
              "      <th>ya</th>\n",
              "    </tr>\n",
              "  </thead>\n",
              "  <tbody>\n",
              "    <tr>\n",
              "      <th>0</th>\n",
              "      <td>/wiki/Boyz_II_Men</td>\n",
              "      <td>[/wiki/Contemporary_R%26B, /wiki/New_jack_swin...</td>\n",
              "      <td>False</td>\n",
              "      <td>1987–present</td>\n",
              "    </tr>\n",
              "    <tr>\n",
              "      <th>1</th>\n",
              "      <td>/wiki/Sir_Mix-a-Lot</td>\n",
              "      <td>[/wiki/Hip_hop_music]</td>\n",
              "      <td>1963-08-12</td>\n",
              "      <td>1979–present</td>\n",
              "    </tr>\n",
              "    <tr>\n",
              "      <th>2</th>\n",
              "      <td>/wiki/Kris_Kross</td>\n",
              "      <td>[/wiki/Hip_hop_music]</td>\n",
              "      <td>False</td>\n",
              "      <td>2007–2013</td>\n",
              "    </tr>\n",
              "    <tr>\n",
              "      <th>3</th>\n",
              "      <td>/wiki/Vanessa_L._Williams</td>\n",
              "      <td>[NA]</td>\n",
              "      <td>1963-03-18</td>\n",
              "      <td>False</td>\n",
              "    </tr>\n",
              "    <tr>\n",
              "      <th>4</th>\n",
              "      <td>/wiki/TLC_(band)</td>\n",
              "      <td>[/wiki/Contemporary_R%26B, /wiki/Pop_music, #c...</td>\n",
              "      <td>False</td>\n",
              "      <td>1990–present</td>\n",
              "    </tr>\n",
              "  </tbody>\n",
              "</table>\n",
              "</div>"
            ],
            "text/plain": [
              "                         url  ...            ya\n",
              "0          /wiki/Boyz_II_Men  ...  1987–present\n",
              "1        /wiki/Sir_Mix-a-Lot  ...  1979–present\n",
              "2           /wiki/Kris_Kross  ...     2007–2013\n",
              "3  /wiki/Vanessa_L._Williams  ...         False\n",
              "4           /wiki/TLC_(band)  ...  1990–present\n",
              "\n",
              "[5 rows x 4 columns]"
            ]
          },
          "metadata": {
            "tags": []
          },
          "execution_count": 289
        }
      ]
    },
    {
      "cell_type": "markdown",
      "metadata": {
        "id": "r33k0Rv9lm9M"
      },
      "source": [
        "## Q4: Merging Artist's and Song dataframes\n",
        "#### [15 points]"
      ]
    },
    {
      "cell_type": "markdown",
      "metadata": {
        "id": "qK8nFxMblm9d"
      },
      "source": [
        "Now, merge the artist/song data frames into one large dataframe. Note that this has an effect of imputing to a song **all the genres** that the artist is active in. We know that this is not true, but it is the simplest assumption we can make, and is probably good for most artists. "
      ]
    },
    {
      "cell_type": "code",
      "metadata": {
        "id": "zXmWArJllm9h",
        "jupyter": {
          "outputs_hidden": false
        },
        "scrolled": true,
        "colab": {
          "base_uri": "https://localhost:8080/",
          "height": 589
        },
        "outputId": "c2120668-ceec-4bb4-f204-ec83313f92ae"
      },
      "source": [
        "#your code here\n",
        "merged_df = pd.merge(flatframe, df, on=\"url\", how=\"inner\")\n",
        "merged_df"
      ],
      "execution_count": 295,
      "outputs": [
        {
          "output_type": "execute_result",
          "data": {
            "text/html": [
              "<div>\n",
              "<style scoped>\n",
              "    .dataframe tbody tr th:only-of-type {\n",
              "        vertical-align: middle;\n",
              "    }\n",
              "\n",
              "    .dataframe tbody tr th {\n",
              "        vertical-align: top;\n",
              "    }\n",
              "\n",
              "    .dataframe thead th {\n",
              "        text-align: right;\n",
              "    }\n",
              "</style>\n",
              "<table border=\"1\" class=\"dataframe\">\n",
              "  <thead>\n",
              "    <tr style=\"text-align: right;\">\n",
              "      <th></th>\n",
              "      <th>ranking</th>\n",
              "      <th>titletext</th>\n",
              "      <th>song</th>\n",
              "      <th>songurl</th>\n",
              "      <th>band_singer</th>\n",
              "      <th>url</th>\n",
              "      <th>year</th>\n",
              "      <th>genres</th>\n",
              "      <th>born</th>\n",
              "      <th>ya</th>\n",
              "    </tr>\n",
              "  </thead>\n",
              "  <tbody>\n",
              "    <tr>\n",
              "      <th>0</th>\n",
              "      <td>1</td>\n",
              "      <td>\"End of the Road\"</td>\n",
              "      <td>[End of the Road]</td>\n",
              "      <td>/wiki/End_of_the_Road_(Boyz_II_Men_song)</td>\n",
              "      <td>Boyz II Men</td>\n",
              "      <td>/wiki/Boyz_II_Men</td>\n",
              "      <td>1992</td>\n",
              "      <td>[/wiki/Contemporary_R%26B, /wiki/New_jack_swin...</td>\n",
              "      <td>False</td>\n",
              "      <td>1987–present</td>\n",
              "    </tr>\n",
              "    <tr>\n",
              "      <th>1</th>\n",
              "      <td>37</td>\n",
              "      <td>\"It's So Hard to Say Goodbye to Yesterday\"</td>\n",
              "      <td>[It's So Hard to Say Goodbye to Yesterday]</td>\n",
              "      <td>/wiki/It%27s_So_Hard_to_Say_Goodbye_to_Yesterday</td>\n",
              "      <td>Boyz II Men</td>\n",
              "      <td>/wiki/Boyz_II_Men</td>\n",
              "      <td>1992</td>\n",
              "      <td>[/wiki/Contemporary_R%26B, /wiki/New_jack_swin...</td>\n",
              "      <td>False</td>\n",
              "      <td>1987–present</td>\n",
              "    </tr>\n",
              "    <tr>\n",
              "      <th>2</th>\n",
              "      <td>84</td>\n",
              "      <td>\"Uhh Ahh\"</td>\n",
              "      <td>[Uhh Ahh]</td>\n",
              "      <td>/wiki/Uhh_Ahh</td>\n",
              "      <td>Boyz II Men</td>\n",
              "      <td>/wiki/Boyz_II_Men</td>\n",
              "      <td>1992</td>\n",
              "      <td>[/wiki/Contemporary_R%26B, /wiki/New_jack_swin...</td>\n",
              "      <td>False</td>\n",
              "      <td>1987–present</td>\n",
              "    </tr>\n",
              "    <tr>\n",
              "      <th>3</th>\n",
              "      <td>12</td>\n",
              "      <td>\"In the Still of the Nite\"</td>\n",
              "      <td>[In the Still of the Nite]</td>\n",
              "      <td>/wiki/In_the_Still_of_the_Night_(1956_song)#Bo...</td>\n",
              "      <td>Boyz II Men</td>\n",
              "      <td>/wiki/Boyz_II_Men</td>\n",
              "      <td>1993</td>\n",
              "      <td>[/wiki/Contemporary_R%26B, /wiki/New_jack_swin...</td>\n",
              "      <td>False</td>\n",
              "      <td>1987–present</td>\n",
              "    </tr>\n",
              "    <tr>\n",
              "      <th>4</th>\n",
              "      <td>3</td>\n",
              "      <td>\"I'll Make Love to You\"</td>\n",
              "      <td>[I'll Make Love to You]</td>\n",
              "      <td>/wiki/I%27ll_Make_Love_to_You</td>\n",
              "      <td>Boyz II Men</td>\n",
              "      <td>/wiki/Boyz_II_Men</td>\n",
              "      <td>1994</td>\n",
              "      <td>[/wiki/Contemporary_R%26B, /wiki/New_jack_swin...</td>\n",
              "      <td>False</td>\n",
              "      <td>1987–present</td>\n",
              "    </tr>\n",
              "    <tr>\n",
              "      <th>...</th>\n",
              "      <td>...</td>\n",
              "      <td>...</td>\n",
              "      <td>...</td>\n",
              "      <td>...</td>\n",
              "      <td>...</td>\n",
              "      <td>...</td>\n",
              "      <td>...</td>\n",
              "      <td>...</td>\n",
              "      <td>...</td>\n",
              "      <td>...</td>\n",
              "    </tr>\n",
              "    <tr>\n",
              "      <th>2894</th>\n",
              "      <td>84</td>\n",
              "      <td>\"Supalonely\"</td>\n",
              "      <td>[Supalonely]</td>\n",
              "      <td>/wiki/Supalonely</td>\n",
              "      <td>Benee</td>\n",
              "      <td>/wiki/Benee</td>\n",
              "      <td>2020</td>\n",
              "      <td>[/wiki/Contemporary_R%26B, /wiki/Indie_pop]</td>\n",
              "      <td>2000-01-30</td>\n",
              "      <td>2017–present</td>\n",
              "    </tr>\n",
              "    <tr>\n",
              "      <th>2895</th>\n",
              "      <td>94</td>\n",
              "      <td>\"Pussy Fairy (OTW)\"</td>\n",
              "      <td>[Pussy Fairy (OTW)]</td>\n",
              "      <td>/wiki/Pussy_Fairy_(OTW)</td>\n",
              "      <td>Jhené Aiko</td>\n",
              "      <td>/wiki/Jhen%C3%A9_Aiko</td>\n",
              "      <td>2020</td>\n",
              "      <td>[/wiki/Alternative_R%26B, /wiki/Neo_soul, /wik...</td>\n",
              "      <td>1988-03-16</td>\n",
              "      <td>2002–present</td>\n",
              "    </tr>\n",
              "    <tr>\n",
              "      <th>2896</th>\n",
              "      <td>95</td>\n",
              "      <td>\"ILY (I Love You Baby)\"</td>\n",
              "      <td>[ILY (I Love You Baby)]</td>\n",
              "      <td>/wiki/ILY_(I_Love_You_Baby)</td>\n",
              "      <td>Surf Mesa</td>\n",
              "      <td>/wiki/Surf_Mesa</td>\n",
              "      <td>2020</td>\n",
              "      <td>[/wiki/Electronic_music]</td>\n",
              "      <td>2000-04-10</td>\n",
              "      <td>2019–present</td>\n",
              "    </tr>\n",
              "    <tr>\n",
              "      <th>2897</th>\n",
              "      <td>98</td>\n",
              "      <td>\"Said Sum\"</td>\n",
              "      <td>[Said Sum]</td>\n",
              "      <td>/wiki/Said_Sum</td>\n",
              "      <td>Moneybagg Yo</td>\n",
              "      <td>/wiki/Moneybagg_Yo</td>\n",
              "      <td>2020</td>\n",
              "      <td>[/wiki/Hip_hop_music]</td>\n",
              "      <td>1991-09-22</td>\n",
              "      <td>2012–present</td>\n",
              "    </tr>\n",
              "    <tr>\n",
              "      <th>2898</th>\n",
              "      <td>99</td>\n",
              "      <td>\"Slide\"</td>\n",
              "      <td>[Slide]</td>\n",
              "      <td>/wiki/Slide_(H.E.R._song)</td>\n",
              "      <td>H.E.R.</td>\n",
              "      <td>/wiki/H.E.R.</td>\n",
              "      <td>2020</td>\n",
              "      <td>[/wiki/Contemporary_R%26B]</td>\n",
              "      <td>1997-06-27</td>\n",
              "      <td>2009–present</td>\n",
              "    </tr>\n",
              "  </tbody>\n",
              "</table>\n",
              "<p>2899 rows × 10 columns</p>\n",
              "</div>"
            ],
            "text/plain": [
              "     ranking  ...            ya\n",
              "0          1  ...  1987–present\n",
              "1         37  ...  1987–present\n",
              "2         84  ...  1987–present\n",
              "3         12  ...  1987–present\n",
              "4          3  ...  1987–present\n",
              "...      ...  ...           ...\n",
              "2894      84  ...  2017–present\n",
              "2895      94  ...  2002–present\n",
              "2896      95  ...  2019–present\n",
              "2897      98  ...  2012–present\n",
              "2898      99  ...  2009–present\n",
              "\n",
              "[2899 rows x 10 columns]"
            ]
          },
          "metadata": {
            "tags": []
          },
          "execution_count": 295
        }
      ]
    },
    {
      "cell_type": "markdown",
      "metadata": {
        "id": "XWlzfSxelm9y"
      },
      "source": [
        "Update the dataframe by adding a column for each genre with 1-0 encoding for each row. This means, we want columns like \"/wiki/Alternative_Rock\", \"/wiki/Acid_jazz\", where if an artist is in that genre, the dataframe cell has a 1. Otherwise, it has a 0.\n",
        "\n",
        "Remember that an artist/band can be in multiple genres, and must have a 1 for each column corresponding to these genres, and 0 otherwise.\n",
        "\n",
        "This will widen the dataframe by the total number of genres that we have. The expanded part will look a bit like this:\n",
        "\n",
        "![largedfexample](https://drive.google.com/uc?export=view&id=1YgIVsyjWLXIAipI5dF2H4fvAmQodpE8L)\n"
      ]
    },
    {
      "cell_type": "code",
      "metadata": {
        "id": "oh1QgHeTlm92",
        "jupyter": {
          "outputs_hidden": false
        },
        "colab": {
          "base_uri": "https://localhost:8080/",
          "height": 474
        },
        "outputId": "18717972-ea93-4a40-ba1e-9585ca6fa95b"
      },
      "source": [
        "#your code here\n",
        "merged_df['_gernes'] = merged_df['genres'].apply(genre_duplicates)\n",
        "m_gernes = merged_df['_gernes'].values.tolist()\n",
        "\n",
        "m_df = pd.DataFrame(m_gernes)\n",
        "d_df = pd.get_dummies(m_df)\n",
        "\n",
        "largedf = pd.concat([merged_df, d_df], axis=1)\n",
        "\n",
        "largedf.head()"
      ],
      "execution_count": 341,
      "outputs": [
        {
          "output_type": "execute_result",
          "data": {
            "text/html": [
              "<div>\n",
              "<style scoped>\n",
              "    .dataframe tbody tr th:only-of-type {\n",
              "        vertical-align: middle;\n",
              "    }\n",
              "\n",
              "    .dataframe tbody tr th {\n",
              "        vertical-align: top;\n",
              "    }\n",
              "\n",
              "    .dataframe thead th {\n",
              "        text-align: right;\n",
              "    }\n",
              "</style>\n",
              "<table border=\"1\" class=\"dataframe\">\n",
              "  <thead>\n",
              "    <tr style=\"text-align: right;\">\n",
              "      <th></th>\n",
              "      <th>ranking</th>\n",
              "      <th>titletext</th>\n",
              "      <th>song</th>\n",
              "      <th>songurl</th>\n",
              "      <th>band_singer</th>\n",
              "      <th>url</th>\n",
              "      <th>year</th>\n",
              "      <th>genres</th>\n",
              "      <th>born</th>\n",
              "      <th>ya</th>\n",
              "      <th>_gernes</th>\n",
              "      <th>0_/w/index.php?title=Soul_rock_(music)&amp;action=edit&amp;redlink=1</th>\n",
              "      <th>0_/wiki/Adult_contemporary</th>\n",
              "      <th>0_/wiki/Afrobeats</th>\n",
              "      <th>0_/wiki/Alternative_R%26B</th>\n",
              "      <th>0_/wiki/Alternative_Rock</th>\n",
              "      <th>0_/wiki/Alternative_folk</th>\n",
              "      <th>0_/wiki/Alternative_hip_hop</th>\n",
              "      <th>0_/wiki/Alternative_metal</th>\n",
              "      <th>0_/wiki/Arena_rock</th>\n",
              "      <th>0_/wiki/Blue-eyed_soul</th>\n",
              "      <th>0_/wiki/Blues_music</th>\n",
              "      <th>0_/wiki/Breakbeat</th>\n",
              "      <th>0_/wiki/Britpop</th>\n",
              "      <th>0_/wiki/Celtic_music</th>\n",
              "      <th>0_/wiki/Comedy_rock</th>\n",
              "      <th>0_/wiki/Contemporary_Christian_music</th>\n",
              "      <th>0_/wiki/Contemporary_R%26B_music</th>\n",
              "      <th>0_/wiki/Contemporary_folk_music</th>\n",
              "      <th>0_/wiki/Country_music</th>\n",
              "      <th>0_/wiki/Country_pop</th>\n",
              "      <th>0_/wiki/Dance-pop</th>\n",
              "      <th>0_/wiki/Dance-rock</th>\n",
              "      <th>0_/wiki/Dance_music</th>\n",
              "      <th>0_/wiki/Deep_house</th>\n",
              "      <th>0_/wiki/East_coast_hip_hop</th>\n",
              "      <th>0_/wiki/Electro-pop</th>\n",
              "      <th>0_/wiki/Electronic_dance_music</th>\n",
              "      <th>0_/wiki/Electronic_music</th>\n",
              "      <th>0_/wiki/Electronica_music</th>\n",
              "      <th>...</th>\n",
              "      <th>10_#cite_note-5</th>\n",
              "      <th>10_#cite_note-6</th>\n",
              "      <th>10_#cite_note-7</th>\n",
              "      <th>10_#cite_note-Endelman-4</th>\n",
              "      <th>10_#cite_note-onehit-4</th>\n",
              "      <th>10_/wiki/Alternative_metal</th>\n",
              "      <th>10_/wiki/Emo_music</th>\n",
              "      <th>10_/wiki/Hard_rock</th>\n",
              "      <th>10_/wiki/Jazz</th>\n",
              "      <th>10_/wiki/Jazz_fusion</th>\n",
              "      <th>10_/wiki/Neo-psychedelia</th>\n",
              "      <th>10_/wiki/New_wave_music</th>\n",
              "      <th>10_/wiki/Pop_music</th>\n",
              "      <th>10_/wiki/Progressive_house</th>\n",
              "      <th>10_/wiki/Reggae</th>\n",
              "      <th>10_/wiki/Surf_music</th>\n",
              "      <th>11_#cite_note-3</th>\n",
              "      <th>11_#cite_note-5</th>\n",
              "      <th>11_#cite_note-6</th>\n",
              "      <th>11_#cite_note-7</th>\n",
              "      <th>11_#cite_note-AllMusicBio-1</th>\n",
              "      <th>11_#cite_note-VMP-20180307-6</th>\n",
              "      <th>11_#cite_note-nl.newsbank.com-4</th>\n",
              "      <th>11_#cite_note-toc-4</th>\n",
              "      <th>11_/wiki/Alternative_Rock</th>\n",
              "      <th>11_/wiki/Electro-pop</th>\n",
              "      <th>11_/wiki/Industrial_music</th>\n",
              "      <th>11_/wiki/Pop_rock</th>\n",
              "      <th>12_#cite_note-8</th>\n",
              "      <th>12_#cite_note-IGN-2</th>\n",
              "      <th>12_#cite_note-solo-5</th>\n",
              "      <th>12_/wiki/Adult_contemporary</th>\n",
              "      <th>12_/wiki/Alternative_pop</th>\n",
              "      <th>12_/wiki/Avant-garde_music</th>\n",
              "      <th>12_/wiki/New_wave_music</th>\n",
              "      <th>13_#cite_note-4</th>\n",
              "      <th>13_#cite_note-7</th>\n",
              "      <th>13_#cite_note-8</th>\n",
              "      <th>13_/wiki/Post-punk</th>\n",
              "      <th>14_#cite_note-biography-3</th>\n",
              "    </tr>\n",
              "  </thead>\n",
              "  <tbody>\n",
              "    <tr>\n",
              "      <th>0</th>\n",
              "      <td>1</td>\n",
              "      <td>\"End of the Road\"</td>\n",
              "      <td>[End of the Road]</td>\n",
              "      <td>/wiki/End_of_the_Road_(Boyz_II_Men_song)</td>\n",
              "      <td>Boyz II Men</td>\n",
              "      <td>/wiki/Boyz_II_Men</td>\n",
              "      <td>1992</td>\n",
              "      <td>[/wiki/Contemporary_R%26B_music, /wiki/New_jac...</td>\n",
              "      <td>False</td>\n",
              "      <td>1987–present</td>\n",
              "      <td>[/wiki/Contemporary_R%26B_music, /wiki/New_jac...</td>\n",
              "      <td>0</td>\n",
              "      <td>0</td>\n",
              "      <td>0</td>\n",
              "      <td>0</td>\n",
              "      <td>0</td>\n",
              "      <td>0</td>\n",
              "      <td>0</td>\n",
              "      <td>0</td>\n",
              "      <td>0</td>\n",
              "      <td>0</td>\n",
              "      <td>0</td>\n",
              "      <td>0</td>\n",
              "      <td>0</td>\n",
              "      <td>0</td>\n",
              "      <td>0</td>\n",
              "      <td>0</td>\n",
              "      <td>1</td>\n",
              "      <td>0</td>\n",
              "      <td>0</td>\n",
              "      <td>0</td>\n",
              "      <td>0</td>\n",
              "      <td>0</td>\n",
              "      <td>0</td>\n",
              "      <td>0</td>\n",
              "      <td>0</td>\n",
              "      <td>0</td>\n",
              "      <td>0</td>\n",
              "      <td>0</td>\n",
              "      <td>0</td>\n",
              "      <td>...</td>\n",
              "      <td>0</td>\n",
              "      <td>0</td>\n",
              "      <td>0</td>\n",
              "      <td>0</td>\n",
              "      <td>0</td>\n",
              "      <td>0</td>\n",
              "      <td>0</td>\n",
              "      <td>0</td>\n",
              "      <td>0</td>\n",
              "      <td>0</td>\n",
              "      <td>0</td>\n",
              "      <td>0</td>\n",
              "      <td>0</td>\n",
              "      <td>0</td>\n",
              "      <td>0</td>\n",
              "      <td>0</td>\n",
              "      <td>0</td>\n",
              "      <td>0</td>\n",
              "      <td>0</td>\n",
              "      <td>0</td>\n",
              "      <td>0</td>\n",
              "      <td>0</td>\n",
              "      <td>0</td>\n",
              "      <td>0</td>\n",
              "      <td>0</td>\n",
              "      <td>0</td>\n",
              "      <td>0</td>\n",
              "      <td>0</td>\n",
              "      <td>0</td>\n",
              "      <td>0</td>\n",
              "      <td>0</td>\n",
              "      <td>0</td>\n",
              "      <td>0</td>\n",
              "      <td>0</td>\n",
              "      <td>0</td>\n",
              "      <td>0</td>\n",
              "      <td>0</td>\n",
              "      <td>0</td>\n",
              "      <td>0</td>\n",
              "      <td>0</td>\n",
              "    </tr>\n",
              "    <tr>\n",
              "      <th>1</th>\n",
              "      <td>37</td>\n",
              "      <td>\"It's So Hard to Say Goodbye to Yesterday\"</td>\n",
              "      <td>[It's So Hard to Say Goodbye to Yesterday]</td>\n",
              "      <td>/wiki/It%27s_So_Hard_to_Say_Goodbye_to_Yesterday</td>\n",
              "      <td>Boyz II Men</td>\n",
              "      <td>/wiki/Boyz_II_Men</td>\n",
              "      <td>1992</td>\n",
              "      <td>[/wiki/Contemporary_R%26B_music, /wiki/New_jac...</td>\n",
              "      <td>False</td>\n",
              "      <td>1987–present</td>\n",
              "      <td>[/wiki/Contemporary_R%26B_music, /wiki/New_jac...</td>\n",
              "      <td>0</td>\n",
              "      <td>0</td>\n",
              "      <td>0</td>\n",
              "      <td>0</td>\n",
              "      <td>0</td>\n",
              "      <td>0</td>\n",
              "      <td>0</td>\n",
              "      <td>0</td>\n",
              "      <td>0</td>\n",
              "      <td>0</td>\n",
              "      <td>0</td>\n",
              "      <td>0</td>\n",
              "      <td>0</td>\n",
              "      <td>0</td>\n",
              "      <td>0</td>\n",
              "      <td>0</td>\n",
              "      <td>1</td>\n",
              "      <td>0</td>\n",
              "      <td>0</td>\n",
              "      <td>0</td>\n",
              "      <td>0</td>\n",
              "      <td>0</td>\n",
              "      <td>0</td>\n",
              "      <td>0</td>\n",
              "      <td>0</td>\n",
              "      <td>0</td>\n",
              "      <td>0</td>\n",
              "      <td>0</td>\n",
              "      <td>0</td>\n",
              "      <td>...</td>\n",
              "      <td>0</td>\n",
              "      <td>0</td>\n",
              "      <td>0</td>\n",
              "      <td>0</td>\n",
              "      <td>0</td>\n",
              "      <td>0</td>\n",
              "      <td>0</td>\n",
              "      <td>0</td>\n",
              "      <td>0</td>\n",
              "      <td>0</td>\n",
              "      <td>0</td>\n",
              "      <td>0</td>\n",
              "      <td>0</td>\n",
              "      <td>0</td>\n",
              "      <td>0</td>\n",
              "      <td>0</td>\n",
              "      <td>0</td>\n",
              "      <td>0</td>\n",
              "      <td>0</td>\n",
              "      <td>0</td>\n",
              "      <td>0</td>\n",
              "      <td>0</td>\n",
              "      <td>0</td>\n",
              "      <td>0</td>\n",
              "      <td>0</td>\n",
              "      <td>0</td>\n",
              "      <td>0</td>\n",
              "      <td>0</td>\n",
              "      <td>0</td>\n",
              "      <td>0</td>\n",
              "      <td>0</td>\n",
              "      <td>0</td>\n",
              "      <td>0</td>\n",
              "      <td>0</td>\n",
              "      <td>0</td>\n",
              "      <td>0</td>\n",
              "      <td>0</td>\n",
              "      <td>0</td>\n",
              "      <td>0</td>\n",
              "      <td>0</td>\n",
              "    </tr>\n",
              "    <tr>\n",
              "      <th>2</th>\n",
              "      <td>84</td>\n",
              "      <td>\"Uhh Ahh\"</td>\n",
              "      <td>[Uhh Ahh]</td>\n",
              "      <td>/wiki/Uhh_Ahh</td>\n",
              "      <td>Boyz II Men</td>\n",
              "      <td>/wiki/Boyz_II_Men</td>\n",
              "      <td>1992</td>\n",
              "      <td>[/wiki/Contemporary_R%26B_music, /wiki/New_jac...</td>\n",
              "      <td>False</td>\n",
              "      <td>1987–present</td>\n",
              "      <td>[/wiki/Contemporary_R%26B_music, /wiki/New_jac...</td>\n",
              "      <td>0</td>\n",
              "      <td>0</td>\n",
              "      <td>0</td>\n",
              "      <td>0</td>\n",
              "      <td>0</td>\n",
              "      <td>0</td>\n",
              "      <td>0</td>\n",
              "      <td>0</td>\n",
              "      <td>0</td>\n",
              "      <td>0</td>\n",
              "      <td>0</td>\n",
              "      <td>0</td>\n",
              "      <td>0</td>\n",
              "      <td>0</td>\n",
              "      <td>0</td>\n",
              "      <td>0</td>\n",
              "      <td>1</td>\n",
              "      <td>0</td>\n",
              "      <td>0</td>\n",
              "      <td>0</td>\n",
              "      <td>0</td>\n",
              "      <td>0</td>\n",
              "      <td>0</td>\n",
              "      <td>0</td>\n",
              "      <td>0</td>\n",
              "      <td>0</td>\n",
              "      <td>0</td>\n",
              "      <td>0</td>\n",
              "      <td>0</td>\n",
              "      <td>...</td>\n",
              "      <td>0</td>\n",
              "      <td>0</td>\n",
              "      <td>0</td>\n",
              "      <td>0</td>\n",
              "      <td>0</td>\n",
              "      <td>0</td>\n",
              "      <td>0</td>\n",
              "      <td>0</td>\n",
              "      <td>0</td>\n",
              "      <td>0</td>\n",
              "      <td>0</td>\n",
              "      <td>0</td>\n",
              "      <td>0</td>\n",
              "      <td>0</td>\n",
              "      <td>0</td>\n",
              "      <td>0</td>\n",
              "      <td>0</td>\n",
              "      <td>0</td>\n",
              "      <td>0</td>\n",
              "      <td>0</td>\n",
              "      <td>0</td>\n",
              "      <td>0</td>\n",
              "      <td>0</td>\n",
              "      <td>0</td>\n",
              "      <td>0</td>\n",
              "      <td>0</td>\n",
              "      <td>0</td>\n",
              "      <td>0</td>\n",
              "      <td>0</td>\n",
              "      <td>0</td>\n",
              "      <td>0</td>\n",
              "      <td>0</td>\n",
              "      <td>0</td>\n",
              "      <td>0</td>\n",
              "      <td>0</td>\n",
              "      <td>0</td>\n",
              "      <td>0</td>\n",
              "      <td>0</td>\n",
              "      <td>0</td>\n",
              "      <td>0</td>\n",
              "    </tr>\n",
              "    <tr>\n",
              "      <th>3</th>\n",
              "      <td>12</td>\n",
              "      <td>\"In the Still of the Nite\"</td>\n",
              "      <td>[In the Still of the Nite]</td>\n",
              "      <td>/wiki/In_the_Still_of_the_Night_(1956_song)#Bo...</td>\n",
              "      <td>Boyz II Men</td>\n",
              "      <td>/wiki/Boyz_II_Men</td>\n",
              "      <td>1993</td>\n",
              "      <td>[/wiki/Contemporary_R%26B_music, /wiki/New_jac...</td>\n",
              "      <td>False</td>\n",
              "      <td>1987–present</td>\n",
              "      <td>[/wiki/Contemporary_R%26B_music, /wiki/New_jac...</td>\n",
              "      <td>0</td>\n",
              "      <td>0</td>\n",
              "      <td>0</td>\n",
              "      <td>0</td>\n",
              "      <td>0</td>\n",
              "      <td>0</td>\n",
              "      <td>0</td>\n",
              "      <td>0</td>\n",
              "      <td>0</td>\n",
              "      <td>0</td>\n",
              "      <td>0</td>\n",
              "      <td>0</td>\n",
              "      <td>0</td>\n",
              "      <td>0</td>\n",
              "      <td>0</td>\n",
              "      <td>0</td>\n",
              "      <td>1</td>\n",
              "      <td>0</td>\n",
              "      <td>0</td>\n",
              "      <td>0</td>\n",
              "      <td>0</td>\n",
              "      <td>0</td>\n",
              "      <td>0</td>\n",
              "      <td>0</td>\n",
              "      <td>0</td>\n",
              "      <td>0</td>\n",
              "      <td>0</td>\n",
              "      <td>0</td>\n",
              "      <td>0</td>\n",
              "      <td>...</td>\n",
              "      <td>0</td>\n",
              "      <td>0</td>\n",
              "      <td>0</td>\n",
              "      <td>0</td>\n",
              "      <td>0</td>\n",
              "      <td>0</td>\n",
              "      <td>0</td>\n",
              "      <td>0</td>\n",
              "      <td>0</td>\n",
              "      <td>0</td>\n",
              "      <td>0</td>\n",
              "      <td>0</td>\n",
              "      <td>0</td>\n",
              "      <td>0</td>\n",
              "      <td>0</td>\n",
              "      <td>0</td>\n",
              "      <td>0</td>\n",
              "      <td>0</td>\n",
              "      <td>0</td>\n",
              "      <td>0</td>\n",
              "      <td>0</td>\n",
              "      <td>0</td>\n",
              "      <td>0</td>\n",
              "      <td>0</td>\n",
              "      <td>0</td>\n",
              "      <td>0</td>\n",
              "      <td>0</td>\n",
              "      <td>0</td>\n",
              "      <td>0</td>\n",
              "      <td>0</td>\n",
              "      <td>0</td>\n",
              "      <td>0</td>\n",
              "      <td>0</td>\n",
              "      <td>0</td>\n",
              "      <td>0</td>\n",
              "      <td>0</td>\n",
              "      <td>0</td>\n",
              "      <td>0</td>\n",
              "      <td>0</td>\n",
              "      <td>0</td>\n",
              "    </tr>\n",
              "    <tr>\n",
              "      <th>4</th>\n",
              "      <td>3</td>\n",
              "      <td>\"I'll Make Love to You\"</td>\n",
              "      <td>[I'll Make Love to You]</td>\n",
              "      <td>/wiki/I%27ll_Make_Love_to_You</td>\n",
              "      <td>Boyz II Men</td>\n",
              "      <td>/wiki/Boyz_II_Men</td>\n",
              "      <td>1994</td>\n",
              "      <td>[/wiki/Contemporary_R%26B_music, /wiki/New_jac...</td>\n",
              "      <td>False</td>\n",
              "      <td>1987–present</td>\n",
              "      <td>[/wiki/Contemporary_R%26B_music, /wiki/New_jac...</td>\n",
              "      <td>0</td>\n",
              "      <td>0</td>\n",
              "      <td>0</td>\n",
              "      <td>0</td>\n",
              "      <td>0</td>\n",
              "      <td>0</td>\n",
              "      <td>0</td>\n",
              "      <td>0</td>\n",
              "      <td>0</td>\n",
              "      <td>0</td>\n",
              "      <td>0</td>\n",
              "      <td>0</td>\n",
              "      <td>0</td>\n",
              "      <td>0</td>\n",
              "      <td>0</td>\n",
              "      <td>0</td>\n",
              "      <td>1</td>\n",
              "      <td>0</td>\n",
              "      <td>0</td>\n",
              "      <td>0</td>\n",
              "      <td>0</td>\n",
              "      <td>0</td>\n",
              "      <td>0</td>\n",
              "      <td>0</td>\n",
              "      <td>0</td>\n",
              "      <td>0</td>\n",
              "      <td>0</td>\n",
              "      <td>0</td>\n",
              "      <td>0</td>\n",
              "      <td>...</td>\n",
              "      <td>0</td>\n",
              "      <td>0</td>\n",
              "      <td>0</td>\n",
              "      <td>0</td>\n",
              "      <td>0</td>\n",
              "      <td>0</td>\n",
              "      <td>0</td>\n",
              "      <td>0</td>\n",
              "      <td>0</td>\n",
              "      <td>0</td>\n",
              "      <td>0</td>\n",
              "      <td>0</td>\n",
              "      <td>0</td>\n",
              "      <td>0</td>\n",
              "      <td>0</td>\n",
              "      <td>0</td>\n",
              "      <td>0</td>\n",
              "      <td>0</td>\n",
              "      <td>0</td>\n",
              "      <td>0</td>\n",
              "      <td>0</td>\n",
              "      <td>0</td>\n",
              "      <td>0</td>\n",
              "      <td>0</td>\n",
              "      <td>0</td>\n",
              "      <td>0</td>\n",
              "      <td>0</td>\n",
              "      <td>0</td>\n",
              "      <td>0</td>\n",
              "      <td>0</td>\n",
              "      <td>0</td>\n",
              "      <td>0</td>\n",
              "      <td>0</td>\n",
              "      <td>0</td>\n",
              "      <td>0</td>\n",
              "      <td>0</td>\n",
              "      <td>0</td>\n",
              "      <td>0</td>\n",
              "      <td>0</td>\n",
              "      <td>0</td>\n",
              "    </tr>\n",
              "  </tbody>\n",
              "</table>\n",
              "<p>5 rows × 958 columns</p>\n",
              "</div>"
            ],
            "text/plain": [
              "  ranking  ... 14_#cite_note-biography-3\n",
              "0       1  ...                         0\n",
              "1      37  ...                         0\n",
              "2      84  ...                         0\n",
              "3      12  ...                         0\n",
              "4       3  ...                         0\n",
              "\n",
              "[5 rows x 958 columns]"
            ]
          },
          "metadata": {
            "tags": []
          },
          "execution_count": 341
        }
      ]
    },
    {
      "cell_type": "markdown",
      "metadata": {
        "id": "OTAqUUSFTOlg"
      },
      "source": [
        "Ensure the data types of the dataframe is correct"
      ]
    },
    {
      "cell_type": "code",
      "metadata": {
        "id": "BUFfkyyKusfS",
        "colab": {
          "base_uri": "https://localhost:8080/"
        },
        "outputId": "e9e4eb17-6abf-425d-b6ec-c4b5110fe5da"
      },
      "source": [
        "#your code here\r\n",
        "largedf.dtypes"
      ],
      "execution_count": 342,
      "outputs": [
        {
          "output_type": "execute_result",
          "data": {
            "text/plain": [
              "ranking                      object\n",
              "titletext                    object\n",
              "song                         object\n",
              "songurl                      object\n",
              "band_singer                  object\n",
              "                              ...  \n",
              "13_#cite_note-4               uint8\n",
              "13_#cite_note-7               uint8\n",
              "13_#cite_note-8               uint8\n",
              "13_/wiki/Post-punk            uint8\n",
              "14_#cite_note-biography-3     uint8\n",
              "Length: 958, dtype: object"
            ]
          },
          "metadata": {
            "tags": []
          },
          "execution_count": 342
        }
      ]
    },
    {
      "cell_type": "code",
      "metadata": {
        "id": "9M9HSYg_W-1G",
        "colab": {
          "base_uri": "https://localhost:8080/",
          "height": 341
        },
        "outputId": "1fd000b7-470f-4c25-aa00-1c9ade4c4c82"
      },
      "source": [
        "#Store the dataframe to use in HW-2 \r\n",
        "largedf.to_pickle('largedf')\r\n",
        "del largedf"
      ],
      "execution_count": 345,
      "outputs": [
        {
          "output_type": "error",
          "ename": "RecursionError",
          "evalue": "ignored",
          "traceback": [
            "\u001b[0;31m---------------------------------------------------------------------------\u001b[0m",
            "\u001b[0;31mRecursionError\u001b[0m                            Traceback (most recent call last)",
            "\u001b[0;32m<ipython-input-345-f15eb334c025>\u001b[0m in \u001b[0;36m<module>\u001b[0;34m()\u001b[0m\n\u001b[1;32m      1\u001b[0m \u001b[0;31m#Store the dataframe to use in HW-2\u001b[0m\u001b[0;34m\u001b[0m\u001b[0;34m\u001b[0m\u001b[0;34m\u001b[0m\u001b[0m\n\u001b[0;32m----> 2\u001b[0;31m \u001b[0mlargedf\u001b[0m\u001b[0;34m.\u001b[0m\u001b[0mto_pickle\u001b[0m\u001b[0;34m(\u001b[0m\u001b[0;34m'largedf'\u001b[0m\u001b[0;34m)\u001b[0m\u001b[0;34m\u001b[0m\u001b[0;34m\u001b[0m\u001b[0m\n\u001b[0m\u001b[1;32m      3\u001b[0m \u001b[0;32mdel\u001b[0m \u001b[0mlargedf\u001b[0m\u001b[0;34m\u001b[0m\u001b[0;34m\u001b[0m\u001b[0m\n",
            "\u001b[0;32m/usr/local/lib/python3.6/dist-packages/pandas/core/generic.py\u001b[0m in \u001b[0;36mto_pickle\u001b[0;34m(self, path, compression, protocol)\u001b[0m\n\u001b[1;32m   2674\u001b[0m         \u001b[0;32mfrom\u001b[0m \u001b[0mpandas\u001b[0m\u001b[0;34m.\u001b[0m\u001b[0mio\u001b[0m\u001b[0;34m.\u001b[0m\u001b[0mpickle\u001b[0m \u001b[0;32mimport\u001b[0m \u001b[0mto_pickle\u001b[0m\u001b[0;34m\u001b[0m\u001b[0;34m\u001b[0m\u001b[0m\n\u001b[1;32m   2675\u001b[0m \u001b[0;34m\u001b[0m\u001b[0m\n\u001b[0;32m-> 2676\u001b[0;31m         \u001b[0mto_pickle\u001b[0m\u001b[0;34m(\u001b[0m\u001b[0mself\u001b[0m\u001b[0;34m,\u001b[0m \u001b[0mpath\u001b[0m\u001b[0;34m,\u001b[0m \u001b[0mcompression\u001b[0m\u001b[0;34m=\u001b[0m\u001b[0mcompression\u001b[0m\u001b[0;34m,\u001b[0m \u001b[0mprotocol\u001b[0m\u001b[0;34m=\u001b[0m\u001b[0mprotocol\u001b[0m\u001b[0;34m)\u001b[0m\u001b[0;34m\u001b[0m\u001b[0;34m\u001b[0m\u001b[0m\n\u001b[0m\u001b[1;32m   2677\u001b[0m \u001b[0;34m\u001b[0m\u001b[0m\n\u001b[1;32m   2678\u001b[0m     def to_clipboard(\n",
            "\u001b[0;32m/usr/local/lib/python3.6/dist-packages/pandas/io/pickle.py\u001b[0m in \u001b[0;36mto_pickle\u001b[0;34m(obj, filepath_or_buffer, compression, protocol)\u001b[0m\n\u001b[1;32m     85\u001b[0m         \u001b[0mprotocol\u001b[0m \u001b[0;34m=\u001b[0m \u001b[0mpickle\u001b[0m\u001b[0;34m.\u001b[0m\u001b[0mHIGHEST_PROTOCOL\u001b[0m\u001b[0;34m\u001b[0m\u001b[0;34m\u001b[0m\u001b[0m\n\u001b[1;32m     86\u001b[0m     \u001b[0;32mtry\u001b[0m\u001b[0;34m:\u001b[0m\u001b[0;34m\u001b[0m\u001b[0;34m\u001b[0m\u001b[0m\n\u001b[0;32m---> 87\u001b[0;31m         \u001b[0mf\u001b[0m\u001b[0;34m.\u001b[0m\u001b[0mwrite\u001b[0m\u001b[0;34m(\u001b[0m\u001b[0mpickle\u001b[0m\u001b[0;34m.\u001b[0m\u001b[0mdumps\u001b[0m\u001b[0;34m(\u001b[0m\u001b[0mobj\u001b[0m\u001b[0;34m,\u001b[0m \u001b[0mprotocol\u001b[0m\u001b[0;34m=\u001b[0m\u001b[0mprotocol\u001b[0m\u001b[0;34m)\u001b[0m\u001b[0;34m)\u001b[0m\u001b[0;34m\u001b[0m\u001b[0;34m\u001b[0m\u001b[0m\n\u001b[0m\u001b[1;32m     88\u001b[0m     \u001b[0;32mfinally\u001b[0m\u001b[0;34m:\u001b[0m\u001b[0;34m\u001b[0m\u001b[0;34m\u001b[0m\u001b[0m\n\u001b[1;32m     89\u001b[0m         \u001b[0mf\u001b[0m\u001b[0;34m.\u001b[0m\u001b[0mclose\u001b[0m\u001b[0;34m(\u001b[0m\u001b[0;34m)\u001b[0m\u001b[0;34m\u001b[0m\u001b[0;34m\u001b[0m\u001b[0m\n",
            "\u001b[0;31mRecursionError\u001b[0m: maximum recursion depth exceeded while calling a Python object"
          ]
        }
      ]
    },
    {
      "cell_type": "code",
      "metadata": {
        "id": "VzDU-GJ-BjtJ",
        "colab": {
          "base_uri": "https://localhost:8080/",
          "height": 317
        },
        "outputId": "c33545c1-4c53-4d1b-cfc3-bdb706324f9c"
      },
      "source": [
        "#Loading in dataframe\r\n",
        "largedf = pd.read_pickle('largedf')\r\n",
        "largedf.head()"
      ],
      "execution_count": 346,
      "outputs": [
        {
          "output_type": "error",
          "ename": "EOFError",
          "evalue": "ignored",
          "traceback": [
            "\u001b[0;31m---------------------------------------------------------------------------\u001b[0m",
            "\u001b[0;31mEOFError\u001b[0m                                  Traceback (most recent call last)",
            "\u001b[0;32m<ipython-input-346-58f30b67b4ac>\u001b[0m in \u001b[0;36m<module>\u001b[0;34m()\u001b[0m\n\u001b[1;32m      1\u001b[0m \u001b[0;31m#Loading in dataframe\u001b[0m\u001b[0;34m\u001b[0m\u001b[0;34m\u001b[0m\u001b[0;34m\u001b[0m\u001b[0m\n\u001b[0;32m----> 2\u001b[0;31m \u001b[0mlargedf\u001b[0m \u001b[0;34m=\u001b[0m \u001b[0mpd\u001b[0m\u001b[0;34m.\u001b[0m\u001b[0mread_pickle\u001b[0m\u001b[0;34m(\u001b[0m\u001b[0;34m'largedf'\u001b[0m\u001b[0;34m)\u001b[0m\u001b[0;34m\u001b[0m\u001b[0;34m\u001b[0m\u001b[0m\n\u001b[0m\u001b[1;32m      3\u001b[0m \u001b[0mlargedf\u001b[0m\u001b[0;34m.\u001b[0m\u001b[0mhead\u001b[0m\u001b[0;34m(\u001b[0m\u001b[0;34m)\u001b[0m\u001b[0;34m\u001b[0m\u001b[0;34m\u001b[0m\u001b[0m\n",
            "\u001b[0;32m/usr/local/lib/python3.6/dist-packages/pandas/io/pickle.py\u001b[0m in \u001b[0;36mread_pickle\u001b[0;34m(filepath_or_buffer, compression)\u001b[0m\n\u001b[1;32m    180\u001b[0m                 \u001b[0;31m# We want to silence any warnings about, e.g. moved modules.\u001b[0m\u001b[0;34m\u001b[0m\u001b[0;34m\u001b[0m\u001b[0;34m\u001b[0m\u001b[0m\n\u001b[1;32m    181\u001b[0m                 \u001b[0mwarnings\u001b[0m\u001b[0;34m.\u001b[0m\u001b[0msimplefilter\u001b[0m\u001b[0;34m(\u001b[0m\u001b[0;34m\"ignore\"\u001b[0m\u001b[0;34m,\u001b[0m \u001b[0mWarning\u001b[0m\u001b[0;34m)\u001b[0m\u001b[0;34m\u001b[0m\u001b[0;34m\u001b[0m\u001b[0m\n\u001b[0;32m--> 182\u001b[0;31m                 \u001b[0;32mreturn\u001b[0m \u001b[0mpickle\u001b[0m\u001b[0;34m.\u001b[0m\u001b[0mload\u001b[0m\u001b[0;34m(\u001b[0m\u001b[0mf\u001b[0m\u001b[0;34m)\u001b[0m\u001b[0;34m\u001b[0m\u001b[0;34m\u001b[0m\u001b[0m\n\u001b[0m\u001b[1;32m    183\u001b[0m         \u001b[0;32mexcept\u001b[0m \u001b[0mexcs_to_catch\u001b[0m\u001b[0;34m:\u001b[0m\u001b[0;34m\u001b[0m\u001b[0;34m\u001b[0m\u001b[0m\n\u001b[1;32m    184\u001b[0m             \u001b[0;31m# e.g.\u001b[0m\u001b[0;34m\u001b[0m\u001b[0;34m\u001b[0m\u001b[0;34m\u001b[0m\u001b[0m\n",
            "\u001b[0;31mEOFError\u001b[0m: Ran out of input"
          ]
        }
      ]
    },
    {
      "cell_type": "markdown",
      "metadata": {
        "id": "v7mvhskZlm-W"
      },
      "source": [
        "## Q5: Pandas and Relational databases\n",
        "#### [20 points]"
      ]
    },
    {
      "cell_type": "markdown",
      "metadata": {
        "id": "EBJ95eXwlm-i"
      },
      "source": [
        "### 5.1 Populating the database"
      ]
    },
    {
      "cell_type": "markdown",
      "metadata": {
        "id": "VTdi6of6lm-n"
      },
      "source": [
        "We use sqlite3 here. There is an even higher level API available, called SQLAlchemy.  However SQLite is built into Python and also has a command line tool and sqlite browser that you can install. "
      ]
    },
    {
      "cell_type": "code",
      "metadata": {
        "id": "jA6D06EwFiqF"
      },
      "source": [
        "import sqlite3 as sql"
      ],
      "execution_count": 347,
      "outputs": []
    },
    {
      "cell_type": "markdown",
      "metadata": {
        "id": "KMIIU4Q8FmkE"
      },
      "source": [
        "Let us start by creating our schema to set the type of each column in our dataframe."
      ]
    },
    {
      "cell_type": "code",
      "metadata": {
        "id": "EaU9NgFxKdL3"
      },
      "source": [
        "#your code here \r\n",
        "#ourschema=''"
      ],
      "execution_count": null,
      "outputs": []
    },
    {
      "cell_type": "markdown",
      "metadata": {
        "id": "MNaaiKo4FKvi"
      },
      "source": [
        "Next, create a connection object which will connect us to the database and will let us execute the SQL statements. \r\n",
        "Create an object of the cursor using the connection object and execute our schema. \r\n",
        "Finally, use the `to_sql` function and convert our large expanded dataframe from the last section to a table."
      ]
    },
    {
      "cell_type": "code",
      "metadata": {
        "id": "qLOXLo2VHS52"
      },
      "source": [
        "#your code here\r\n",
        "\r\n",
        "\r\n"
      ],
      "execution_count": null,
      "outputs": []
    },
    {
      "cell_type": "markdown",
      "metadata": {
        "id": "lg-gMIZTlm_B"
      },
      "source": [
        "### 5.2 Performing operations on the database"
      ]
    },
    {
      "cell_type": "markdown",
      "metadata": {
        "id": "Ddf94jAUOjJf"
      },
      "source": [
        "Answer the following questions by writing SQL statements."
      ]
    },
    {
      "cell_type": "markdown",
      "metadata": {
        "id": "9ptRH0PRHq10"
      },
      "source": [
        "#### 5.2.1 Select all singers below the age of 20 whos Zodiac Sign is Scorpio! "
      ]
    },
    {
      "cell_type": "code",
      "metadata": {
        "id": "YyuqKAuAF5ZQ"
      },
      "source": [
        "#your code here\r\n",
        "\r\n",
        "\r\n"
      ],
      "execution_count": null,
      "outputs": []
    },
    {
      "cell_type": "markdown",
      "metadata": {
        "id": "vkU3G3UDH6yn"
      },
      "source": [
        "#### 5.2.2 Find the most popular artists with most appearances in Billboard Top 10"
      ]
    },
    {
      "cell_type": "code",
      "metadata": {
        "id": "Dh74afqzGjXb"
      },
      "source": [
        "#your code here\r\n",
        "\r\n",
        "\r\n"
      ],
      "execution_count": null,
      "outputs": []
    },
    {
      "cell_type": "markdown",
      "metadata": {
        "id": "bhy0LnUiIIjE"
      },
      "source": [
        "#### 5.2.3 Select all songs with ranking less than 6 and order the rows by artist name"
      ]
    },
    {
      "cell_type": "code",
      "metadata": {
        "id": "_MolYEOfIHTZ"
      },
      "source": [
        "#your code here \r\n",
        "\r\n",
        "\r\n"
      ],
      "execution_count": null,
      "outputs": []
    },
    {
      "cell_type": "code",
      "metadata": {
        "id": "LD8PC24kNbVI"
      },
      "source": [
        ""
      ],
      "execution_count": null,
      "outputs": []
    }
  ]
}